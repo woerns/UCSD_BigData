{
 "metadata": {
  "name": "",
  "signature": "sha256:a14292074821d1ad3eed55dbfc97ad88a76be0d7579001fa401c2f7354c21c1f"
 },
 "nbformat": 3,
 "nbformat_minor": 0,
 "worksheets": [
  {
   "cells": [
    {
     "cell_type": "code",
     "collapsed": false,
     "input": [
      "import pandas as pd\n",
      "import numpy as np\n",
      "import sklearn as sk\n",
      "print 'pandas version: ',pd.__version__\n",
      "print 'numpy version:',np.__version__\n",
      "print 'sklearn version:',sk.__version__"
     ],
     "language": "python",
     "metadata": {},
     "outputs": [
      {
       "output_type": "stream",
       "stream": "stdout",
       "text": [
        "pandas version:  0.13.1\n",
        "numpy version: 1.8.1\n",
        "sklearn version: 0.14.1\n"
       ]
      }
     ],
     "prompt_number": 1
    },
    {
     "cell_type": "code",
     "collapsed": false,
     "input": [
      "home_dir='/home/ubuntu'\n",
      "data_dir=home_dir+'/woerns/UCSD_BigData/data/weather'\n",
      "!ls $data_dir\n",
      "!pwd"
     ],
     "language": "python",
     "metadata": {},
     "outputs": [
      {
       "output_type": "stream",
       "stream": "stdout",
       "text": [
        "ALL.head.csv\t  ghcnd-stations_buffered.txt  SAMPLE_TMAX.csv\r\n",
        "data-source.txt   ghcnd-stations.txt\t       SAMPLE_TMAX.csv.old.gz\r\n",
        "ghcnd-readme.txt  ghcnd-version.txt\r\n"
       ]
      },
      {
       "output_type": "stream",
       "stream": "stdout",
       "text": [
        "/home/ubuntu/woerns/UCSD_BigData/notebooks/weather.mapreduce\r\n"
       ]
      }
     ],
     "prompt_number": 7
    },
    {
     "cell_type": "code",
     "collapsed": false,
     "input": [
      "import pickle\n",
      "with open('stations.pkl','wb') as file:\n",
      "    pickle.dump(stations,file, pickle.HIGHEST_PROTOCOL)\n",
      "!rm Stat2Lat.pkl\n",
      "!ls -l stations.pkl\n",
      "!gzip stations.pkl\n",
      "!ls -l stations.pkl*\n",
      "!ls -l $data_dir/ghcnd-stations.txt"
     ],
     "language": "python",
     "metadata": {},
     "outputs": [
      {
       "ename": "NameError",
       "evalue": "name 'stations' is not defined",
       "output_type": "pyerr",
       "traceback": [
        "\u001b[1;31m---------------------------------------------------------------------------\u001b[0m\n\u001b[1;31mNameError\u001b[0m                                 Traceback (most recent call last)",
        "\u001b[1;32m<ipython-input-9-c493ec3dc061>\u001b[0m in \u001b[0;36m<module>\u001b[1;34m()\u001b[0m\n\u001b[0;32m      1\u001b[0m \u001b[1;32mimport\u001b[0m \u001b[0mpickle\u001b[0m\u001b[1;33m\u001b[0m\u001b[0m\n\u001b[0;32m      2\u001b[0m \u001b[1;32mwith\u001b[0m \u001b[0mopen\u001b[0m\u001b[1;33m(\u001b[0m\u001b[1;34m'stations.pkl'\u001b[0m\u001b[1;33m,\u001b[0m\u001b[1;34m'wb'\u001b[0m\u001b[1;33m)\u001b[0m \u001b[1;32mas\u001b[0m \u001b[0mfile\u001b[0m\u001b[1;33m:\u001b[0m\u001b[1;33m\u001b[0m\u001b[0m\n\u001b[1;32m----> 3\u001b[1;33m     \u001b[0mpickle\u001b[0m\u001b[1;33m.\u001b[0m\u001b[0mdump\u001b[0m\u001b[1;33m(\u001b[0m\u001b[0mstations\u001b[0m\u001b[1;33m,\u001b[0m\u001b[0mfile\u001b[0m\u001b[1;33m,\u001b[0m \u001b[0mpickle\u001b[0m\u001b[1;33m.\u001b[0m\u001b[0mHIGHEST_PROTOCOL\u001b[0m\u001b[1;33m)\u001b[0m\u001b[1;33m\u001b[0m\u001b[0m\n\u001b[0m\u001b[0;32m      4\u001b[0m \u001b[0mget_ipython\u001b[0m\u001b[1;33m(\u001b[0m\u001b[1;33m)\u001b[0m\u001b[1;33m.\u001b[0m\u001b[0msystem\u001b[0m\u001b[1;33m(\u001b[0m\u001b[1;34mu'rm Stat2Lat.pkl'\u001b[0m\u001b[1;33m)\u001b[0m\u001b[1;33m\u001b[0m\u001b[0m\n\u001b[0;32m      5\u001b[0m \u001b[0mget_ipython\u001b[0m\u001b[1;33m(\u001b[0m\u001b[1;33m)\u001b[0m\u001b[1;33m.\u001b[0m\u001b[0msystem\u001b[0m\u001b[1;33m(\u001b[0m\u001b[1;34mu'ls -l stations.pkl'\u001b[0m\u001b[1;33m)\u001b[0m\u001b[1;33m\u001b[0m\u001b[0m\n",
        "\u001b[1;31mNameError\u001b[0m: name 'stations' is not defined"
       ]
      }
     ],
     "prompt_number": 9
    },
    {
     "cell_type": "code",
     "collapsed": false,
     "input": [
      "#%load Eigen-by-Station.sh"
     ],
     "language": "python",
     "metadata": {},
     "outputs": []
    },
    {
     "cell_type": "raw",
     "metadata": {},
     "source": [
      "#!/bin/bash\n",
      "# compute weather statistics as a function of station's latitude.\n",
      "\n",
      "source $CSD181/hadoop/hadoop_shared/hadoop_bashrc.sh\n",
      "\n",
      "code_dir=$CSD181/yfreund/weather/processing\n",
      "in_hdfs=/user/arapat/weather\n",
      "out_hdfs=/user/$USER/weather_eigen_2\n",
      "\n",
      "hdfs -rmr $out_hdfs\n",
      "\n",
      "time had jar /opt/hadoop/contrib/streaming/hadoop-*streaming*.jar -Dmapred.map.tasks=20 -Dmapred.reduce.tasks=20 -mapper $code_dir/map-year-temp.py -reducer $code_dir/reduce-year-temp.py -input $in_hdfs/* -output $out_hdfs\n",
      "\n",
      "\n",
      "#Instead of plain text files, you can generate gzip files as your generated output. \n",
      "# Pass '-D mapred.output.compress=true -D mapred.output.compression.codec=org.apache.hadoop.io.compress.GzipCodec' as option to your streaming job.\n"
     ]
    },
    {
     "cell_type": "code",
     "collapsed": false,
     "input": [
      "#%load map-year-temp.py"
     ],
     "language": "python",
     "metadata": {},
     "outputs": []
    },
    {
     "cell_type": "code",
     "collapsed": false,
     "input": [
      "#!/bin/env python\n",
      "import os,sys,re,pickle,coding\n",
      "from numpy import *\n",
      "\n",
      "#!gunzip stations.pkl.gz\n",
      "stations=pickle.load(open('stations.pkl', 'rb'))\n",
      "!gzip stations.pkl\n",
      "\n",
      "#Days=pickle.load(open('Dates.pkl', 'rb'))\n",
      "\n",
      "stations.head()"
     ],
     "language": "python",
     "metadata": {},
     "outputs": [
      {
       "ename": "EOFError",
       "evalue": "",
       "output_type": "pyerr",
       "traceback": [
        "\u001b[1;31m---------------------------------------------------------------------------\u001b[0m\n\u001b[1;31mEOFError\u001b[0m                                  Traceback (most recent call last)",
        "\u001b[1;32m<ipython-input-23-b7eca243e901>\u001b[0m in \u001b[0;36m<module>\u001b[1;34m()\u001b[0m\n\u001b[0;32m      4\u001b[0m \u001b[1;33m\u001b[0m\u001b[0m\n\u001b[0;32m      5\u001b[0m \u001b[1;31m#!gunzip stations.pkl.gz\u001b[0m\u001b[1;33m\u001b[0m\u001b[1;33m\u001b[0m\u001b[0m\n\u001b[1;32m----> 6\u001b[1;33m \u001b[0mstations\u001b[0m\u001b[1;33m=\u001b[0m\u001b[0mpickle\u001b[0m\u001b[1;33m.\u001b[0m\u001b[0mload\u001b[0m\u001b[1;33m(\u001b[0m\u001b[0mopen\u001b[0m\u001b[1;33m(\u001b[0m\u001b[1;34m'stations.pkl'\u001b[0m\u001b[1;33m,\u001b[0m \u001b[1;34m'rb'\u001b[0m\u001b[1;33m)\u001b[0m\u001b[1;33m)\u001b[0m\u001b[1;33m\u001b[0m\u001b[0m\n\u001b[0m\u001b[0;32m      7\u001b[0m \u001b[0mget_ipython\u001b[0m\u001b[1;33m(\u001b[0m\u001b[1;33m)\u001b[0m\u001b[1;33m.\u001b[0m\u001b[0msystem\u001b[0m\u001b[1;33m(\u001b[0m\u001b[1;34mu'gzip stations.pkl'\u001b[0m\u001b[1;33m)\u001b[0m\u001b[1;33m\u001b[0m\u001b[0m\n\u001b[0;32m      8\u001b[0m \u001b[1;33m\u001b[0m\u001b[0m\n",
        "\u001b[1;32m/home/ubuntu/anaconda/lib/python2.7/pickle.pyc\u001b[0m in \u001b[0;36mload\u001b[1;34m(file)\u001b[0m\n\u001b[0;32m   1376\u001b[0m \u001b[1;33m\u001b[0m\u001b[0m\n\u001b[0;32m   1377\u001b[0m \u001b[1;32mdef\u001b[0m \u001b[0mload\u001b[0m\u001b[1;33m(\u001b[0m\u001b[0mfile\u001b[0m\u001b[1;33m)\u001b[0m\u001b[1;33m:\u001b[0m\u001b[1;33m\u001b[0m\u001b[0m\n\u001b[1;32m-> 1378\u001b[1;33m     \u001b[1;32mreturn\u001b[0m \u001b[0mUnpickler\u001b[0m\u001b[1;33m(\u001b[0m\u001b[0mfile\u001b[0m\u001b[1;33m)\u001b[0m\u001b[1;33m.\u001b[0m\u001b[0mload\u001b[0m\u001b[1;33m(\u001b[0m\u001b[1;33m)\u001b[0m\u001b[1;33m\u001b[0m\u001b[0m\n\u001b[0m\u001b[0;32m   1379\u001b[0m \u001b[1;33m\u001b[0m\u001b[0m\n\u001b[0;32m   1380\u001b[0m \u001b[1;32mdef\u001b[0m \u001b[0mloads\u001b[0m\u001b[1;33m(\u001b[0m\u001b[0mstr\u001b[0m\u001b[1;33m)\u001b[0m\u001b[1;33m:\u001b[0m\u001b[1;33m\u001b[0m\u001b[0m\n",
        "\u001b[1;32m/home/ubuntu/anaconda/lib/python2.7/pickle.pyc\u001b[0m in \u001b[0;36mload\u001b[1;34m(self)\u001b[0m\n\u001b[0;32m    856\u001b[0m             \u001b[1;32mwhile\u001b[0m \u001b[1;36m1\u001b[0m\u001b[1;33m:\u001b[0m\u001b[1;33m\u001b[0m\u001b[0m\n\u001b[0;32m    857\u001b[0m                 \u001b[0mkey\u001b[0m \u001b[1;33m=\u001b[0m \u001b[0mread\u001b[0m\u001b[1;33m(\u001b[0m\u001b[1;36m1\u001b[0m\u001b[1;33m)\u001b[0m\u001b[1;33m\u001b[0m\u001b[0m\n\u001b[1;32m--> 858\u001b[1;33m                 \u001b[0mdispatch\u001b[0m\u001b[1;33m[\u001b[0m\u001b[0mkey\u001b[0m\u001b[1;33m]\u001b[0m\u001b[1;33m(\u001b[0m\u001b[0mself\u001b[0m\u001b[1;33m)\u001b[0m\u001b[1;33m\u001b[0m\u001b[0m\n\u001b[0m\u001b[0;32m    859\u001b[0m         \u001b[1;32mexcept\u001b[0m \u001b[0m_Stop\u001b[0m\u001b[1;33m,\u001b[0m \u001b[0mstopinst\u001b[0m\u001b[1;33m:\u001b[0m\u001b[1;33m\u001b[0m\u001b[0m\n\u001b[0;32m    860\u001b[0m             \u001b[1;32mreturn\u001b[0m \u001b[0mstopinst\u001b[0m\u001b[1;33m.\u001b[0m\u001b[0mvalue\u001b[0m\u001b[1;33m\u001b[0m\u001b[0m\n",
        "\u001b[1;32m/home/ubuntu/anaconda/lib/python2.7/pickle.pyc\u001b[0m in \u001b[0;36mload_eof\u001b[1;34m(self)\u001b[0m\n\u001b[0;32m    878\u001b[0m \u001b[1;33m\u001b[0m\u001b[0m\n\u001b[0;32m    879\u001b[0m     \u001b[1;32mdef\u001b[0m \u001b[0mload_eof\u001b[0m\u001b[1;33m(\u001b[0m\u001b[0mself\u001b[0m\u001b[1;33m)\u001b[0m\u001b[1;33m:\u001b[0m\u001b[1;33m\u001b[0m\u001b[0m\n\u001b[1;32m--> 880\u001b[1;33m         \u001b[1;32mraise\u001b[0m \u001b[0mEOFError\u001b[0m\u001b[1;33m\u001b[0m\u001b[0m\n\u001b[0m\u001b[0;32m    881\u001b[0m     \u001b[0mdispatch\u001b[0m\u001b[1;33m[\u001b[0m\u001b[1;34m''\u001b[0m\u001b[1;33m]\u001b[0m \u001b[1;33m=\u001b[0m \u001b[0mload_eof\u001b[0m\u001b[1;33m\u001b[0m\u001b[0m\n\u001b[0;32m    882\u001b[0m \u001b[1;33m\u001b[0m\u001b[0m\n",
        "\u001b[1;31mEOFError\u001b[0m: "
       ]
      }
     ],
     "prompt_number": 23
    },
    {
     "cell_type": "code",
     "collapsed": false,
     "input": [
      "!ls -l $data_dir/*"
     ],
     "language": "python",
     "metadata": {},
     "outputs": [
      {
       "output_type": "stream",
       "stream": "stdout",
       "text": [
        "-rw-rw-r-- 1 ubuntu ubuntu   860337 May 11 23:01 /home/ubuntu/woerns/UCSD_BigData/data/weather/ALL.head.csv\r\n",
        "-rw-rw-r-- 1 ubuntu ubuntu      218 May 11 22:45 /home/ubuntu/woerns/UCSD_BigData/data/weather/data-source.txt\r\n",
        "-rw-rw-r-- 1 ubuntu ubuntu    22422 May 11 22:45 /home/ubuntu/woerns/UCSD_BigData/data/weather/ghcnd-readme.txt\r\n",
        "-rw-rw-r-- 1 ubuntu ubuntu  7760844 May 11 22:45 /home/ubuntu/woerns/UCSD_BigData/data/weather/ghcnd-stations_buffered.txt\r\n",
        "-rw-rw-r-- 1 ubuntu ubuntu  7334424 May 11 22:45 /home/ubuntu/woerns/UCSD_BigData/data/weather/ghcnd-stations.txt\r\n",
        "-rw-rw-r-- 1 ubuntu ubuntu      270 May 11 22:45 /home/ubuntu/woerns/UCSD_BigData/data/weather/ghcnd-version.txt\r\n",
        "-rw-rw-r-- 1 ubuntu ubuntu 26114979 May 11 22:45 /home/ubuntu/woerns/UCSD_BigData/data/weather/SAMPLE_TMAX.csv\r\n",
        "-rw-rw-r-- 1 ubuntu ubuntu  8022358 May 11 23:01 /home/ubuntu/woerns/UCSD_BigData/data/weather/SAMPLE_TMAX.csv.old.gz\r\n"
       ]
      }
     ],
     "prompt_number": 12
    },
    {
     "cell_type": "code",
     "collapsed": false,
     "input": [
      "!head -2 $data_dir/ALL.head.csv"
     ],
     "language": "python",
     "metadata": {},
     "outputs": [
      {
       "output_type": "stream",
       "stream": "stdout",
       "text": [
        "station,measurement,year,1,2,3,4,5,6,7,8,9,10,11,12,13,14,15,16,17,18,19,20,21,22,23,24,25,26,27,28,29,30,31,32,33,34,35,36,37,38,39,40,41,42,43,44,45,46,47,48,49,50,51,52,53,54,55,56,57,58,59,60,61,62,63,64,65,66,67,68,69,70,71,72,73,74,75,76,77,78,79,80,81,82,83,84,85,86,87,88,89,90,91,92,93,94,95,96,97,98,99,100,101,102,103,104,105,106,107,108,109,110,111,112,113,114,115,116,117,118,119,120,121,122,123,124,125,126,127,128,129,130,131,132,133,134,135,136,137,138,139,140,141,142,143,144,145,146,147,148,149,150,151,152,153,154,155,156,157,158,159,160,161,162,163,164,165,166,167,168,169,170,171,172,173,174,175,176,177,178,179,180,181,182,183,184,185,186,187,188,189,190,191,192,193,194,195,196,197,198,199,200,201,202,203,204,205,206,207,208,209,210,211,212,213,214,215,216,217,218,219,220,221,222,223,224,225,226,227,228,229,230,231,232,233,234,235,236,237,238,239,240,241,242,243,244,245,246,247,248,249,250,251,252,253,254,255,256,257,258,259,260,261,262,263,264,265,266,267,268,269,270,271,272,273,274,275,276,277,278,279,280,281,282,283,284,285,286,287,288,289,290,291,292,293,294,295,296,297,298,299,300,301,302,303,304,305,306,307,308,309,310,311,312,313,314,315,316,317,318,319,320,321,322,323,324,325,326,327,328,329,330,331,332,333,334,335,336,337,338,339,340,341,342,343,344,345,346,347,348,349,350,351,352,353,354,355,356,357,358,359,360,361,362,363,364,365\r\n",
        "ASN00054128,DAPR,1969,,,,,,,,,,,,,,,,,,,,,,,,,,,,,,,,,,,,,,,,,,,,,,,,,,,,,,,,,,,,,,,,,,,,,,,,,,,,,,,,,,,,,,,,,,,,,,,,,,,,,,,,,,,,,,,,,,,,,,,,,,,,,,,,,,,,,,,,,,,,,,,,,,,,,,,,,,,,,,,,,,,,,,,,,,,,,,,,,,,,,,,,,,,,,,,,,,,,,,,,,,,,,,,,,,,,,,,,,,,,,,,,,,,,,,,,,,,,,,,,,,,,,,,2,,,,,,,,,,,,,,,,,,,,,,,,,,,,,,,,,,,,,,,,,,,,,,,,,,,,,,,,,,,,,,,,,,,,,,,,,,,,,,,,,,,,,,,,,,,,,,,,,,,,,,,,,,,,,,,,,,,,,,\r\n"
       ]
      }
     ],
     "prompt_number": 31
    },
    {
     "cell_type": "code",
     "collapsed": false,
     "input": [
      "!cp ../mrjob/mr_word_freq_counters.py mr_weather.py\n",
      "%load mr_weather.py"
     ],
     "language": "python",
     "metadata": {},
     "outputs": [],
     "prompt_number": 26
    },
    {
     "cell_type": "code",
     "collapsed": false,
     "input": [
      "%%writefile mr_weather.py\n",
      "#!/usr/bin/python\n",
      "\"\"\"\n",
      "count the number of measurements of each type\n",
      "\"\"\"\n",
      "from mrjob.job import MRJob\n",
      "import re\n",
      "from sys import stderr\n",
      "\n",
      "#logfile=open('log','w')\n",
      "logfile=stderr\n",
      "\n",
      "class MRWeather(MRJob):\n",
      "\n",
      "    def mapper(self, _, line):\n",
      "        self.increment_counter('MrJob Counters','mapper',1)\n",
      "        elements=line.split(',')\n",
      "        if elements[0]=='station':\n",
      "            yield('header',1)\n",
      "        else:\n",
      "            yield(elements[1],1)\n",
      "            \n",
      "    def combiner(self, word, counts):\n",
      "        self.increment_counter('MrJob Counters','combiner',1)\n",
      "        yield (word, sum(counts))\n",
      "        #l_counts=[c for c in counts]  # extract list from iterator\n",
      "        #S=sum(l_counts)\n",
      "        #logfile.write('combiner '+word+' ['+','.join([str(c) for c in l_counts])+']='+str(S)+'\\n')\n",
      "        #yield (word, S)\n",
      "\n",
      "    def reducer(self, word, counts):\n",
      "        self.increment_counter('MrJob Counters','reducer',1)\n",
      "        yield (word, sum(counts))\n",
      "        #l_counts=[c for c in counts]  # extract list from iterator\n",
      "        #S=sum(l_counts)\n",
      "        #logfile.write('reducer '+word+' ['+','.join([str(c) for c in l_counts])+']='+str(S)+'\\n')\n",
      "        #yield (word, S)\n",
      "\n",
      "if __name__ == '__main__':\n",
      "    MRWeather.run()"
     ],
     "language": "python",
     "metadata": {},
     "outputs": [
      {
       "output_type": "stream",
       "stream": "stdout",
       "text": [
        "Overwriting mr_weather.py\n"
       ]
      }
     ],
     "prompt_number": 32
    },
    {
     "cell_type": "code",
     "collapsed": false,
     "input": [
      "!python mr_weather.py /home/ubuntu/woerns/UCSD_BigData/data/weather/ALL.head.csv > counts"
     ],
     "language": "python",
     "metadata": {},
     "outputs": [
      {
       "output_type": "stream",
       "stream": "stdout",
       "text": [
        "no configs found; falling back on auto-configuration\r\n",
        "no configs found; falling back on auto-configuration\r\n",
        "creating tmp directory /tmp/mr_weather.ubuntu.20140512.035436.475706\r\n",
        "writing to /tmp/mr_weather.ubuntu.20140512.035436.475706/step-0-mapper_part-00000\r\n"
       ]
      },
      {
       "output_type": "stream",
       "stream": "stdout",
       "text": [
        "Counters from step 1:\r\n",
        "  MrJob Counters:\r\n",
        "    combiner: 22\r\n",
        "    mapper: 1000\r\n",
        "writing to /tmp/mr_weather.ubuntu.20140512.035436.475706/step-0-mapper-sorted\r\n",
        "> sort /tmp/mr_weather.ubuntu.20140512.035436.475706/step-0-mapper_part-00000\r\n",
        "writing to /tmp/mr_weather.ubuntu.20140512.035436.475706/step-0-reducer_part-00000\r\n",
        "Counters from step 1:\r\n",
        "  MrJob Counters:\r\n",
        "    combiner: 22\r\n",
        "    mapper: 1000\r\n",
        "    reducer: 22\r\n",
        "Moving /tmp/mr_weather.ubuntu.20140512.035436.475706/step-0-reducer_part-00000 -> /tmp/mr_weather.ubuntu.20140512.035436.475706/output/part-00000\r\n",
        "Streaming final output from /tmp/mr_weather.ubuntu.20140512.035436.475706/output\r\n",
        "removing tmp directory /tmp/mr_weather.ubuntu.20140512.035436.475706\r\n"
       ]
      }
     ],
     "prompt_number": 33
    },
    {
     "cell_type": "code",
     "collapsed": false,
     "input": [
      "!cat counts"
     ],
     "language": "python",
     "metadata": {},
     "outputs": [
      {
       "output_type": "stream",
       "stream": "stdout",
       "text": [
        "\"DAPR\"\t29\r\n",
        "\"DASF\"\t3\r\n",
        "\"DWPR\"\t17\r\n",
        "\"MDPR\"\t37\r\n",
        "\"MDSF\"\t5\r\n",
        "\"PRCP\"\t420\r\n",
        "\"SNOW\"\t83\r\n",
        "\"SNWD\"\t85\r\n",
        "\"TMAX\"\t123\r\n",
        "\"TMIN\"\t106\r\n",
        "\"TOBS\"\t45\r\n",
        "\"WT01\"\t12\r\n",
        "\"WT03\"\t7\r\n",
        "\"WT04\"\t5\r\n",
        "\"WT05\"\t2\r\n",
        "\"WT06\"\t3\r\n",
        "\"WT08\"\t2\r\n",
        "\"WT11\"\t3\r\n",
        "\"WT14\"\t4\r\n",
        "\"WT16\"\t5\r\n",
        "\"WT18\"\t3\r\n",
        "\"header\"\t1\r\n"
       ]
      }
     ],
     "prompt_number": 34
    },
    {
     "cell_type": "code",
     "collapsed": false,
     "input": [
      "#%load $data_dir/ghcnd-readme.txt\n",
      "#after loading - restricted to part that describes the the measurement types"
     ],
     "language": "python",
     "metadata": {},
     "outputs": []
    },
    {
     "cell_type": "markdown",
     "metadata": {},
     "source": [
      "ELEMENT    is the element type.   There are five core elements as well as a number\n",
      "           of addition elements.  \n",
      "\t   \n",
      "\t   The five core elements are:\n",
      "\n",
      "       PRCP = Precipitation (tenths of mm)\n",
      "       SNOW = Snowfall (mm)\n",
      "\t   SNWD = Snow depth (mm)\n",
      "       TMAX = Maximum temperature (tenths of degrees C)\n",
      "       TMIN = Minimum temperature (tenths of degrees C)\n",
      "\t   \n",
      "\t   The other elements are:\n",
      "\t   \n",
      "\t   ACMC = Average cloudiness midnight to midnight from 30-second \n",
      "\t          ceilometer data (percent)\n",
      "\t   ACMH = Average cloudiness midnight to midnight from \n",
      "\t          manual observations (percent)\n",
      "           ACSC = Average cloudiness sunrise to sunset from 30-second \n",
      "\t          ceilometer data (percent)\n",
      "\t   ACSH = Average cloudiness sunrise to sunset from manual \n",
      "\t          observations (percent)\n",
      "\t   AWND = Average daily wind speed (tenths of meters per second)\n",
      "\t   DAEV = Number of days included in the multiday evaporation\n",
      "\t          total (MDEV)\n",
      "\t   DAPR = Number of days included in the multiday precipiation \n",
      "\t          total (MDPR)\n",
      "           DASF = Number of days included in the multiday snowfall \n",
      "\t          total (MDSF)\t\t  \n",
      "\t   DATN = Number of days included in the multiday minimum temperature \n",
      "\t         (MDTN)\n",
      "\t   DATX = Number of days included in the multiday maximum temperature \n",
      "\t          (MDTX)\n",
      "           DAWM = Number of days included in the multiday wind movement\n",
      "\t          (MDWM)\n",
      "\t   DWPR = Number of days with non-zero precipitation included in \n",
      "\t          multiday precipitation total (MDPR)\n",
      "\t   EVAP = Evaporation of water from evaporation pan (tenths of mm)\n",
      "\t   FMTM = Time of fastest mile or fastest 1-minute wind \n",
      "\t          (hours and minutes, i.e., HHMM)\n",
      "\t   FRGB = Base of frozen ground layer (cm)\n",
      "\t   FRGT = Top of frozen ground layer (cm)\n",
      "\t   FRTH = Thickness of frozen ground layer (cm)\n",
      "\t   GAHT = Difference between river and gauge height (cm)\n",
      "\t   MDEV = Multiday evaporation total (tenths of mm; use with DAEV)\n",
      "\t   MDPR = Multiday precipitation total (tenths of mm; use with DAPR and \n",
      "\t          DWPR, if available)\n",
      "\t   MDSF = Multiday snowfall total \n",
      "\t   MDTN = Multiday minimum temperature (tenths of degrees C; use with \n",
      "\t          DATN)\n",
      "\t   MDTX = Multiday maximum temperature (tenths of degress C; use with \n",
      "\t          DATX)\n",
      "\t   MDWM = Multiday wind movement (km)\n",
      "           MNPN = Daily minimum temperature of water in an evaporation pan \n",
      "\t         (tenths of degrees C)\n",
      "           MXPN = Daily maximum temperature of water in an evaporation pan \n",
      "\t         (tenths of degrees C)\n",
      "\t   PGTM = Peak gust time (hours and minutes, i.e., HHMM)\n",
      "\t   PSUN = Daily percent of possible sunshine (percent)\n",
      "\t   SN*# = Minimum soil temperature (tenths of degrees C)\n",
      "\t          where * corresponds to a code\n",
      "\t          for ground cover and # corresponds to a code for soil \n",
      "\t\t  depth.  \n",
      "\t\t  \n",
      "\t\t  Ground cover codes include the following:\n",
      "\t\t  0 = unknown\n",
      "\t\t  1 = grass\n",
      "\t\t  2 = fallow\n",
      "\t\t  3 = bare ground\n",
      "\t\t  4 = brome grass\n",
      "\t\t  5 = sod\n",
      "\t\t  6 = straw multch\n",
      "\t\t  7 = grass muck\n",
      "\t\t  8 = bare muck\n",
      "\t\t  \n",
      "\t\t  Depth codes include the following:\n",
      "\t\t  1 = 5 cm\n",
      "\t\t  2 = 10 cm\n",
      "\t\t  3 = 20 cm\n",
      "\t\t  4 = 50 cm\n",
      "\t\t  5 = 100 cm\n",
      "\t\t  6 = 150 cm\n",
      "\t\t  7 = 180 cm\n",
      "\t\t  \n",
      "\t   SX*# = Maximum soil temperature (tenths of degrees C) \n",
      "\t          where * corresponds to a code for ground cover \n",
      "\t\t  and # corresponds to a code for soil depth. \n",
      "\t\t  See SN*# for ground cover and depth codes. \n",
      "\n",
      "           THIC = Thickness of ice on water (tenths of mm)\t\n",
      " \t   TOBS = Temperature at the time of observation (tenths of degrees C)\n",
      "\t   TSUN = Daily total sunshine (minutes)\n",
      "\t   WDF1 = Direction of fastest 1-minute wind (degrees)\n",
      "\t   WDF2 = Direction of fastest 2-minute wind (degrees)\n",
      "\t   WDF5 = Direction of fastest 5-second wind (degrees)\n",
      "\t   WDFG = Direction of peak wind gust (degrees)\n",
      "\t   WDFI = Direction of highest instantaneous wind (degrees)\n",
      "\t   WDFM = Fastest mile wind direction (degrees)\n",
      "           WDMV = 24-hour wind movement (km)\t   \n",
      "           WESD = Water equivalent of snow on the ground (tenths of mm)\n",
      "\t   WESF = Water equivalent of snowfall (tenths of mm)\n",
      "\t   WSF1 = Fastest 1-minute wind speed (tenths of meters per second)\n",
      "\t   WSF2 = Fastest 2-minute wind speed (tenths of meters per second)\n",
      "\t   WSF5 = Fastest 5-second wind speed (tenths of meters per second)\n",
      "\t   WSFG = Peak guest wind speed (tenths of meters per second)\n",
      "\t   WSFI = Highest instantaneous wind speed (tenths of meters per second)\n",
      "\t   WSFM = Fastest mile wind speed (tenths of meters per second)\n",
      "\t   WT** = Weather Type where ** has one of the following values:\n",
      "\t   \n",
      "                  01 = Fog, ice fog, or freezing fog (may include heavy fog)\n",
      "                  02 = Heavy fog or heaving freezing fog (not always \n",
      "\t\t       distinquished from fog)\n",
      "                  03 = Thunder\n",
      "                  04 = Ice pellets, sleet, snow pellets, or small hail \n",
      "                  05 = Hail (may include small hail)\n",
      "                  06 = Glaze or rime \n",
      "                  07 = Dust, volcanic ash, blowing dust, blowing sand, or \n",
      "\t\t       blowing obstruction\n",
      "                  08 = Smoke or haze \n",
      "                  09 = Blowing or drifting snow\n",
      "                  10 = Tornado, waterspout, or funnel cloud \n",
      "                  11 = High or damaging winds\n",
      "                  12 = Blowing spray\n",
      "                  13 = Mist\n",
      "                  14 = Drizzle\n",
      "                  15 = Freezing drizzle \n",
      "                  16 = Rain (may include freezing rain, drizzle, and\n",
      "\t\t       freezing drizzle) \n",
      "                  17 = Freezing rain \n",
      "                  18 = Snow, snow pellets, snow grains, or ice crystals\n",
      "                  19 = Unknown source of precipitation \n",
      "                  21 = Ground fog \n",
      "                  22 = Ice fog or freezing fog\n",
      "\t\t  \n",
      "            WV** = Weather in the Vicinity where ** has one of the following \n",
      "\t           values:\n",
      "\t\t   \n",
      "\t\t   01 = Fog, ice fog, or freezing fog (may include heavy fog)\n",
      "\t\t   03 = Thunder\n",
      "\t\t   07 = Ash, dust, sand, or other blowing obstruction\n",
      "\t\t   18 = Snow or ice crystals\n",
      "\t\t   20 = Rain or snow shower\n"
     ]
    },
    {
     "cell_type": "code",
     "collapsed": false,
     "input": [
      "%load /home/ubuntu/Vault/Student_Config"
     ],
     "language": "python",
     "metadata": {},
     "outputs": [
      {
       "ename": "ValueError",
       "evalue": "'/home/ubuntu/Vault/Student_Config' was not found in history, as a file, url, nor in the user namespace.",
       "output_type": "pyerr",
       "traceback": [
        "\u001b[1;31m---------------------------------------------------------------------------\u001b[0m\n\u001b[1;31mValueError\u001b[0m                                Traceback (most recent call last)",
        "\u001b[1;32m<ipython-input-19-3392f6255dbb>\u001b[0m in \u001b[0;36m<module>\u001b[1;34m()\u001b[0m\n\u001b[1;32m----> 1\u001b[1;33m \u001b[0mget_ipython\u001b[0m\u001b[1;33m(\u001b[0m\u001b[1;33m)\u001b[0m\u001b[1;33m.\u001b[0m\u001b[0mmagic\u001b[0m\u001b[1;33m(\u001b[0m\u001b[1;34mu'load /home/ubuntu/Vault/Student_Config'\u001b[0m\u001b[1;33m)\u001b[0m\u001b[1;33m\u001b[0m\u001b[0m\n\u001b[0m",
        "\u001b[1;32m/usr/local/lib/python2.7/dist-packages/IPython/core/interactiveshell.pyc\u001b[0m in \u001b[0;36mmagic\u001b[1;34m(self, arg_s)\u001b[0m\n\u001b[0;32m   2203\u001b[0m         \u001b[0mmagic_name\u001b[0m\u001b[1;33m,\u001b[0m \u001b[0m_\u001b[0m\u001b[1;33m,\u001b[0m \u001b[0mmagic_arg_s\u001b[0m \u001b[1;33m=\u001b[0m \u001b[0marg_s\u001b[0m\u001b[1;33m.\u001b[0m\u001b[0mpartition\u001b[0m\u001b[1;33m(\u001b[0m\u001b[1;34m' '\u001b[0m\u001b[1;33m)\u001b[0m\u001b[1;33m\u001b[0m\u001b[0m\n\u001b[0;32m   2204\u001b[0m         \u001b[0mmagic_name\u001b[0m \u001b[1;33m=\u001b[0m \u001b[0mmagic_name\u001b[0m\u001b[1;33m.\u001b[0m\u001b[0mlstrip\u001b[0m\u001b[1;33m(\u001b[0m\u001b[0mprefilter\u001b[0m\u001b[1;33m.\u001b[0m\u001b[0mESC_MAGIC\u001b[0m\u001b[1;33m)\u001b[0m\u001b[1;33m\u001b[0m\u001b[0m\n\u001b[1;32m-> 2205\u001b[1;33m         \u001b[1;32mreturn\u001b[0m \u001b[0mself\u001b[0m\u001b[1;33m.\u001b[0m\u001b[0mrun_line_magic\u001b[0m\u001b[1;33m(\u001b[0m\u001b[0mmagic_name\u001b[0m\u001b[1;33m,\u001b[0m \u001b[0mmagic_arg_s\u001b[0m\u001b[1;33m)\u001b[0m\u001b[1;33m\u001b[0m\u001b[0m\n\u001b[0m\u001b[0;32m   2206\u001b[0m \u001b[1;33m\u001b[0m\u001b[0m\n\u001b[0;32m   2207\u001b[0m     \u001b[1;31m#-------------------------------------------------------------------------\u001b[0m\u001b[1;33m\u001b[0m\u001b[1;33m\u001b[0m\u001b[0m\n",
        "\u001b[1;32m/usr/local/lib/python2.7/dist-packages/IPython/core/interactiveshell.pyc\u001b[0m in \u001b[0;36mrun_line_magic\u001b[1;34m(self, magic_name, line)\u001b[0m\n\u001b[0;32m   2124\u001b[0m                 \u001b[0mkwargs\u001b[0m\u001b[1;33m[\u001b[0m\u001b[1;34m'local_ns'\u001b[0m\u001b[1;33m]\u001b[0m \u001b[1;33m=\u001b[0m \u001b[0msys\u001b[0m\u001b[1;33m.\u001b[0m\u001b[0m_getframe\u001b[0m\u001b[1;33m(\u001b[0m\u001b[0mstack_depth\u001b[0m\u001b[1;33m)\u001b[0m\u001b[1;33m.\u001b[0m\u001b[0mf_locals\u001b[0m\u001b[1;33m\u001b[0m\u001b[0m\n\u001b[0;32m   2125\u001b[0m             \u001b[1;32mwith\u001b[0m \u001b[0mself\u001b[0m\u001b[1;33m.\u001b[0m\u001b[0mbuiltin_trap\u001b[0m\u001b[1;33m:\u001b[0m\u001b[1;33m\u001b[0m\u001b[0m\n\u001b[1;32m-> 2126\u001b[1;33m                 \u001b[0mresult\u001b[0m \u001b[1;33m=\u001b[0m \u001b[0mfn\u001b[0m\u001b[1;33m(\u001b[0m\u001b[1;33m*\u001b[0m\u001b[0margs\u001b[0m\u001b[1;33m,\u001b[0m\u001b[1;33m**\u001b[0m\u001b[0mkwargs\u001b[0m\u001b[1;33m)\u001b[0m\u001b[1;33m\u001b[0m\u001b[0m\n\u001b[0m\u001b[0;32m   2127\u001b[0m             \u001b[1;32mreturn\u001b[0m \u001b[0mresult\u001b[0m\u001b[1;33m\u001b[0m\u001b[0m\n\u001b[0;32m   2128\u001b[0m \u001b[1;33m\u001b[0m\u001b[0m\n",
        "\u001b[1;32m/usr/local/lib/python2.7/dist-packages/IPython/core/magics/code.pyc\u001b[0m in \u001b[0;36mload\u001b[1;34m(self, arg_s)\u001b[0m\n",
        "\u001b[1;32m/usr/local/lib/python2.7/dist-packages/IPython/core/magic.pyc\u001b[0m in \u001b[0;36m<lambda>\u001b[1;34m(f, *a, **k)\u001b[0m\n\u001b[0;32m    191\u001b[0m     \u001b[1;31m# but it's overkill for just that one bit of state.\u001b[0m\u001b[1;33m\u001b[0m\u001b[1;33m\u001b[0m\u001b[0m\n\u001b[0;32m    192\u001b[0m     \u001b[1;32mdef\u001b[0m \u001b[0mmagic_deco\u001b[0m\u001b[1;33m(\u001b[0m\u001b[0marg\u001b[0m\u001b[1;33m)\u001b[0m\u001b[1;33m:\u001b[0m\u001b[1;33m\u001b[0m\u001b[0m\n\u001b[1;32m--> 193\u001b[1;33m         \u001b[0mcall\u001b[0m \u001b[1;33m=\u001b[0m \u001b[1;32mlambda\u001b[0m \u001b[0mf\u001b[0m\u001b[1;33m,\u001b[0m \u001b[1;33m*\u001b[0m\u001b[0ma\u001b[0m\u001b[1;33m,\u001b[0m \u001b[1;33m**\u001b[0m\u001b[0mk\u001b[0m\u001b[1;33m:\u001b[0m \u001b[0mf\u001b[0m\u001b[1;33m(\u001b[0m\u001b[1;33m*\u001b[0m\u001b[0ma\u001b[0m\u001b[1;33m,\u001b[0m \u001b[1;33m**\u001b[0m\u001b[0mk\u001b[0m\u001b[1;33m)\u001b[0m\u001b[1;33m\u001b[0m\u001b[0m\n\u001b[0m\u001b[0;32m    194\u001b[0m \u001b[1;33m\u001b[0m\u001b[0m\n\u001b[0;32m    195\u001b[0m         \u001b[1;32mif\u001b[0m \u001b[0mcallable\u001b[0m\u001b[1;33m(\u001b[0m\u001b[0marg\u001b[0m\u001b[1;33m)\u001b[0m\u001b[1;33m:\u001b[0m\u001b[1;33m\u001b[0m\u001b[0m\n",
        "\u001b[1;32m/usr/local/lib/python2.7/dist-packages/IPython/core/magics/code.pyc\u001b[0m in \u001b[0;36mload\u001b[1;34m(self, arg_s)\u001b[0m\n\u001b[0;32m    305\u001b[0m                              'or macro.')\n\u001b[0;32m    306\u001b[0m \u001b[1;33m\u001b[0m\u001b[0m\n\u001b[1;32m--> 307\u001b[1;33m         \u001b[0mcontents\u001b[0m \u001b[1;33m=\u001b[0m \u001b[0mself\u001b[0m\u001b[1;33m.\u001b[0m\u001b[0mshell\u001b[0m\u001b[1;33m.\u001b[0m\u001b[0mfind_user_code\u001b[0m\u001b[1;33m(\u001b[0m\u001b[0margs\u001b[0m\u001b[1;33m)\u001b[0m\u001b[1;33m\u001b[0m\u001b[0m\n\u001b[0m\u001b[0;32m    308\u001b[0m \u001b[1;33m\u001b[0m\u001b[0m\n\u001b[0;32m    309\u001b[0m         \u001b[1;32mif\u001b[0m \u001b[1;34m's'\u001b[0m \u001b[1;32min\u001b[0m \u001b[0mopts\u001b[0m\u001b[1;33m:\u001b[0m\u001b[1;33m\u001b[0m\u001b[0m\n",
        "\u001b[1;32m/usr/local/lib/python2.7/dist-packages/IPython/core/interactiveshell.pyc\u001b[0m in \u001b[0;36mfind_user_code\u001b[1;34m(self, target, raw, py_only, skip_encoding_cookie)\u001b[0m\n\u001b[0;32m   3161\u001b[0m         \u001b[1;32mexcept\u001b[0m \u001b[0mException\u001b[0m\u001b[1;33m:\u001b[0m\u001b[1;33m\u001b[0m\u001b[0m\n\u001b[0;32m   3162\u001b[0m             raise ValueError((\"'%s' was not found in history, as a file, url, \"\n\u001b[1;32m-> 3163\u001b[1;33m                                 \"nor in the user namespace.\") % target)\n\u001b[0m\u001b[0;32m   3164\u001b[0m         \u001b[1;32mif\u001b[0m \u001b[0misinstance\u001b[0m\u001b[1;33m(\u001b[0m\u001b[0mcodeobj\u001b[0m\u001b[1;33m,\u001b[0m \u001b[0mstring_types\u001b[0m\u001b[1;33m)\u001b[0m\u001b[1;33m:\u001b[0m\u001b[1;33m\u001b[0m\u001b[0m\n\u001b[0;32m   3165\u001b[0m             \u001b[1;32mreturn\u001b[0m \u001b[0mcodeobj\u001b[0m\u001b[1;33m\u001b[0m\u001b[0m\n",
        "\u001b[1;31mValueError\u001b[0m: '/home/ubuntu/Vault/Student_Config' was not found in history, as a file, url, nor in the user namespace."
       ]
      }
     ],
     "prompt_number": 19
    },
    {
     "cell_type": "code",
     "collapsed": false,
     "input": [
      "%%writefile /home/ubuntu/.mrjob.conf\n",
      "# This is a mrjob cnfiguration file that should work \n",
      "# for the students in the UCSD big data class\n",
      "# Change the entries indicated by <...> with your information\n",
      "# remember to delete this cell after you saved it. Otherwise you might create\n",
      "# A public record of your credentials the next time you push to GitHub.\n",
      "runners:\n",
      "  name: <name of job>\n",
      "  owner: <Your name>\n",
      "  emr:\n",
      "    # Region to connect to S3 and EMR on (e.g. us-west-1).\n",
      "    aws_region: us-east-1\n",
      "    # Availability zone to run the job flow on\n",
      "    aws_availability_zone: us-east-1d\n",
      "    aws_access_key_id: <AWS key id>\n",
      "    aws_secret_access_key: <AWS secret key>\n",
      "    #ec2_key_pair: HadoopKeyPair ((If you want to have ssh access, Create an ssh key on AWS and mail me the name of the key))\n",
      "    #ec2_key_pair_file: /Users/yoavfreund/.ssh/HadoopKeyPair.pem\n",
      "    s3_log_uri: s3://<your.bucket/logs/>\n",
      "    #                    URI on S3 to write logs into\n",
      "    s3_scratch_uri: s3://<your.bucket/scratch/>\n",
      "    #                    URI on S3 that is used as scratch space\n"
     ],
     "language": "python",
     "metadata": {},
     "outputs": []
    },
    {
     "cell_type": "code",
     "collapsed": false,
     "input": [
      "job_flow_id='j-1HFD8T7K9LGVH'\n",
      "!python mr_weather.py -r emr  --emr-job-flow-id=$job_flow_id hdfs:/weather/weather.csv > counts"
     ],
     "language": "python",
     "metadata": {},
     "outputs": []
    },
    {
     "cell_type": "code",
     "collapsed": false,
     "input": [
      "!cat counts"
     ],
     "language": "python",
     "metadata": {},
     "outputs": []
    },
    {
     "cell_type": "heading",
     "level": 2,
     "metadata": {},
     "source": [
      "Two useful command-line utilities"
     ]
    },
    {
     "cell_type": "markdown",
     "metadata": {},
     "source": [
      "the mrjob command line depends on the same configuration file as the run-time library. This configuration file is, by default, located at ~/.mrjob.conf"
     ]
    },
    {
     "cell_type": "code",
     "collapsed": false,
     "input": [
      "!mrjob"
     ],
     "language": "python",
     "metadata": {},
     "outputs": [
      {
       "output_type": "stream",
       "stream": "stdout",
       "text": [
        "usage: mrjob {subcommand|--help}\"\r\n",
        "\r\n",
        "subcommands:\r\n",
        "  audit-emr-usage:          Audit EMR usage\r\n",
        "  create-job-flow:          Create an EMR job flow\r\n",
        "  fetch-logs:               Fetch and parse EMR logs for errors and counters\r\n",
        "  report-long-jobs:         Report EMR jobs which have been running for a long time\r\n",
        "  run:                      Run a job\r\n",
        "  s3-tmpwatch:              Delete S3 keys older than a specified time\r\n",
        "  terminate-idle-job-flows: Terminate idle EMR job flows\r\n",
        "  terminate-job-flow:       Terminate a single EMR job flow\r\n"
       ]
      }
     ],
     "prompt_number": 35
    },
    {
     "cell_type": "code",
     "collapsed": false,
     "input": [
      "!mrjob audit-emr-usage"
     ],
     "language": "python",
     "metadata": {},
     "outputs": [
      {
       "output_type": "stream",
       "stream": "stdout",
       "text": [
        "getting job flow history...\r\n",
        "using configs in /home/ubuntu/.mrjob.conf\r\n"
       ]
      },
      {
       "output_type": "stream",
       "stream": "stdout",
       "text": [
        "compiling job flow stats...\r\n"
       ]
      },
      {
       "output_type": "stream",
       "stream": "stdout",
       "text": [
        "Traceback (most recent call last):\r\n",
        "  File \"/usr/local/bin/mrjob\", line 17, in <module>\r\n",
        "    main()\r\n",
        "  File \"/usr/local/lib/python2.7/dist-packages/mrjob/cmd.py\", line 60, in main\r\n",
        "    commands[args[1]](args[2:])\r\n",
        "  File \"/usr/local/lib/python2.7/dist-packages/mrjob/cmd.py\", line 72, in audit_usage\r\n",
        "    main(args)\r\n",
        "  File \"/usr/local/lib/python2.7/dist-packages/mrjob/tools/emr/audit_usage.py\", line 71, in main\r\n",
        "    stats = job_flows_to_stats(job_flows, now=now)\r\n",
        "  File \"/usr/local/lib/python2.7/dist-packages/mrjob/tools/emr/audit_usage.py\", line 143, in job_flows_to_stats\r\n",
        "    for job_flow in job_flows]\r\n",
        "  File \"/usr/local/lib/python2.7/dist-packages/mrjob/tools/emr/audit_usage.py\", line 226, in job_flow_to_full_summary\r\n",
        "    jf = job_flow_to_basic_summary(job_flow, now=now)\r\n",
        "  File \"/usr/local/lib/python2.7/dist-packages/mrjob/tools/emr/audit_usage.py\", line 288, in job_flow_to_basic_summary\r\n",
        "    jf['end'] = to_datetime(getattr(job_flow, 'enddatetime', None))\r\n",
        "  File \"/usr/local/lib/python2.7/dist-packages/mrjob/tools/emr/audit_usage.py\", line 761, in to_datetime\r\n",
        "    return datetime.strptime(iso8601_time, boto.utils.ISO8601)\r\n",
        "  File \"/usr/lib/python2.7/_strptime.py\", line 325, in _strptime\r\n",
        "    (data_string, format))\r\n",
        "ValueError: time data '2014-05-25T07:09:20.716Z' does not match format '%Y-%m-%dT%H:%M:%SZ'\r\n"
       ]
      }
     ],
     "prompt_number": 17
    },
    {
     "cell_type": "markdown",
     "metadata": {},
     "source": [
      "s3cmd is a utility that makes it easy to work with s3"
     ]
    },
    {
     "cell_type": "code",
     "collapsed": false,
     "input": [
      "!s3cmd --help"
     ],
     "language": "python",
     "metadata": {},
     "outputs": [
      {
       "output_type": "stream",
       "stream": "stdout",
       "text": [
        "/bin/sh: 1: s3cmd: not found\r\n"
       ]
      }
     ],
     "prompt_number": 4
    },
    {
     "cell_type": "code",
     "collapsed": false,
     "input": [],
     "language": "python",
     "metadata": {},
     "outputs": []
    }
   ],
   "metadata": {}
  }
 ]
}