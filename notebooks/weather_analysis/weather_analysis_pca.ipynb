{
 "metadata": {
  "name": "",
  "signature": "sha256:303bbe7443376c06fbe649899aa7acfc9511da12b7c67060b4fd15a510195f20"
 },
 "nbformat": 3,
 "nbformat_minor": 0,
 "worksheets": [
  {
   "cells": [
    {
     "cell_type": "code",
     "collapsed": false,
     "input": [
      "import pandas as pd\n",
      "import numpy as np\n",
      "import sklearn as sk\n",
      "import scipy\n",
      "import pickle\n",
      "from mpl_toolkits.basemap import Basemap\n",
      "print 'pandas version: ',pd.__version__\n",
      "print 'numpy version:',np.__version__\n",
      "print 'sklearn version:',sk.__version__\n",
      "print 'scipy version:',scipy.__version__\n",
      "print 'pickle version:',pickle.__version__"
     ],
     "language": "python",
     "metadata": {},
     "outputs": [
      {
       "output_type": "stream",
       "stream": "stdout",
       "text": [
        "pandas version:  0.13.1\n",
        "numpy version: 1.8.1\n",
        "sklearn version: 0.14.1\n",
        "scipy version: 0.13.3\n",
        "pickle version: $Revision: 72223 $\n"
       ]
      }
     ],
     "prompt_number": 19
    },
    {
     "cell_type": "code",
     "collapsed": false,
     "input": [
      "import sys\n",
      "home_dir='/home/ubuntu/UCSD_BigData'\n",
      "sys.path.append(home_dir+'/utils')\n",
      "from find_waiting_flow import *\n",
      "from AWS_keypair_management import *"
     ],
     "language": "python",
     "metadata": {},
     "outputs": [],
     "prompt_number": 2
    },
    {
     "cell_type": "code",
     "collapsed": false,
     "input": [
      "dfSelection = pd.read_pickle('dfSelection.pkl')\n",
      "dfSelection.head()"
     ],
     "language": "python",
     "metadata": {},
     "outputs": []
    },
    {
     "cell_type": "code",
     "collapsed": false,
     "input": [
      "dfPartition = pd.read_pickle('dfPartition.pkl')\n",
      "dfPartition.head()"
     ],
     "language": "python",
     "metadata": {},
     "outputs": [
      {
       "html": [
        "<div style=\"max-height:1000px;max-width:1500px;overflow:auto;\">\n",
        "<table border=\"1\" class=\"dataframe\">\n",
        "  <thead>\n",
        "    <tr style=\"text-align: right;\">\n",
        "      <th></th>\n",
        "      <th>Station</th>\n",
        "      <th>partitionID</th>\n",
        "      <th>lat_min</th>\n",
        "      <th>lat_max</th>\n",
        "      <th>lon_min</th>\n",
        "      <th>lon_max</th>\n",
        "      <th>TMIN</th>\n",
        "      <th>TMAX</th>\n",
        "      <th>latitude</th>\n",
        "      <th>longitude</th>\n",
        "      <th>elevation</th>\n",
        "    </tr>\n",
        "  </thead>\n",
        "  <tbody>\n",
        "    <tr>\n",
        "      <th>0</th>\n",
        "      <td> ACW00011604</td>\n",
        "      <td> 1737</td>\n",
        "      <td> 13.91685</td>\n",
        "      <td> 18.16750</td>\n",
        "      <td>-66.1668</td>\n",
        "      <td> -5.7474</td>\n",
        "      <td>   212</td>\n",
        "      <td>   212</td>\n",
        "      <td> 17.1167</td>\n",
        "      <td>-61.7833</td>\n",
        "      <td>   10.1</td>\n",
        "    </tr>\n",
        "    <tr>\n",
        "      <th>1</th>\n",
        "      <td> ACW00011647</td>\n",
        "      <td> 1737</td>\n",
        "      <td> 13.91685</td>\n",
        "      <td> 18.16750</td>\n",
        "      <td>-66.1668</td>\n",
        "      <td> -5.7474</td>\n",
        "      <td>     1</td>\n",
        "      <td>     1</td>\n",
        "      <td> 17.1333</td>\n",
        "      <td>-61.7833</td>\n",
        "      <td>   19.2</td>\n",
        "    </tr>\n",
        "    <tr>\n",
        "      <th>2</th>\n",
        "      <td> AE000041196</td>\n",
        "      <td> 1763</td>\n",
        "      <td> 23.38150</td>\n",
        "      <td> 29.53150</td>\n",
        "      <td> -5.7474</td>\n",
        "      <td> 80.8315</td>\n",
        "      <td> 11123</td>\n",
        "      <td> 13582</td>\n",
        "      <td> 25.3330</td>\n",
        "      <td> 55.5170</td>\n",
        "      <td>   34.0</td>\n",
        "    </tr>\n",
        "    <tr>\n",
        "      <th>3</th>\n",
        "      <td> AF000040930</td>\n",
        "      <td> 1777</td>\n",
        "      <td> 34.59150</td>\n",
        "      <td> 37.50850</td>\n",
        "      <td> 30.3500</td>\n",
        "      <td> 94.0330</td>\n",
        "      <td>  1597</td>\n",
        "      <td>  1387</td>\n",
        "      <td> 35.3170</td>\n",
        "      <td> 69.0170</td>\n",
        "      <td> 3366.0</td>\n",
        "    </tr>\n",
        "    <tr>\n",
        "      <th>4</th>\n",
        "      <td> AG000060390</td>\n",
        "      <td> 1775</td>\n",
        "      <td> 34.59150</td>\n",
        "      <td> 36.99155</td>\n",
        "      <td> -5.7474</td>\n",
        "      <td> 30.3500</td>\n",
        "      <td> 24758</td>\n",
        "      <td> 25283</td>\n",
        "      <td> 36.7167</td>\n",
        "      <td>  3.2500</td>\n",
        "      <td>   24.0</td>\n",
        "    </tr>\n",
        "  </tbody>\n",
        "</table>\n",
        "<p>5 rows \u00d7 11 columns</p>\n",
        "</div>"
       ],
       "metadata": {},
       "output_type": "pyout",
       "prompt_number": 19,
       "text": [
        "       Station  partitionID   lat_min   lat_max  lon_min  lon_max   TMIN  \\\n",
        "0  ACW00011604         1737  13.91685  18.16750 -66.1668  -5.7474    212   \n",
        "1  ACW00011647         1737  13.91685  18.16750 -66.1668  -5.7474      1   \n",
        "2  AE000041196         1763  23.38150  29.53150  -5.7474  80.8315  11123   \n",
        "3  AF000040930         1777  34.59150  37.50850  30.3500  94.0330   1597   \n",
        "4  AG000060390         1775  34.59150  36.99155  -5.7474  30.3500  24758   \n",
        "\n",
        "    TMAX  latitude  longitude  elevation  \n",
        "0    212   17.1167   -61.7833       10.1  \n",
        "1      1   17.1333   -61.7833       19.2  \n",
        "2  13582   25.3330    55.5170       34.0  \n",
        "3   1387   35.3170    69.0170     3366.0  \n",
        "4  25283   36.7167     3.2500       24.0  \n",
        "\n",
        "[5 rows x 11 columns]"
       ]
      }
     ],
     "prompt_number": 19
    },
    {
     "cell_type": "code",
     "collapsed": false,
     "input": [
      "dfLookup = dfPartition.set_index('Station')\n",
      "dfLookup = dfSelection.join(dfLookup.ix[:,['partitionID']],on='Station')\n",
      "dfLookup.head()"
     ],
     "language": "python",
     "metadata": {},
     "outputs": []
    },
    {
     "cell_type": "code",
     "collapsed": false,
     "input": [
      "# Gunzip pickle file\n",
      "!gzip -c dfPartition_5k.pkl > dfPartition_5k.pkl.gz"
     ],
     "language": "python",
     "metadata": {},
     "outputs": [],
     "prompt_number": 130
    },
    {
     "cell_type": "code",
     "collapsed": false,
     "input": [
      "!ls -l"
     ],
     "language": "python",
     "metadata": {},
     "outputs": [
      {
       "output_type": "stream",
       "stream": "stdout",
       "text": [
        "total 873420\r\n",
        "-rw-rw-r-- 1 ubuntu ubuntu  45603386 Jun 13 05:08 dfMCountAll.pkl\r\n",
        "-rw-rw-r-- 1 ubuntu ubuntu   6021415 Jun 13 03:47 dfMeans_1M.pkl\r\n",
        "-rw-rw-r-- 1 ubuntu ubuntu   5573122 Jun 12 13:56 dfMeans_1M.pkl.gz\r\n",
        "-rw-rw-r-- 1 ubuntu ubuntu   9040563 Jun 12 11:11 dfPartition_100000.pkl\r\n",
        "-rw-rw-r-- 1 ubuntu ubuntu   9040563 Jun 12 10:11 dfPartition_100k.pkl\r\n",
        "-rw-rw-r-- 1 ubuntu ubuntu   1970119 Jun 12 10:28 dfPartition_100k.pkl.gz\r\n",
        "-rw-rw-r-- 1 ubuntu ubuntu  14833797 Jun 13 06:06 dfPartition_10k.pkl\r\n",
        "-rw-rw-r-- 1 ubuntu ubuntu  14833797 Jun 13 06:02 dfPartition_1k.pkl\r\n",
        "-rw-rw-r-- 1 ubuntu ubuntu   9040563 Jun 12 11:12 dfPartition_1M.pkl\r\n",
        "-rw-rw-r-- 1 ubuntu ubuntu   1665325 Jun 12 11:01 dfPartition_1M.pkl.gz\r\n",
        "-rw-rw-r-- 1 ubuntu ubuntu  14833797 Jun 13 06:09 dfPartition_5k.pkl\r\n",
        "-rw-rw-r-- 1 ubuntu ubuntu   2302888 Jun 13 06:28 dfPartition_5k.pkl.gz\r\n",
        "-rw-rw-r-- 1 ubuntu ubuntu 215799707 Jun 13 05:35 dfSelection.pkl\r\n",
        "-rw-rw-r-- 1 ubuntu ubuntu  30521819 Jun 13 05:40 dfSelection.pkl.gz\r\n",
        "-rw-rw-r-- 1 ubuntu ubuntu 375385535 Jun 10 05:27 dfStats.pkl\r\n",
        "-rw-rw-r-- 1 ubuntu ubuntu      3591 Jun 12 12:58 mrjobs_running_portal.ipynb\r\n",
        "-rw-rw-r-- 1 ubuntu ubuntu      4073 Jun 13 03:49 mr_weather_covariance.py\r\n",
        "-rw-rw-r-- 1 ubuntu ubuntu      2466 Jun 12 11:53 mr_weather_mean.py\r\n",
        "-rw-rw-rw- 1 ubuntu ubuntu      1463 Jun 11 08:53 mr_weather_sanity_1.py\r\n",
        "-rw-rw-r-- 1 ubuntu ubuntu      1392 Jun 11 07:43 mr_weather_sanity.py\r\n",
        "-rw-rw-r-- 1 ubuntu ubuntu   8051413 Jun 10 07:56 stations.pkl\r\n",
        "-rw-rw-r-- 1 ubuntu ubuntu 108837432 Jun 10 05:15 station_statistics.pkl\r\n",
        "-rw-rw-r-- 1 ubuntu ubuntu        12 Jun 13 03:53 TMINTMAX_cov_1M.pkl\r\n",
        "-rw-rw-r-- 1 ubuntu ubuntu         0 Jun 12 22:43 TMINTMAX_cov.pkl\r\n",
        "-rw-rw-r-- 1 ubuntu ubuntu  15000214 Jun 12 12:42 TMINTMAX_mean_1M.pkl\r\n",
        "-rw-rw-r-- 1 ubuntu ubuntu     71280 Jun 12 11:57 TMINTMAX_mean.pkl\r\n",
        "-rw-rw-r-- 1 ubuntu ubuntu      4503 Jun 11 08:11 TMINTMAX_range.pkl\r\n",
        "-rw-rw-r-- 1 ubuntu ubuntu   1169972 Jun 13 06:25 weather_analysis_partitioning.ipynb\r\n",
        "-rw-rw-r-- 1 ubuntu ubuntu    172423 Jun 13 06:27 weather_analysis_pca.ipynb\r\n",
        "-rw-rw-r-- 1 ubuntu ubuntu    102677 Jun 11 08:59 weather_analysis_sanity-check.ipynb\r\n",
        "-rw-rw-r-- 1 ubuntu ubuntu   4416181 Jun 13 05:44 weather_analysis_station-statistics.ipynb\r\n"
       ]
      }
     ],
     "prompt_number": 131
    },
    {
     "cell_type": "code",
     "collapsed": false,
     "input": [
      "%%writefile mr_weather_mean.py\n",
      "\"\"\"\n",
      "compute mean vector for each partition\n",
      "\"\"\"\n",
      "import sys\n",
      "sys.path.append('/usr/lib/python2.7/dist-packages')\n",
      "from mrjob.job import MRJob\n",
      "import re\n",
      "from sys import stderr\n",
      "import pickle, gzip\n",
      "import pandas\n",
      "import numpy as np\n",
      "from compiler.ast import flatten\n",
      "\n",
      "class MRWeatherMean(MRJob):\n",
      "\n",
      "    #This adds options --stations for the location of where to get the lookup file\n",
      "    def configure_options(self):\n",
      "        super(MRWeatherMean,self).configure_options()\n",
      "        self.add_file_option('--partitions')\n",
      "    #This loads the lookup file into a field on the object\n",
      "    def mapper_init(self):\n",
      "        f = gzip.open( self.options.partitions, \"rb\" )\n",
      "        pickleFile = pickle.Unpickler(f)\n",
      "        self.partitions = pickleFile.load()\n",
      "        f.close()\n",
      "\n",
      "    def mapper(self, _, line):\n",
      "        try:\n",
      "            self.increment_counter('MrJob Counters','mapper',1)\n",
      "            elements=line.split(',')\n",
      "            if (elements[1]=='TMIN')|(elements[1]=='TMAX'):\n",
      "                mvalues = []\n",
      "                for e in elements[3:]:\n",
      "                    # Added Threshold:\n",
      "                    if e!='' and float(e) < 600 and float(e) > -500:\n",
      "                        mvalues.append(float(e))\n",
      "                    else:\n",
      "                        mvalues.append(np.nan)\n",
      "                mvalues = np.array(mvalues)\n",
      "                # Check if more than 200 days of measurements\n",
      "                if sum(~np.isnan(mvalues))>=200:\n",
      "                    partitionID = int(self.partitions[self.partitions['Station'] == elements[0]]['partitionID'])\n",
      "                    yield((partitionID,elements[1]),list(mvalues))\n",
      "        except Exception, e:\n",
      "            stderr.write('Error in line:\\n'+line+'\\n')\n",
      "            stderr.write(str(e)+'\\n')\n",
      "            self.increment_counter('MrJob Counters','mapper-error',1)\n",
      "            yield ('error',1)\n",
      "\n",
      "    def reducer(self, key, mvalues):\n",
      "        try:\n",
      "            self.increment_counter('MrJob Counters','reducer',1)\n",
      "            M = []\n",
      "            for year in mvalues:\n",
      "                x = [float(e) for e in year]\n",
      "                M.append(x)\n",
      "            M = np.array(M)\n",
      "            M_mask = np.ma.masked_array(M,np.isnan(M))\n",
      "            M_mean = np.mean(M_mask,axis=0)\n",
      "            M_mean_value = M_mean.filled(np.nan)\n",
      "            yield (key,list(M_mean_value))\n",
      "        except Exception, e:\n",
      "            stderr.write('Error in line:\\n')\n",
      "            stderr.write(str(e)+'\\t'+str(key)+'\\t'+str(flatten(mvalues))+'\\n')\n",
      "            self.increment_counter('MrJob Counters','reducer-error',1)\n",
      "            yield ('error',1)\n",
      "            \n",
      "if __name__ == '__main__':\n",
      "    MRWeatherMean.run()"
     ],
     "language": "python",
     "metadata": {},
     "outputs": [
      {
       "output_type": "stream",
       "stream": "stdout",
       "text": [
        "Overwriting mr_weather_mean.py\n"
       ]
      }
     ],
     "prompt_number": 139
    },
    {
     "cell_type": "code",
     "collapsed": false,
     "input": [
      "%%writefile mr_weather_covariance.py\n",
      "\"\"\"\n",
      "compute covariance matrix for each partition\n",
      "\"\"\"\n",
      "import sys\n",
      "sys.path.append('/usr/lib/python2.7/dist-packages')\n",
      "from mrjob.job import MRJob\n",
      "import re\n",
      "from sys import stderr\n",
      "import pickle, gzip\n",
      "import pandas\n",
      "import numpy as np\n",
      "\n",
      "class MRWeatherCovariance(MRJob):\n",
      "    #This adds options --stations for the location of where to get the lookup file\n",
      "    def configure_options(self):\n",
      "        super(MRWeatherCovariance,self).configure_options()\n",
      "        self.add_file_option('--partitions')\n",
      "        self.add_file_option('--means')\n",
      "    #This loads the lookup file into a field on the object\n",
      "    \n",
      "    def mapper_concatenate_init(self):\n",
      "        f = gzip.open( self.options.partitions, \"rb\" )\n",
      "        pickleFile = pickle.Unpickler(f)\n",
      "        self.partitions = pickleFile.load()\n",
      "        f.close()\n",
      "    \n",
      "    def mapper_covariance_init(self):\n",
      "        f2 = gzip.open( self.options.means, \"rb\" )\n",
      "        pickleFile2 = pickle.Unpickler(f2)\n",
      "        self.means = pickleFile2.load()\n",
      "        f2.close()\n",
      "\n",
      "    def mapper_concatenate(self, _, line):\n",
      "        try:\n",
      "            self.increment_counter('MrJob Step 1','mapper-conc',1)\n",
      "            elements=line.split(',')\n",
      "            if (elements[1]=='TMIN')|(elements[1]=='TMAX'):\n",
      "                mvalues = []\n",
      "                for e in elements[3:]:\n",
      "                    # Added Threshold:\n",
      "                    if e!='' and float(e) < 600 and float(e) > -500:\n",
      "                        mvalues.append(float(e))\n",
      "                    else:\n",
      "                        mvalues.append(np.nan)\n",
      "                mvalues = np.array(mvalues)\n",
      "                # Check if more than 200 days of measurements\n",
      "                if sum(~np.isnan(mvalues))>=200:\n",
      "                    partitionID = int(self.partitions[self.partitions['Station'] == elements[0]]['partitionID'])\n",
      "                    yield([partitionID, elements[0], elements[2]],[elements[1]] + list(mvalues))\n",
      "        except Exception, e:\n",
      "            stderr.write('Error in line:\\n'+line+'\\n')\n",
      "            stderr.write(str(e)+'\\n')\n",
      "            self.increment_counter('MrJob Step 1','mapper-conc-error',1)\n",
      "            yield ('error',1)\n",
      "\n",
      "    def reducer_concatenate(self, key, mvalues):\n",
      "        self.increment_counter('MrJob Step 1','reducer-conc',1)\n",
      "        year_data = np.ones(730) * np.nan #np.zeros(730)\n",
      "        for e in mvalues:\n",
      "            if e[0] == 'TMAX':\n",
      "                year_data[0:365] = e[1:]\n",
      "            else:\n",
      "                year_data[365:] = e[1:]\n",
      "        yield (key[0],list(year_data))\n",
      "        \n",
      "    def mapper_covariance(self, partitionID, year):\n",
      "        try:\n",
      "            self.increment_counter('MrJob Step 2','mapper-cov',1)\n",
      "            partitionID = int(partitionID)\n",
      "            \n",
      "            year_mean = self.means[self.means['partitionID'] == partitionID]\n",
      "            year_mean_tmax = year_mean[year_mean['Type'] == 'TMAX']\n",
      "            year_mean_tmin = year_mean[year_mean['Type'] == 'TMIN']\n",
      "\n",
      "            diff = np.array([float(e) for e in year])\n",
      "            if len(year_mean_tmax) > 0:\n",
      "                year_mean_tmax = year_mean_tmax.values[0,2:]\n",
      "                diff[0:365] = diff[0:365] - year_mean_tmax\n",
      "\n",
      "            if len(year_mean_tmin) > 0:\n",
      "                year_mean_tmin = year_mean_tmin.values[0,2:]\n",
      "                diff[365:730] = diff[365:730] - year_mean_tmin\n",
      "\n",
      "            for i in xrange(730):\n",
      "                for j in xrange(i,730): \n",
      "                    product = diff[j] * diff[i]\n",
      "                    yield ((partitionID,i,j),product)\n",
      "           \n",
      "\n",
      "\n",
      "        except Exception, e:\n",
      "            stderr.write('Error in line:\\n')\n",
      "            stderr.write(str(e)+'\\n'+str(partitionID)+str(year)+'\\n')\n",
      "            self.increment_counter('MrJob Step 2','mapper-cov-error',1)\n",
      "            yield ('error',1)\n",
      "\n",
      "    def reducer_covariance(self, key, value):\n",
      "        self.increment_counter('MrJob Step 2','reducer-cov',1)\n",
      "        value = [float(e) for e in value]\n",
      "        M = np.array(value)\n",
      "        M_mask = np.ma.masked_array(M,np.isnan(M))\n",
      "        M_mean = np.mean(M_mask)\n",
      "        yield(key, float(M_mean))\n",
      "            \n",
      "    def steps(self):\n",
      "        return [\n",
      "            self.mr(mapper_init=self.mapper_concatenate_init,\n",
      "                    mapper=self.mapper_concatenate,\n",
      "                    reducer=self.reducer_concatenate),\n",
      "            self.mr(mapper_init=self.mapper_covariance_init,\n",
      "                    mapper=self.mapper_covariance,\n",
      "                    reducer=self.reducer_covariance)\n",
      "        ]\n",
      "        \n",
      "if __name__ == '__main__':\n",
      "    MRWeatherCovariance.run()"
     ],
     "language": "python",
     "metadata": {},
     "outputs": [
      {
       "output_type": "stream",
       "stream": "stdout",
       "text": [
        "Overwriting mr_weather_covariance.py\n"
       ]
      }
     ],
     "prompt_number": 124
    },
    {
     "cell_type": "code",
     "collapsed": false,
     "input": [
      "Creds= pickle.load(open('/home/ubuntu/Vault/Creds.pkl','rb'))\n",
      "pair=Creds['mrjob']\n",
      "key_id=pair['key_id']\n",
      "secret_key=pair['secret_key']\n",
      "\n",
      "job_flow_id=find_waiting_flow(key_id,secret_key)"
     ],
     "language": "python",
     "metadata": {},
     "outputs": [
      {
       "output_type": "stream",
       "stream": "stdout",
       "text": [
        "<boto.emr.emrobject.JobFlow object at 0x2d552110> no_script.yoavfreund.20140610.012515.693483 j-3SOQM885E1GLH WAITING\n",
        "<boto.emr.emrobject.JobFlow object at 0x2d57e190> no_script.yoavfreund.20140610.012523.713192 j-34Q4HR41T9BWU WAITING\n",
        "<boto.emr.emrobject.JobFlow object at 0x2d585710> no_script.yoavfreund.20140611.181703.600873 j-2N4U1USC54EM6 WAITING\n",
        "<boto.emr.emrobject.JobFlow object at 0xca4d990> no_script.yoavfreund.20140611.181713.270989 j-3QZOHADZF9KY1 WAITING\n",
        "<boto.emr.emrobject.JobFlow object at 0xca50a90> no_script.yoavfreund.20140611.181722.314318 j-3MR2RR5OEXRQ7 WAITING\n",
        "<boto.emr.emrobject.JobFlow object at 0x497ca50> no_script.yoavfreund.20140613.042333.580519 j-27Y940LIXXNSZ WAITING\n",
        "<boto.emr.emrobject.JobFlow object at 0x497ccd0> no_script.yoavfreund.20140613.042344.097071 j-3LP88IFUHBOHO WAITING\n",
        "<boto.emr.emrobject.JobFlow object at 0x497b0d0> no_script.yoavfreund.20140613.042353.469396 j-2YMCM4F2XO00B WAITING\n",
        "<boto.emr.emrobject.JobFlow object at 0x497bb50> no_script.yoavfreund.20140613.042403.179810 j-2DMPRXAW49U58 WAITING\n"
       ]
      }
     ],
     "prompt_number": 132
    },
    {
     "cell_type": "code",
     "collapsed": false,
     "input": [
      "!python mr_weather_covariance.py --partitions dfPartition_1M.pkl.gz --means dfMeans_1M.pkl.gz \\\n",
      "/home/ubuntu/woerns/UCSD_BigData/data/weather/ALL.head.csv > TMINTMAX_cov.pkl"
     ],
     "language": "python",
     "metadata": {},
     "outputs": [
      {
       "output_type": "stream",
       "stream": "stdout",
       "text": [
        "using configs in /home/ubuntu/.mrjob.conf\r\n",
        "creating tmp directory /tmp/mr_weather_covariance.ubuntu.20140612.224344.047935\r\n",
        "writing to /tmp/mr_weather_covariance.ubuntu.20140612.224344.047935/step-0-mapper_part-00000\r\n"
       ]
      },
      {
       "output_type": "stream",
       "stream": "stdout",
       "text": [
        "Counters from step 1:\r\n",
        "  MrJob Counters:\r\n",
        "    mapper: 1000\r\n",
        "writing to /tmp/mr_weather_covariance.ubuntu.20140612.224344.047935/step-0-mapper-sorted\r\n",
        "> sort /tmp/mr_weather_covariance.ubuntu.20140612.224344.047935/step-0-mapper_part-00000\r\n",
        "writing to /tmp/mr_weather_covariance.ubuntu.20140612.224344.047935/step-0-reducer_part-00000\r\n"
       ]
      },
      {
       "output_type": "stream",
       "stream": "stdout",
       "text": [
        "Counters from step 1:\r\n",
        "  MrJob Counters:\r\n",
        "    mapper: 1000\r\n",
        "    reducer: 123\r\n",
        "writing to /tmp/mr_weather_covariance.ubuntu.20140612.224344.047935/step-1-mapper_part-00000\r\n"
       ]
      },
      {
       "output_type": "stream",
       "stream": "stdout",
       "text": [
        "Counters from step 2:\r\n",
        "  MrJob Counters:\r\n",
        "    mapper: 123\r\n",
        "writing to /tmp/mr_weather_covariance.ubuntu.20140612.224344.047935/step-1-mapper-sorted\r\n",
        "> sort /tmp/mr_weather_covariance.ubuntu.20140612.224344.047935/step-1-mapper_part-00000\r\n"
       ]
      },
      {
       "output_type": "stream",
       "stream": "stdout",
       "text": [
        "writing to /tmp/mr_weather_covariance.ubuntu.20140612.224344.047935/step-1-reducer_part-00000\r\n"
       ]
      },
      {
       "output_type": "stream",
       "stream": "stdout",
       "text": [
        "Counters from step 2:\r\n",
        "  MrJob Counters:\r\n",
        "    mapper: 123\r\n",
        "  Unencodable output:\r\n",
        "    TypeError: 1067260\r\n",
        "Moving /tmp/mr_weather_covariance.ubuntu.20140612.224344.047935/step-1-reducer_part-00000 -> /tmp/mr_weather_covariance.ubuntu.20140612.224344.047935/output/part-00000\r\n",
        "Streaming final output from /tmp/mr_weather_covariance.ubuntu.20140612.224344.047935/output\r\n",
        "removing tmp directory /tmp/mr_weather_covariance.ubuntu.20140612.224344.047935\r\n"
       ]
      }
     ],
     "prompt_number": 5
    },
    {
     "cell_type": "code",
     "collapsed": false,
     "input": [
      "job_flow_id='j-3MR2RR5OEXRQ7'"
     ],
     "language": "python",
     "metadata": {},
     "outputs": [],
     "prompt_number": 140
    },
    {
     "cell_type": "code",
     "collapsed": false,
     "input": [
      "!python mr_weather_mean.py --partitions dfPartition_5k.pkl.gz \\\n",
      "-r emr --emr-job-flow-id $job_flow_id hdfs:/weather.raw_data/ALL.csv > TMINTMAX_mean_5k_actual_for_real.pkl"
     ],
     "language": "python",
     "metadata": {},
     "outputs": [
      {
       "output_type": "stream",
       "stream": "stdout",
       "text": [
        "using configs in /home/ubuntu/.mrjob.conf\r\n"
       ]
      },
      {
       "output_type": "stream",
       "stream": "stdout",
       "text": [
        "creating tmp directory /tmp/mr_weather_mean.ubuntu.20140613.070832.953917\r\n"
       ]
      },
      {
       "output_type": "stream",
       "stream": "stdout",
       "text": [
        "Copying non-input files into s3://woerns.bucket/scratch/mr_weather_mean.ubuntu.20140613.070832.953917/files/\r\n"
       ]
      },
      {
       "output_type": "stream",
       "stream": "stdout",
       "text": [
        "Adding our job to existing job flow j-3MR2RR5OEXRQ7\r\n"
       ]
      },
      {
       "output_type": "stream",
       "stream": "stdout",
       "text": [
        "Job launched 30.4s ago, status RUNNING: Running step (mr_weather_mean.ubuntu.20140613.070832.953917: Step 1 of 1)\r\n"
       ]
      },
      {
       "output_type": "stream",
       "stream": "stdout",
       "text": [
        "Job launched 60.8s ago, status RUNNING: Running step (mr_weather_mean.ubuntu.20140613.070832.953917: Step 1 of 1)\r\n"
       ]
      },
      {
       "output_type": "stream",
       "stream": "stdout",
       "text": [
        "Job launched 91.3s ago, status RUNNING: Running step (mr_weather_mean.ubuntu.20140613.070832.953917: Step 1 of 1)\r\n"
       ]
      },
      {
       "output_type": "stream",
       "stream": "stdout",
       "text": [
        "Job launched 121.7s ago, status RUNNING: Running step (mr_weather_mean.ubuntu.20140613.070832.953917: Step 1 of 1)\r\n"
       ]
      },
      {
       "output_type": "stream",
       "stream": "stdout",
       "text": [
        "Job launched 152.1s ago, status RUNNING: Running step (mr_weather_mean.ubuntu.20140613.070832.953917: Step 1 of 1)\r\n"
       ]
      },
      {
       "output_type": "stream",
       "stream": "stdout",
       "text": [
        "Job launched 182.5s ago, status RUNNING: Running step (mr_weather_mean.ubuntu.20140613.070832.953917: Step 1 of 1)\r\n"
       ]
      },
      {
       "output_type": "stream",
       "stream": "stdout",
       "text": [
        "Job launched 212.9s ago, status RUNNING: Running step (mr_weather_mean.ubuntu.20140613.070832.953917: Step 1 of 1)\r\n"
       ]
      },
      {
       "output_type": "stream",
       "stream": "stdout",
       "text": [
        "Job launched 243.4s ago, status RUNNING: Running step (mr_weather_mean.ubuntu.20140613.070832.953917: Step 1 of 1)\r\n"
       ]
      },
      {
       "output_type": "stream",
       "stream": "stdout",
       "text": [
        "Job launched 273.8s ago, status RUNNING: Running step (mr_weather_mean.ubuntu.20140613.070832.953917: Step 1 of 1)\r\n"
       ]
      },
      {
       "output_type": "stream",
       "stream": "stdout",
       "text": [
        "Job launched 304.3s ago, status RUNNING: Running step (mr_weather_mean.ubuntu.20140613.070832.953917: Step 1 of 1)\r\n"
       ]
      },
      {
       "output_type": "stream",
       "stream": "stdout",
       "text": [
        "Job launched 334.7s ago, status RUNNING: Running step (mr_weather_mean.ubuntu.20140613.070832.953917: Step 1 of 1)\r\n"
       ]
      },
      {
       "output_type": "stream",
       "stream": "stdout",
       "text": [
        "Job launched 365.1s ago, status RUNNING: Running step (mr_weather_mean.ubuntu.20140613.070832.953917: Step 1 of 1)\r\n"
       ]
      },
      {
       "output_type": "stream",
       "stream": "stdout",
       "text": [
        "Job launched 395.5s ago, status RUNNING: Running step (mr_weather_mean.ubuntu.20140613.070832.953917: Step 1 of 1)\r\n"
       ]
      },
      {
       "output_type": "stream",
       "stream": "stdout",
       "text": [
        "Job launched 425.9s ago, status RUNNING: Running step (mr_weather_mean.ubuntu.20140613.070832.953917: Step 1 of 1)\r\n"
       ]
      },
      {
       "output_type": "stream",
       "stream": "stdout",
       "text": [
        "Job launched 456.3s ago, status RUNNING: Running step (mr_weather_mean.ubuntu.20140613.070832.953917: Step 1 of 1)\r\n"
       ]
      },
      {
       "output_type": "stream",
       "stream": "stdout",
       "text": [
        "Job launched 486.7s ago, status RUNNING: Running step (mr_weather_mean.ubuntu.20140613.070832.953917: Step 1 of 1)\r\n"
       ]
      },
      {
       "output_type": "stream",
       "stream": "stdout",
       "text": [
        "Job launched 517.2s ago, status RUNNING: Running step (mr_weather_mean.ubuntu.20140613.070832.953917: Step 1 of 1)\r\n"
       ]
      },
      {
       "output_type": "stream",
       "stream": "stdout",
       "text": [
        "Job launched 547.6s ago, status RUNNING: Running step (mr_weather_mean.ubuntu.20140613.070832.953917: Step 1 of 1)\r\n"
       ]
      },
      {
       "output_type": "stream",
       "stream": "stdout",
       "text": [
        "Job launched 578.1s ago, status RUNNING: Running step (mr_weather_mean.ubuntu.20140613.070832.953917: Step 1 of 1)\r\n"
       ]
      },
      {
       "output_type": "stream",
       "stream": "stdout",
       "text": [
        "Job launched 608.5s ago, status RUNNING: Running step (mr_weather_mean.ubuntu.20140613.070832.953917: Step 1 of 1)\r\n"
       ]
      },
      {
       "output_type": "stream",
       "stream": "stdout",
       "text": [
        "Job launched 638.9s ago, status RUNNING: Running step (mr_weather_mean.ubuntu.20140613.070832.953917: Step 1 of 1)\r\n"
       ]
      },
      {
       "output_type": "stream",
       "stream": "stdout",
       "text": [
        "Job launched 669.3s ago, status RUNNING: Running step (mr_weather_mean.ubuntu.20140613.070832.953917: Step 1 of 1)\r\n"
       ]
      },
      {
       "output_type": "stream",
       "stream": "stdout",
       "text": [
        "Job launched 699.7s ago, status RUNNING: Running step (mr_weather_mean.ubuntu.20140613.070832.953917: Step 1 of 1)\r\n"
       ]
      },
      {
       "output_type": "stream",
       "stream": "stdout",
       "text": [
        "Job launched 730.1s ago, status RUNNING: Running step (mr_weather_mean.ubuntu.20140613.070832.953917: Step 1 of 1)\r\n"
       ]
      },
      {
       "output_type": "stream",
       "stream": "stdout",
       "text": [
        "Job launched 760.4s ago, status RUNNING: Running step (mr_weather_mean.ubuntu.20140613.070832.953917: Step 1 of 1)\r\n"
       ]
      },
      {
       "output_type": "stream",
       "stream": "stdout",
       "text": [
        "Job launched 790.8s ago, status RUNNING: Running step (mr_weather_mean.ubuntu.20140613.070832.953917: Step 1 of 1)\r\n"
       ]
      },
      {
       "output_type": "stream",
       "stream": "stdout",
       "text": [
        "Job launched 821.2s ago, status RUNNING: Running step (mr_weather_mean.ubuntu.20140613.070832.953917: Step 1 of 1)\r\n"
       ]
      },
      {
       "output_type": "stream",
       "stream": "stdout",
       "text": [
        "Job launched 851.6s ago, status RUNNING: Running step (mr_weather_mean.ubuntu.20140613.070832.953917: Step 1 of 1)\r\n"
       ]
      },
      {
       "output_type": "stream",
       "stream": "stdout",
       "text": [
        "Job launched 882.0s ago, status RUNNING: Running step (mr_weather_mean.ubuntu.20140613.070832.953917: Step 1 of 1)\r\n"
       ]
      },
      {
       "output_type": "stream",
       "stream": "stdout",
       "text": [
        "Job launched 912.5s ago, status RUNNING: Running step (mr_weather_mean.ubuntu.20140613.070832.953917: Step 1 of 1)\r\n"
       ]
      },
      {
       "output_type": "stream",
       "stream": "stdout",
       "text": [
        "Job launched 942.8s ago, status RUNNING: Running step (mr_weather_mean.ubuntu.20140613.070832.953917: Step 1 of 1)\r\n"
       ]
      },
      {
       "output_type": "stream",
       "stream": "stdout",
       "text": [
        "Job launched 973.2s ago, status RUNNING: Running step (mr_weather_mean.ubuntu.20140613.070832.953917: Step 1 of 1)\r\n"
       ]
      },
      {
       "output_type": "stream",
       "stream": "stdout",
       "text": [
        "Job launched 1003.6s ago, status RUNNING: Running step (mr_weather_mean.ubuntu.20140613.070832.953917: Step 1 of 1)\r\n"
       ]
      },
      {
       "output_type": "stream",
       "stream": "stdout",
       "text": [
        "Job launched 1034.0s ago, status RUNNING: Running step (mr_weather_mean.ubuntu.20140613.070832.953917: Step 1 of 1)\r\n"
       ]
      },
      {
       "output_type": "stream",
       "stream": "stdout",
       "text": [
        "Job launched 1064.4s ago, status RUNNING: Running step (mr_weather_mean.ubuntu.20140613.070832.953917: Step 1 of 1)\r\n"
       ]
      },
      {
       "output_type": "stream",
       "stream": "stdout",
       "text": [
        "Job launched 1094.8s ago, status RUNNING: Running step (mr_weather_mean.ubuntu.20140613.070832.953917: Step 1 of 1)\r\n"
       ]
      },
      {
       "output_type": "stream",
       "stream": "stdout",
       "text": [
        "Job launched 1125.2s ago, status RUNNING: Running step (mr_weather_mean.ubuntu.20140613.070832.953917: Step 1 of 1)\r\n"
       ]
      },
      {
       "output_type": "stream",
       "stream": "stdout",
       "text": [
        "Job launched 1155.5s ago, status RUNNING: Running step (mr_weather_mean.ubuntu.20140613.070832.953917: Step 1 of 1)\r\n"
       ]
      },
      {
       "output_type": "stream",
       "stream": "stdout",
       "text": [
        "Job launched 1186.0s ago, status RUNNING: Running step (mr_weather_mean.ubuntu.20140613.070832.953917: Step 1 of 1)\r\n"
       ]
      },
      {
       "output_type": "stream",
       "stream": "stdout",
       "text": [
        "Job launched 1216.4s ago, status RUNNING: Running step (mr_weather_mean.ubuntu.20140613.070832.953917: Step 1 of 1)\r\n"
       ]
      },
      {
       "output_type": "stream",
       "stream": "stdout",
       "text": [
        "Job launched 1246.8s ago, status RUNNING: Running step (mr_weather_mean.ubuntu.20140613.070832.953917: Step 1 of 1)\r\n"
       ]
      },
      {
       "output_type": "stream",
       "stream": "stdout",
       "text": [
        "Job launched 1277.2s ago, status RUNNING: Running step (mr_weather_mean.ubuntu.20140613.070832.953917: Step 1 of 1)\r\n"
       ]
      },
      {
       "output_type": "stream",
       "stream": "stdout",
       "text": [
        "Job launched 1307.7s ago, status RUNNING: Running step (mr_weather_mean.ubuntu.20140613.070832.953917: Step 1 of 1)\r\n"
       ]
      },
      {
       "output_type": "stream",
       "stream": "stdout",
       "text": [
        "Job launched 1338.1s ago, status RUNNING: Running step (mr_weather_mean.ubuntu.20140613.070832.953917: Step 1 of 1)\r\n"
       ]
      },
      {
       "output_type": "stream",
       "stream": "stdout",
       "text": [
        "Job launched 1368.5s ago, status RUNNING: Running step (mr_weather_mean.ubuntu.20140613.070832.953917: Step 1 of 1)\r\n"
       ]
      },
      {
       "output_type": "stream",
       "stream": "stdout",
       "text": [
        "Job launched 1398.8s ago, status RUNNING: Running step (mr_weather_mean.ubuntu.20140613.070832.953917: Step 1 of 1)\r\n"
       ]
      },
      {
       "output_type": "stream",
       "stream": "stdout",
       "text": [
        "Job launched 1429.2s ago, status RUNNING: Running step (mr_weather_mean.ubuntu.20140613.070832.953917: Step 1 of 1)\r\n"
       ]
      },
      {
       "output_type": "stream",
       "stream": "stdout",
       "text": [
        "Job launched 1459.6s ago, status RUNNING: Running step (mr_weather_mean.ubuntu.20140613.070832.953917: Step 1 of 1)\r\n"
       ]
      },
      {
       "output_type": "stream",
       "stream": "stdout",
       "text": [
        "Job launched 1490.0s ago, status RUNNING: Running step (mr_weather_mean.ubuntu.20140613.070832.953917: Step 1 of 1)\r\n"
       ]
      },
      {
       "output_type": "stream",
       "stream": "stdout",
       "text": [
        "Job launched 1520.4s ago, status RUNNING: Running step (mr_weather_mean.ubuntu.20140613.070832.953917: Step 1 of 1)\r\n"
       ]
      },
      {
       "output_type": "stream",
       "stream": "stdout",
       "text": [
        "Job launched 1550.8s ago, status RUNNING: Running step (mr_weather_mean.ubuntu.20140613.070832.953917: Step 1 of 1)\r\n"
       ]
      },
      {
       "output_type": "stream",
       "stream": "stdout",
       "text": [
        "Job launched 1581.2s ago, status RUNNING: Running step (mr_weather_mean.ubuntu.20140613.070832.953917: Step 1 of 1)\r\n"
       ]
      },
      {
       "output_type": "stream",
       "stream": "stdout",
       "text": [
        "Job launched 1611.7s ago, status RUNNING: Running step (mr_weather_mean.ubuntu.20140613.070832.953917: Step 1 of 1)\r\n"
       ]
      },
      {
       "output_type": "stream",
       "stream": "stdout",
       "text": [
        "Job launched 1642.1s ago, status RUNNING: Running step (mr_weather_mean.ubuntu.20140613.070832.953917: Step 1 of 1)\r\n"
       ]
      },
      {
       "output_type": "stream",
       "stream": "stdout",
       "text": [
        "Job completed.\r\n",
        "Running time was 1662.0s (not counting time spent waiting for the EC2 instances)\r\n",
        "ec2_key_pair_file not specified, going to S3\r\n",
        "Fetching counters from S3...\r\n",
        "Waiting 5.0s for S3 eventual consistency\r\n"
       ]
      },
      {
       "output_type": "stream",
       "stream": "stdout",
       "text": [
        "Counters may not have been uploaded to S3 yet. Try again in 5 minutes with: mrjob fetch-logs --counters j-3MR2RR5OEXRQ7\r\n",
        "Counters from step 1:\r\n",
        "  (no counters found)\r\n",
        "Streaming final output from s3://woerns.bucket/scratch/mr_weather_mean.ubuntu.20140613.070832.953917/output/\r\n"
       ]
      },
      {
       "output_type": "stream",
       "stream": "stdout",
       "text": [
        "removing tmp directory /tmp/mr_weather_mean.ubuntu.20140613.070832.953917\r\n",
        "Removing all files in s3://woerns.bucket/scratch/mr_weather_mean.ubuntu.20140613.070832.953917/\r\n"
       ]
      }
     ],
     "prompt_number": 141
    },
    {
     "cell_type": "code",
     "collapsed": false,
     "input": [
      "dfMeans = pd.read_table('TMINTMAX_mean_5k.pkl',header=None,delimiter=r\"[\\[\\]\\\",\\t]+\")#,names=['partitionID','Type','Mean'])\n",
      "dfMeans = dfMeans.drop([0,2,369],1)\n",
      "dfMeans.columns = [['partitionID','Type']+range(1,366)]"
     ],
     "language": "python",
     "metadata": {},
     "outputs": [],
     "prompt_number": 142
    },
    {
     "cell_type": "code",
     "collapsed": false,
     "input": [
      "dfMeans = dfMeans.sort(['partitionID','Type']).reset_index(drop=True)\n",
      "dfMeans.ix[:,1:365] = dfMeans.ix[:,1:365]/10\n",
      "dfMeans.to_pickle('dfMeans_5k.pkl')"
     ],
     "language": "python",
     "metadata": {},
     "outputs": [
      {
       "html": [
        "<div style=\"max-height:1000px;max-width:1500px;overflow:auto;\">\n",
        "<table border=\"1\" class=\"dataframe\">\n",
        "  <thead>\n",
        "    <tr style=\"text-align: right;\">\n",
        "      <th></th>\n",
        "      <th>partitionID</th>\n",
        "      <th>Type</th>\n",
        "      <th>1</th>\n",
        "      <th>2</th>\n",
        "      <th>3</th>\n",
        "      <th>4</th>\n",
        "      <th>5</th>\n",
        "      <th>6</th>\n",
        "      <th>7</th>\n",
        "      <th>8</th>\n",
        "      <th>9</th>\n",
        "      <th>10</th>\n",
        "      <th>11</th>\n",
        "      <th>12</th>\n",
        "      <th>13</th>\n",
        "      <th>14</th>\n",
        "      <th>15</th>\n",
        "      <th>16</th>\n",
        "      <th>17</th>\n",
        "      <th>18</th>\n",
        "      <th></th>\n",
        "    </tr>\n",
        "  </thead>\n",
        "  <tbody>\n",
        "    <tr>\n",
        "      <th>0</th>\n",
        "      <td> 511</td>\n",
        "      <td> TMAX</td>\n",
        "      <td> 24.486853</td>\n",
        "      <td> 24.545393</td>\n",
        "      <td> 24.577375</td>\n",
        "      <td> 24.412443</td>\n",
        "      <td> 24.432747</td>\n",
        "      <td> 24.335968</td>\n",
        "      <td> 24.344699</td>\n",
        "      <td> 24.346073</td>\n",
        "      <td> 24.372003</td>\n",
        "      <td> 24.360628</td>\n",
        "      <td> 24.354444</td>\n",
        "      <td> 24.338371</td>\n",
        "      <td> 24.354522</td>\n",
        "      <td> 24.412590</td>\n",
        "      <td> 24.434661</td>\n",
        "      <td> 24.532407</td>\n",
        "      <td> 24.485611</td>\n",
        "      <td> 24.511206</td>\n",
        "      <td>...</td>\n",
        "    </tr>\n",
        "    <tr>\n",
        "      <th>1</th>\n",
        "      <td> 511</td>\n",
        "      <td> TMIN</td>\n",
        "      <td> 16.599303</td>\n",
        "      <td> 16.553473</td>\n",
        "      <td> 16.570237</td>\n",
        "      <td> 16.546767</td>\n",
        "      <td> 16.416504</td>\n",
        "      <td> 16.349277</td>\n",
        "      <td> 16.275997</td>\n",
        "      <td> 16.381184</td>\n",
        "      <td> 16.292373</td>\n",
        "      <td> 16.380588</td>\n",
        "      <td> 16.394899</td>\n",
        "      <td> 16.290405</td>\n",
        "      <td> 16.367059</td>\n",
        "      <td> 16.374263</td>\n",
        "      <td> 16.367770</td>\n",
        "      <td> 16.405765</td>\n",
        "      <td> 16.293548</td>\n",
        "      <td> 16.378920</td>\n",
        "      <td>...</td>\n",
        "    </tr>\n",
        "    <tr>\n",
        "      <th>2</th>\n",
        "      <td> 512</td>\n",
        "      <td> TMAX</td>\n",
        "      <td> 23.864088</td>\n",
        "      <td> 23.785105</td>\n",
        "      <td> 23.785253</td>\n",
        "      <td> 23.554115</td>\n",
        "      <td> 23.600773</td>\n",
        "      <td> 23.660039</td>\n",
        "      <td> 23.651499</td>\n",
        "      <td> 23.503689</td>\n",
        "      <td> 23.633856</td>\n",
        "      <td> 23.597582</td>\n",
        "      <td> 23.569141</td>\n",
        "      <td> 23.645212</td>\n",
        "      <td> 23.612492</td>\n",
        "      <td> 23.646089</td>\n",
        "      <td> 23.791299</td>\n",
        "      <td> 23.866645</td>\n",
        "      <td> 23.836488</td>\n",
        "      <td> 23.835176</td>\n",
        "      <td>...</td>\n",
        "    </tr>\n",
        "    <tr>\n",
        "      <th>3</th>\n",
        "      <td> 512</td>\n",
        "      <td> TMIN</td>\n",
        "      <td> 15.358942</td>\n",
        "      <td> 15.237860</td>\n",
        "      <td> 15.143325</td>\n",
        "      <td> 15.327110</td>\n",
        "      <td> 15.026633</td>\n",
        "      <td> 14.812947</td>\n",
        "      <td> 15.023092</td>\n",
        "      <td> 14.873015</td>\n",
        "      <td> 14.936464</td>\n",
        "      <td> 14.840903</td>\n",
        "      <td> 14.909619</td>\n",
        "      <td> 15.027688</td>\n",
        "      <td> 14.944710</td>\n",
        "      <td> 14.969961</td>\n",
        "      <td> 14.998096</td>\n",
        "      <td> 14.949579</td>\n",
        "      <td> 15.015653</td>\n",
        "      <td> 15.114836</td>\n",
        "      <td>...</td>\n",
        "    </tr>\n",
        "    <tr>\n",
        "      <th>4</th>\n",
        "      <td> 513</td>\n",
        "      <td> TMAX</td>\n",
        "      <td> 25.348338</td>\n",
        "      <td> 25.342730</td>\n",
        "      <td> 25.316409</td>\n",
        "      <td> 25.290467</td>\n",
        "      <td> 25.276021</td>\n",
        "      <td> 25.134172</td>\n",
        "      <td> 25.140690</td>\n",
        "      <td> 25.152845</td>\n",
        "      <td> 25.188444</td>\n",
        "      <td> 25.205006</td>\n",
        "      <td> 25.057216</td>\n",
        "      <td> 25.112756</td>\n",
        "      <td> 25.158499</td>\n",
        "      <td> 25.082911</td>\n",
        "      <td> 25.039921</td>\n",
        "      <td> 25.019819</td>\n",
        "      <td> 24.995078</td>\n",
        "      <td> 25.130913</td>\n",
        "      <td>...</td>\n",
        "    </tr>\n",
        "  </tbody>\n",
        "</table>\n",
        "<p>5 rows \u00d7 367 columns</p>\n",
        "</div>"
       ],
       "metadata": {},
       "output_type": "pyout",
       "prompt_number": 143,
       "text": [
        "   partitionID  Type          1          2          3          4          5  \\\n",
        "0          511  TMAX  24.486853  24.545393  24.577375  24.412443  24.432747   \n",
        "1          511  TMIN  16.599303  16.553473  16.570237  16.546767  16.416504   \n",
        "2          512  TMAX  23.864088  23.785105  23.785253  23.554115  23.600773   \n",
        "3          512  TMIN  15.358942  15.237860  15.143325  15.327110  15.026633   \n",
        "4          513  TMAX  25.348338  25.342730  25.316409  25.290467  25.276021   \n",
        "\n",
        "           6          7          8          9         10         11  \\\n",
        "0  24.335968  24.344699  24.346073  24.372003  24.360628  24.354444   \n",
        "1  16.349277  16.275997  16.381184  16.292373  16.380588  16.394899   \n",
        "2  23.660039  23.651499  23.503689  23.633856  23.597582  23.569141   \n",
        "3  14.812947  15.023092  14.873015  14.936464  14.840903  14.909619   \n",
        "4  25.134172  25.140690  25.152845  25.188444  25.205006  25.057216   \n",
        "\n",
        "          12         13         14         15         16         17  \\\n",
        "0  24.338371  24.354522  24.412590  24.434661  24.532407  24.485611   \n",
        "1  16.290405  16.367059  16.374263  16.367770  16.405765  16.293548   \n",
        "2  23.645212  23.612492  23.646089  23.791299  23.866645  23.836488   \n",
        "3  15.027688  14.944710  14.969961  14.998096  14.949579  15.015653   \n",
        "4  25.112756  25.158499  25.082911  25.039921  25.019819  24.995078   \n",
        "\n",
        "          18      \n",
        "0  24.511206 ...  \n",
        "1  16.378920 ...  \n",
        "2  23.835176 ...  \n",
        "3  15.114836 ...  \n",
        "4  25.130913 ...  \n",
        "\n",
        "[5 rows x 367 columns]"
       ]
      }
     ],
     "prompt_number": 143
    },
    {
     "cell_type": "code",
     "collapsed": false,
     "input": [
      "dfMeans = pd.read_pickle('dfMeans_5k.pkl')\n",
      "dfMeans.head()"
     ],
     "language": "python",
     "metadata": {},
     "outputs": [
      {
       "html": [
        "<div style=\"max-height:1000px;max-width:1500px;overflow:auto;\">\n",
        "<table border=\"1\" class=\"dataframe\">\n",
        "  <thead>\n",
        "    <tr style=\"text-align: right;\">\n",
        "      <th></th>\n",
        "      <th>partitionID</th>\n",
        "      <th>Type</th>\n",
        "      <th>1</th>\n",
        "      <th>2</th>\n",
        "      <th>3</th>\n",
        "      <th>4</th>\n",
        "      <th>5</th>\n",
        "      <th>6</th>\n",
        "      <th>7</th>\n",
        "      <th>8</th>\n",
        "      <th>9</th>\n",
        "      <th>10</th>\n",
        "      <th>11</th>\n",
        "      <th>12</th>\n",
        "      <th>13</th>\n",
        "      <th>14</th>\n",
        "      <th>15</th>\n",
        "      <th>16</th>\n",
        "      <th>17</th>\n",
        "      <th>18</th>\n",
        "      <th></th>\n",
        "    </tr>\n",
        "  </thead>\n",
        "  <tbody>\n",
        "    <tr>\n",
        "      <th>0</th>\n",
        "      <td> 511</td>\n",
        "      <td> TMAX</td>\n",
        "      <td> 24.486853</td>\n",
        "      <td> 24.545393</td>\n",
        "      <td> 24.577375</td>\n",
        "      <td> 24.412443</td>\n",
        "      <td> 24.432747</td>\n",
        "      <td> 24.335968</td>\n",
        "      <td> 24.344699</td>\n",
        "      <td> 24.346073</td>\n",
        "      <td> 24.372003</td>\n",
        "      <td> 24.360628</td>\n",
        "      <td> 24.354444</td>\n",
        "      <td> 24.338371</td>\n",
        "      <td> 24.354522</td>\n",
        "      <td> 24.412590</td>\n",
        "      <td> 24.434661</td>\n",
        "      <td> 24.532407</td>\n",
        "      <td> 24.485611</td>\n",
        "      <td> 24.511206</td>\n",
        "      <td>...</td>\n",
        "    </tr>\n",
        "    <tr>\n",
        "      <th>1</th>\n",
        "      <td> 511</td>\n",
        "      <td> TMIN</td>\n",
        "      <td> 16.599303</td>\n",
        "      <td> 16.553473</td>\n",
        "      <td> 16.570237</td>\n",
        "      <td> 16.546767</td>\n",
        "      <td> 16.416504</td>\n",
        "      <td> 16.349277</td>\n",
        "      <td> 16.275997</td>\n",
        "      <td> 16.381184</td>\n",
        "      <td> 16.292373</td>\n",
        "      <td> 16.380588</td>\n",
        "      <td> 16.394899</td>\n",
        "      <td> 16.290405</td>\n",
        "      <td> 16.367059</td>\n",
        "      <td> 16.374263</td>\n",
        "      <td> 16.367770</td>\n",
        "      <td> 16.405765</td>\n",
        "      <td> 16.293548</td>\n",
        "      <td> 16.378920</td>\n",
        "      <td>...</td>\n",
        "    </tr>\n",
        "    <tr>\n",
        "      <th>2</th>\n",
        "      <td> 512</td>\n",
        "      <td> TMAX</td>\n",
        "      <td> 23.864088</td>\n",
        "      <td> 23.785105</td>\n",
        "      <td> 23.785253</td>\n",
        "      <td> 23.554115</td>\n",
        "      <td> 23.600773</td>\n",
        "      <td> 23.660039</td>\n",
        "      <td> 23.651499</td>\n",
        "      <td> 23.503689</td>\n",
        "      <td> 23.633856</td>\n",
        "      <td> 23.597582</td>\n",
        "      <td> 23.569141</td>\n",
        "      <td> 23.645212</td>\n",
        "      <td> 23.612492</td>\n",
        "      <td> 23.646089</td>\n",
        "      <td> 23.791299</td>\n",
        "      <td> 23.866645</td>\n",
        "      <td> 23.836488</td>\n",
        "      <td> 23.835176</td>\n",
        "      <td>...</td>\n",
        "    </tr>\n",
        "    <tr>\n",
        "      <th>3</th>\n",
        "      <td> 512</td>\n",
        "      <td> TMIN</td>\n",
        "      <td> 15.358942</td>\n",
        "      <td> 15.237860</td>\n",
        "      <td> 15.143325</td>\n",
        "      <td> 15.327110</td>\n",
        "      <td> 15.026633</td>\n",
        "      <td> 14.812947</td>\n",
        "      <td> 15.023092</td>\n",
        "      <td> 14.873015</td>\n",
        "      <td> 14.936464</td>\n",
        "      <td> 14.840903</td>\n",
        "      <td> 14.909619</td>\n",
        "      <td> 15.027688</td>\n",
        "      <td> 14.944710</td>\n",
        "      <td> 14.969961</td>\n",
        "      <td> 14.998096</td>\n",
        "      <td> 14.949579</td>\n",
        "      <td> 15.015653</td>\n",
        "      <td> 15.114836</td>\n",
        "      <td>...</td>\n",
        "    </tr>\n",
        "    <tr>\n",
        "      <th>4</th>\n",
        "      <td> 513</td>\n",
        "      <td> TMAX</td>\n",
        "      <td> 25.348338</td>\n",
        "      <td> 25.342730</td>\n",
        "      <td> 25.316409</td>\n",
        "      <td> 25.290467</td>\n",
        "      <td> 25.276021</td>\n",
        "      <td> 25.134172</td>\n",
        "      <td> 25.140690</td>\n",
        "      <td> 25.152845</td>\n",
        "      <td> 25.188444</td>\n",
        "      <td> 25.205006</td>\n",
        "      <td> 25.057216</td>\n",
        "      <td> 25.112756</td>\n",
        "      <td> 25.158499</td>\n",
        "      <td> 25.082911</td>\n",
        "      <td> 25.039921</td>\n",
        "      <td> 25.019819</td>\n",
        "      <td> 24.995078</td>\n",
        "      <td> 25.130913</td>\n",
        "      <td>...</td>\n",
        "    </tr>\n",
        "  </tbody>\n",
        "</table>\n",
        "<p>5 rows \u00d7 367 columns</p>\n",
        "</div>"
       ],
       "metadata": {},
       "output_type": "pyout",
       "prompt_number": 45,
       "text": [
        "   partitionID  Type          1          2          3          4          5  \\\n",
        "0          511  TMAX  24.486853  24.545393  24.577375  24.412443  24.432747   \n",
        "1          511  TMIN  16.599303  16.553473  16.570237  16.546767  16.416504   \n",
        "2          512  TMAX  23.864088  23.785105  23.785253  23.554115  23.600773   \n",
        "3          512  TMIN  15.358942  15.237860  15.143325  15.327110  15.026633   \n",
        "4          513  TMAX  25.348338  25.342730  25.316409  25.290467  25.276021   \n",
        "\n",
        "           6          7          8          9         10         11  \\\n",
        "0  24.335968  24.344699  24.346073  24.372003  24.360628  24.354444   \n",
        "1  16.349277  16.275997  16.381184  16.292373  16.380588  16.394899   \n",
        "2  23.660039  23.651499  23.503689  23.633856  23.597582  23.569141   \n",
        "3  14.812947  15.023092  14.873015  14.936464  14.840903  14.909619   \n",
        "4  25.134172  25.140690  25.152845  25.188444  25.205006  25.057216   \n",
        "\n",
        "          12         13         14         15         16         17  \\\n",
        "0  24.338371  24.354522  24.412590  24.434661  24.532407  24.485611   \n",
        "1  16.290405  16.367059  16.374263  16.367770  16.405765  16.293548   \n",
        "2  23.645212  23.612492  23.646089  23.791299  23.866645  23.836488   \n",
        "3  15.027688  14.944710  14.969961  14.998096  14.949579  15.015653   \n",
        "4  25.112756  25.158499  25.082911  25.039921  25.019819  24.995078   \n",
        "\n",
        "          18      \n",
        "0  24.511206 ...  \n",
        "1  16.378920 ...  \n",
        "2  23.835176 ...  \n",
        "3  15.114836 ...  \n",
        "4  25.130913 ...  \n",
        "\n",
        "[5 rows x 367 columns]"
       ]
      }
     ],
     "prompt_number": 45
    },
    {
     "cell_type": "code",
     "collapsed": false,
     "input": [
      "from datetime import date\n",
      "\n",
      "def plot_mean_temperature(T,Nlow=0,Nup=10):\n",
      "    T = np.array(T)\n",
      "    T = T[:,Nlow:Nup]\n",
      "    fig = plt.figure(1,figsize=(12,5),dpi=300)\n",
      "    if shape(T)[0] != 365:\n",
      "        raise ValueError(\"First dimension of T should be 365. Shape(T)=\"+str(shape(T)))\n",
      "    dates=[date.fromordinal(i) for i in range(1,366)]\n",
      "    plot(dates,T);\n",
      "    ylabel('Temperature')\n",
      "    grid()\n",
      "    title('Mean TMAX and TMIN by partition')\n",
      "    legend(dfMeans.ix[Nlow:Nup,['partitionID','Type']].values)\n",
      "    fig.savefig('plots/TMINTMAX_mean.png',dpi=fig.dpi,bbox_inches='tight', pad_inches=0)"
     ],
     "language": "python",
     "metadata": {},
     "outputs": [],
     "prompt_number": 56
    },
    {
     "cell_type": "code",
     "collapsed": false,
     "input": [
      "plot_mean_temperature(dfMeans.ix[:,1:365].transpose(),0,10)"
     ],
     "language": "python",
     "metadata": {},
     "outputs": [
      {
       "metadata": {},
       "output_type": "display_data",
       "png": "[encoded data removed]",
       "text": [
        "<matplotlib.figure.Figure at 0x3eb7a50>"
       ]
      }
     ],
     "prompt_number": 57
    },
    {
     "cell_type": "code",
     "collapsed": false,
     "input": [
      "!split -l 266815 ./cov/cov_64.sorted.pkl"
     ],
     "language": "python",
     "metadata": {},
     "outputs": [
      {
       "output_type": "stream",
       "stream": "stdout",
       "text": [
        "split: cannot open `./cov/cov_64.sorted.pkl' for reading: No such file or directory\r\n"
       ]
      }
     ],
     "prompt_number": 21
    },
    {
     "cell_type": "code",
     "collapsed": false,
     "input": [
      "# Fill up symmetric entries\n",
      "def fill_cov(cov):\n",
      "    for i in xrange(1,shape(cov)[0]):\n",
      "        for j in xrange(i):\n",
      "            cov[i][j] = cov[j][i]        \n",
      "    return cov"
     ],
     "language": "python",
     "metadata": {},
     "outputs": [],
     "prompt_number": 36
    },
    {
     "cell_type": "code",
     "collapsed": false,
     "input": [
      "import os\n",
      "\n",
      "for f in os.listdir(\"./cov/\"):\n",
      "    dfCov = pd.read_table('./cov/' + f,header=None,delimiter=r\"[\\[\\]\\\",\\t]+\")\n",
      "    dfCov = dfCov.drop(0,1)\n",
      "    dfCov.columns = ['partitionID','i','j','cov_ij']\n",
      "    dfCov = pd.pivot_table(dfCov,values='cov_ij',rows=['partitionID','i'],cols='j')\n",
      "    cov = np.array(dfCov)\n",
      "    cov = fill_cov(cov)\n",
      "    partitionID = dfCov.index[1][0]\n",
      "    # Save partition graph as pickle file\n",
      "    with open('./covparts/' + str(partitionID)+'.pkl','wb') as file:\n",
      "        pickle.dump(cov,file, pickle.HIGHEST_PROTOCOL)"
     ],
     "language": "python",
     "metadata": {},
     "outputs": [],
     "prompt_number": 42
    },
    {
     "cell_type": "code",
     "collapsed": false,
     "input": [
      "dfCov = pd.read_pickle('./covparts/521.pkl')\n",
      "dfCov.head()"
     ],
     "language": "python",
     "metadata": {},
     "outputs": [
      {
       "html": [
        "<div style=\"max-height:1000px;max-width:1500px;overflow:auto;\">\n",
        "<table border=\"1\" class=\"dataframe\">\n",
        "  <thead>\n",
        "    <tr style=\"text-align: right;\">\n",
        "      <th></th>\n",
        "      <th>j</th>\n",
        "      <th>0</th>\n",
        "      <th>1</th>\n",
        "      <th>2</th>\n",
        "      <th>3</th>\n",
        "      <th>4</th>\n",
        "      <th>5</th>\n",
        "      <th>6</th>\n",
        "      <th>7</th>\n",
        "      <th>8</th>\n",
        "      <th>9</th>\n",
        "      <th>10</th>\n",
        "      <th>11</th>\n",
        "      <th>12</th>\n",
        "      <th>13</th>\n",
        "      <th>14</th>\n",
        "      <th>15</th>\n",
        "      <th>16</th>\n",
        "      <th>17</th>\n",
        "      <th>18</th>\n",
        "      <th>19</th>\n",
        "      <th></th>\n",
        "    </tr>\n",
        "    <tr>\n",
        "      <th>partitionID</th>\n",
        "      <th>i</th>\n",
        "      <th></th>\n",
        "      <th></th>\n",
        "      <th></th>\n",
        "      <th></th>\n",
        "      <th></th>\n",
        "      <th></th>\n",
        "      <th></th>\n",
        "      <th></th>\n",
        "      <th></th>\n",
        "      <th></th>\n",
        "      <th></th>\n",
        "      <th></th>\n",
        "      <th></th>\n",
        "      <th></th>\n",
        "      <th></th>\n",
        "      <th></th>\n",
        "      <th></th>\n",
        "      <th></th>\n",
        "      <th></th>\n",
        "      <th></th>\n",
        "    </tr>\n",
        "  </thead>\n",
        "  <tbody>\n",
        "    <tr>\n",
        "      <th rowspan=\"5\" valign=\"top\">521</th>\n",
        "      <th>0</th>\n",
        "      <td> 21102.583646</td>\n",
        "      <td> 19920.142220</td>\n",
        "      <td> 20551.230760</td>\n",
        "      <td> 21764.995785</td>\n",
        "      <td> 20901.999032</td>\n",
        "      <td> 21236.344027</td>\n",
        "      <td> 21900.719661</td>\n",
        "      <td> 22510.356905</td>\n",
        "      <td> 21605.629362</td>\n",
        "      <td> 21851.011442</td>\n",
        "      <td> 21923.163971</td>\n",
        "      <td> 21396.326051</td>\n",
        "      <td> 21623.879738</td>\n",
        "      <td> 21078.021883</td>\n",
        "      <td> 19406.916422</td>\n",
        "      <td> 20672.145246</td>\n",
        "      <td> 21303.744295</td>\n",
        "      <td> 22218.246012</td>\n",
        "      <td> 20653.038345</td>\n",
        "      <td> 18074.141671</td>\n",
        "    </tr>\n",
        "    <tr>\n",
        "      <th>1</th>\n",
        "      <td>          NaN</td>\n",
        "      <td> 19908.143923</td>\n",
        "      <td> 20287.378865</td>\n",
        "      <td> 21193.238687</td>\n",
        "      <td> 20360.908451</td>\n",
        "      <td> 21324.026241</td>\n",
        "      <td> 22103.115166</td>\n",
        "      <td> 22845.215232</td>\n",
        "      <td> 21501.110352</td>\n",
        "      <td> 21529.815857</td>\n",
        "      <td> 20993.399375</td>\n",
        "      <td> 20322.427284</td>\n",
        "      <td> 20435.552005</td>\n",
        "      <td> 20254.740148</td>\n",
        "      <td> 19318.808079</td>\n",
        "      <td> 20550.745910</td>\n",
        "      <td> 20969.744483</td>\n",
        "      <td> 21718.609470</td>\n",
        "      <td> 19510.179900</td>\n",
        "      <td> 17733.550190</td>\n",
        "    </tr>\n",
        "    <tr>\n",
        "      <th>2</th>\n",
        "      <td>          NaN</td>\n",
        "      <td>          NaN</td>\n",
        "      <td> 20961.821010</td>\n",
        "      <td> 21976.180949</td>\n",
        "      <td> 21101.450414</td>\n",
        "      <td> 21898.444688</td>\n",
        "      <td> 22400.244838</td>\n",
        "      <td> 23077.138530</td>\n",
        "      <td> 21446.135476</td>\n",
        "      <td> 21704.476235</td>\n",
        "      <td> 21328.151461</td>\n",
        "      <td> 20670.409040</td>\n",
        "      <td> 20618.418195</td>\n",
        "      <td> 20510.985713</td>\n",
        "      <td> 19227.010286</td>\n",
        "      <td> 20663.920241</td>\n",
        "      <td> 21118.947319</td>\n",
        "      <td> 21908.342579</td>\n",
        "      <td> 19792.744022</td>\n",
        "      <td> 17646.565527</td>\n",
        "    </tr>\n",
        "    <tr>\n",
        "      <th>3</th>\n",
        "      <td>          NaN</td>\n",
        "      <td>          NaN</td>\n",
        "      <td>          NaN</td>\n",
        "      <td> 23772.791381</td>\n",
        "      <td> 23054.988877</td>\n",
        "      <td> 23449.215868</td>\n",
        "      <td> 23635.988832</td>\n",
        "      <td> 24359.243861</td>\n",
        "      <td> 22305.354717</td>\n",
        "      <td> 23150.783482</td>\n",
        "      <td> 23082.948011</td>\n",
        "      <td> 22565.929609</td>\n",
        "      <td> 22415.291829</td>\n",
        "      <td> 21481.971372</td>\n",
        "      <td> 20413.887176</td>\n",
        "      <td> 21672.252887</td>\n",
        "      <td> 21976.328579</td>\n",
        "      <td> 22837.681093</td>\n",
        "      <td> 20722.120168</td>\n",
        "      <td> 18948.453060</td>\n",
        "    </tr>\n",
        "    <tr>\n",
        "      <th>4</th>\n",
        "      <td>          NaN</td>\n",
        "      <td>          NaN</td>\n",
        "      <td>          NaN</td>\n",
        "      <td>          NaN</td>\n",
        "      <td> 22786.660981</td>\n",
        "      <td> 22857.366683</td>\n",
        "      <td> 22902.848785</td>\n",
        "      <td> 23564.247943</td>\n",
        "      <td> 21688.277179</td>\n",
        "      <td> 22525.922511</td>\n",
        "      <td> 22275.683617</td>\n",
        "      <td> 21937.165671</td>\n",
        "      <td> 21707.318468</td>\n",
        "      <td> 20406.027724</td>\n",
        "      <td> 19497.188436</td>\n",
        "      <td> 20728.948745</td>\n",
        "      <td> 21036.686068</td>\n",
        "      <td> 21858.172270</td>\n",
        "      <td> 19539.950747</td>\n",
        "      <td> 18148.446309</td>\n",
        "    </tr>\n",
        "  </tbody>\n",
        "</table>\n",
        "<p>5 rows \u00d7 730 columns</p>\n",
        "</div>"
       ],
       "metadata": {},
       "output_type": "pyout",
       "prompt_number": 37,
       "text": [
        "j                        0             1             2             3   \\\n",
        "partitionID i                                                           \n",
        "521         0  21102.583646  19920.142220  20551.230760  21764.995785   \n",
        "            1           NaN  19908.143923  20287.378865  21193.238687   \n",
        "            2           NaN           NaN  20961.821010  21976.180949   \n",
        "            3           NaN           NaN           NaN  23772.791381   \n",
        "            4           NaN           NaN           NaN           NaN   \n",
        "\n",
        "j                        4             5             6             7   \\\n",
        "partitionID i                                                           \n",
        "521         0  20901.999032  21236.344027  21900.719661  22510.356905   \n",
        "            1  20360.908451  21324.026241  22103.115166  22845.215232   \n",
        "            2  21101.450414  21898.444688  22400.244838  23077.138530   \n",
        "            3  23054.988877  23449.215868  23635.988832  24359.243861   \n",
        "            4  22786.660981  22857.366683  22902.848785  23564.247943   \n",
        "\n",
        "j                        8             9             10            11  \\\n",
        "partitionID i                                                           \n",
        "521         0  21605.629362  21851.011442  21923.163971  21396.326051   \n",
        "            1  21501.110352  21529.815857  20993.399375  20322.427284   \n",
        "            2  21446.135476  21704.476235  21328.151461  20670.409040   \n",
        "            3  22305.354717  23150.783482  23082.948011  22565.929609   \n",
        "            4  21688.277179  22525.922511  22275.683617  21937.165671   \n",
        "\n",
        "j                        12            13            14            15  \\\n",
        "partitionID i                                                           \n",
        "521         0  21623.879738  21078.021883  19406.916422  20672.145246   \n",
        "            1  20435.552005  20254.740148  19318.808079  20550.745910   \n",
        "            2  20618.418195  20510.985713  19227.010286  20663.920241   \n",
        "            3  22415.291829  21481.971372  20413.887176  21672.252887   \n",
        "            4  21707.318468  20406.027724  19497.188436  20728.948745   \n",
        "\n",
        "j                        16            17            18            19      \n",
        "partitionID i                                                              \n",
        "521         0  21303.744295  22218.246012  20653.038345  18074.141671 ...  \n",
        "            1  20969.744483  21718.609470  19510.179900  17733.550190 ...  \n",
        "            2  21118.947319  21908.342579  19792.744022  17646.565527 ...  \n",
        "            3  21976.328579  22837.681093  20722.120168  18948.453060 ...  \n",
        "            4  21036.686068  21858.172270  19539.950747  18148.446309 ...  \n",
        "\n",
        "[5 rows x 730 columns]"
       ]
      }
     ],
     "prompt_number": 37
    }
   ],
   "metadata": {}
  }
 ]
}