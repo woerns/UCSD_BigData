{
 "metadata": {
  "name": "",
  "signature": "sha256:5140be79c62569e71b8bfab9af4980f8529a2a5fdb5e94581768afd9d603a597"
 },
 "nbformat": 3,
 "nbformat_minor": 0,
 "worksheets": [
  {
   "cells": [
    {
     "cell_type": "heading",
     "level": 1,
     "metadata": {},
     "source": [
      "Weather Analysis using MapReduce (Part 4)"
     ]
    },
    {
     "cell_type": "code",
     "collapsed": false,
     "input": [
      "import pandas as pd\n",
      "import numpy as np\n",
      "import sklearn as sk\n",
      "import scipy\n",
      "import pickle\n",
      "from mpl_toolkits.basemap import Basemap\n",
      "print 'pandas version: ',pd.__version__\n",
      "print 'numpy version:',np.__version__\n",
      "print 'sklearn version:',sk.__version__\n",
      "print 'scipy version:',scipy.__version__\n",
      "print 'pickle version:',pickle.__version__"
     ],
     "language": "python",
     "metadata": {},
     "outputs": [
      {
       "output_type": "stream",
       "stream": "stdout",
       "text": [
        "pandas version:  0.13.1\n",
        "numpy version: 1.8.1\n",
        "sklearn version: 0.14.1\n",
        "scipy version: 0.13.3\n",
        "pickle version: $Revision: 72223 $\n"
       ]
      }
     ],
     "prompt_number": 1
    },
    {
     "cell_type": "heading",
     "level": 2,
     "metadata": {},
     "source": [
      "4. Merging partitions using minimum description length (MDL)"
     ]
    },
    {
     "cell_type": "markdown",
     "metadata": {},
     "source": [
      "In the previous section, we have computed the mean vector and covariance matrix for each partition and have performed the complete PCA for a single partition. \n",
      "\n",
      "Our final task now is to run the PCA for all partitions and merge them, using the minimum description length (MDL) as a measure.\n",
      "\n",
      "The MDL criterion for when to merge two regions $1$ and $2$, to a new region $3$ is\n",
      "\n",
      "$$n_1\\cdot k_1+(k_1+1)\\cdot(2\\times 365)+n_2\\cdot k_2+(k_2+1)\\cdot(2\\times 365) > n_3\\cdot k_3+(k_3+1)\\cdot(2\\times 365)$$\n",
      "\n",
      "where $k_i$ is the number of required eigenvectors for region $i$ to explain 99% of the variance and $n_i$ are the number of measurements in region $i$. \n",
      "\n",
      "In order to do that, we will proceed as follows:\n",
      "\n",
      "1. Find neighbors for each partition\n",
      "2. Store neighbor information in a graph\n",
      "3. Merge partitions based on MDL"
     ]
    },
    {
     "cell_type": "markdown",
     "metadata": {},
     "source": [
      "### Find neighbors for each partition ###"
     ]
    },
    {
     "cell_type": "code",
     "collapsed": false,
     "input": [
      "dfPartition = pd.read_pickle('dfPartition_5k.pkl')\n",
      "dfBounds = dfPartition.ix[:,['partitionID','lon_min','lon_max','lat_min','lat_max']]\n",
      "dfBounds = dfBounds.drop_duplicates('partitionID').set_index('partitionID')\n",
      "dfBounds.head()"
     ],
     "language": "python",
     "metadata": {},
     "outputs": [
      {
       "html": [
        "<div style=\"max-height:1000px;max-width:1500px;overflow:auto;\">\n",
        "<table border=\"1\" class=\"dataframe\">\n",
        "  <thead>\n",
        "    <tr style=\"text-align: right;\">\n",
        "      <th></th>\n",
        "      <th>lon_min</th>\n",
        "      <th>lon_max</th>\n",
        "      <th>lat_min</th>\n",
        "      <th>lat_max</th>\n",
        "    </tr>\n",
        "    <tr>\n",
        "      <th>partitionID</th>\n",
        "      <th></th>\n",
        "      <th></th>\n",
        "      <th></th>\n",
        "      <th></th>\n",
        "    </tr>\n",
        "  </thead>\n",
        "  <tbody>\n",
        "    <tr>\n",
        "      <th>868</th>\n",
        "      <td>-66.21670</td>\n",
        "      <td> -5.59875</td>\n",
        "      <td> 13.49180</td>\n",
        "      <td> 18.53350</td>\n",
        "    </tr>\n",
        "    <tr>\n",
        "      <th>881</th>\n",
        "      <td> -5.59875</td>\n",
        "      <td> 77.30850</td>\n",
        "      <td> 22.79000</td>\n",
        "      <td> 34.23300</td>\n",
        "    </tr>\n",
        "    <tr>\n",
        "      <th>888</th>\n",
        "      <td> 30.35000</td>\n",
        "      <td> 99.30800</td>\n",
        "      <td> 34.23300</td>\n",
        "      <td> 38.44150</td>\n",
        "    </tr>\n",
        "    <tr>\n",
        "      <th>887</th>\n",
        "      <td> -5.59875</td>\n",
        "      <td> 30.35000</td>\n",
        "      <td> 34.23300</td>\n",
        "      <td> 38.44150</td>\n",
        "    </tr>\n",
        "    <tr>\n",
        "      <th>976</th>\n",
        "      <td> 39.83350</td>\n",
        "      <td> 53.70850</td>\n",
        "      <td> 40.76875</td>\n",
        "      <td> 44.63305</td>\n",
        "    </tr>\n",
        "  </tbody>\n",
        "</table>\n",
        "<p>5 rows \u00d7 4 columns</p>\n",
        "</div>"
       ],
       "metadata": {},
       "output_type": "pyout",
       "prompt_number": 2,
       "text": [
        "              lon_min   lon_max   lat_min   lat_max\n",
        "partitionID                                        \n",
        "868         -66.21670  -5.59875  13.49180  18.53350\n",
        "881          -5.59875  77.30850  22.79000  34.23300\n",
        "888          30.35000  99.30800  34.23300  38.44150\n",
        "887          -5.59875  30.35000  34.23300  38.44150\n",
        "976          39.83350  53.70850  40.76875  44.63305\n",
        "\n",
        "[5 rows x 4 columns]"
       ]
      }
     ],
     "prompt_number": 2
    },
    {
     "cell_type": "code",
     "collapsed": false,
     "input": [
      "def get_cov(partitionID):\n",
      "    return pickle.load(open('./covparts_merged/'+str(partitionID)+'.pkl', 'rb'))"
     ],
     "language": "python",
     "metadata": {},
     "outputs": [],
     "prompt_number": 3
    },
    {
     "cell_type": "code",
     "collapsed": false,
     "input": [
      "import os\n",
      "\n",
      "partitions = []\n",
      "for f in os.listdir(\"./covparts_merged/\"):\n",
      "    p = int(f.split(\".\")[0])\n",
      "    cov = get_cov(p)\n",
      "    if ~find(np.isnan(cov)).any():\n",
      "        partitions.append(p)\n",
      "\n",
      "print partitions"
     ],
     "language": "python",
     "metadata": {},
     "outputs": [
      {
       "output_type": "stream",
       "stream": "stdout",
       "text": [
        "[714, 957, 535, 845, 990, 634, 931, 809, 843, 589, 548, 848, 603, 844, 842, 674, 684, 574, 729, 767, 728, 955, 582, 784, 979, 970, 570, 873, 710, 524, 586, 647, 750, 694, 532, 758, 612, 908, 687, 573, 577, 823, 941, 765, 933, 529, 1004, 780, 798, 697, 847, 870, 708, 565, 613, 945, 805, 852, 542, 938, 584, 987, 626, 635, 862, 672, 967, 832, 681, 579, 991, 806, 877, 950, 903, 884, 547, 779, 657, 700, 707, 1019, 653, 874, 815, 646, 706, 981, 909, 821, 702, 944, 762, 515, 928, 680, 896, 744, 511, 523, 591, 901, 865, 630, 822, 632, 949, 984, 796, 764, 918, 512, 669, 642, 743, 998, 864, 598, 868, 711, 636, 911, 609, 569, 942, 1012, 841, 540, 954, 1014, 937, 727, 530, 846, 956, 838, 583, 525, 855, 787, 923, 881, 734, 733, 859, 514, 638, 867, 633, 543, 902, 736, 749, 969, 912, 640, 534, 860, 1021, 766, 973, 676, 527, 595, 773, 834, 661, 856, 817, 1003, 671, 739, 887, 794, 690, 631, 836, 935, 528, 621, 696, 905, 600, 818, 566, 1005, 648, 578, 664, 628, 533, 837, 857, 907, 650, 560, 890, 517, 604, 833, 521, 699, 994, 730, 592, 788, 854, 1015, 550, 820, 892, 976, 747, 851, 926, 754, 807, 915, 1006, 746, 913, 531, 713, 572, 951, 639, 936, 835, 689, 940, 894, 898, 549, 783, 641, 866, 538, 775, 617, 761, 801, 732, 679, 571, 831, 968, 688, 943, 980, 960, 553, 1018, 863, 709, 1002, 826, 544, 919, 939, 958, 882]\n"
       ]
      }
     ],
     "prompt_number": 4
    },
    {
     "cell_type": "markdown",
     "metadata": {},
     "source": [
      "Two partitions are neighbours if\n",
      "\n",
      "1. they share at least one common longitude or latitude as a border \n",
      "2. the shared borders overlap\n",
      "\n",
      "The following generator checks these two criterion for a given partition with respect to all other partitions and returns the neighbors."
     ]
    },
    {
     "cell_type": "code",
     "collapsed": false,
     "input": [
      "def find_neighbors(partitionID,partitions):\n",
      "    bounds0 = np.array(dfBounds.ix[partitionID,:])\n",
      "    for p in partitions:\n",
      "        if p != partitionID:\n",
      "            bounds = np.array(dfBounds.ix[p,['lon_min','lon_max','lat_min','lat_max']])\n",
      "            #Check whether the two partitions share a median\n",
      "            sharedlon = any([i in bounds0[:2] for i in bounds[:2]])\n",
      "            sharedlat = any([i in bounds0[2:] for i in bounds[2:]])\n",
      "            if sharedlon:\n",
      "                #Check whether the bounds of two partitions overlap\n",
      "                if bounds[2]<=bounds0[2]<=bounds[3] or bounds[2]<=bounds0[3]<=bounds[3] \\\n",
      "                or bounds0[2]<=bounds[2]<=bounds0[3] or bounds0[2]<=bounds[3]<=bounds0[3]:\n",
      "                    yield int(p)\n",
      "            elif sharedlat: \n",
      "                #Check whether the bounds of two partitions overlap\n",
      "                if bounds[0]<=bounds0[0]<=bounds[1] or bounds[0]<=bounds0[1]<=bounds[1] \\\n",
      "                or bounds0[0]<=bounds[0]<=bounds0[1] or bounds0[0]<=bounds[1]<=bounds0[1]:\n",
      "                    yield int(p)"
     ],
     "language": "python",
     "metadata": {},
     "outputs": [],
     "prompt_number": 5
    },
    {
     "cell_type": "markdown",
     "metadata": {},
     "source": [
      "To provide an example, for partition 888, we get the neighbors"
     ]
    },
    {
     "cell_type": "code",
     "collapsed": false,
     "input": [
      "p = 514\n",
      "varthresh = 0.99\n",
      "n1 = mcounts[p]\n",
      "print 'Start at partition:',p,' (n=',n1,')'\n",
      "print 'Neighbors:',g[p]\n",
      "print 'Run PCA and compute MDL...'\n",
      "mean1 = means[p]\n",
      "cov1 = get_cov(p)\n",
      "U1,S1,V1=np.linalg.svd(cov1)\n",
      "k1 = find(cumsum(S1)/sum(S1)>=varthresh)[0]\n",
      "# Compute minimum description length (MDL)\n",
      "MDL1 = n1*k1+(k1+1)*len(mean1)\n",
      "print 'k=',k1,', MDL=',MDL1\n",
      "explainedVar = cumsum(S1)/sum(S1)\n",
      "plot(explainedVar)\n",
      "xlabel('Number of eigenvectors')\n",
      "ylabel('Explained variance')\n",
      "xlim([1,len(S1)])\n",
      "grid()"
     ],
     "language": "python",
     "metadata": {},
     "outputs": [
      {
       "output_type": "stream",
       "stream": "stdout",
       "text": [
        "Start at partition: 514  (n= 1678.0 )\n",
        "Neighbors: [515, 511, 523, 512, 517]\n",
        "Run PCA and compute MDL...\n",
        "k="
       ]
      },
      {
       "output_type": "stream",
       "stream": "stdout",
       "text": [
        " 23 , MDL= 38618.0\n"
       ]
      },
      {
       "metadata": {},
       "output_type": "display_data",
       "png": "[encoded data removed]",
       "text": [
        "<matplotlib.figure.Figure at 0x3f5b990>"
       ]
      }
     ],
     "prompt_number": 33
    },
    {
     "cell_type": "code",
     "collapsed": false,
     "input": [
      "neighbors = list(find_neighbors(888,partitions))\n",
      "print neighbors"
     ],
     "language": "python",
     "metadata": {},
     "outputs": [
      {
       "output_type": "stream",
       "stream": "stdout",
       "text": [
        "[881, 887, 890, 882]\n"
       ]
      }
     ],
     "prompt_number": 7
    },
    {
     "cell_type": "markdown",
     "metadata": {},
     "source": [
      "With the help of this generator, we want to build a graph. We will take advantage of the dictionary structure in Python to save all neighbors for all partitions."
     ]
    },
    {
     "cell_type": "code",
     "collapsed": false,
     "input": [
      "%%time\n",
      "\n",
      "g = dict()\n",
      "i = 0\n",
      "for p in partitions:\n",
      "    if i%100==0:\n",
      "        print i\n",
      "    g[int(p)] = list(find_neighbors(p,partitions))\n",
      "    i = i+1"
     ],
     "language": "python",
     "metadata": {},
     "outputs": [
      {
       "output_type": "stream",
       "stream": "stdout",
       "text": [
        "0\n",
        "100"
       ]
      },
      {
       "output_type": "stream",
       "stream": "stdout",
       "text": [
        "\n",
        "200"
       ]
      },
      {
       "output_type": "stream",
       "stream": "stdout",
       "text": [
        "\n",
        "CPU times: user 36.6 s, sys: 0 ns, total: 36.6 s"
       ]
      },
      {
       "output_type": "stream",
       "stream": "stdout",
       "text": [
        "\n",
        "Wall time: 36.5 s\n"
       ]
      }
     ],
     "prompt_number": 160
    },
    {
     "cell_type": "code",
     "collapsed": false,
     "input": [
      "# Save partition graph as pickle file\n",
      "with open('partition_graph_5k_64.pkl','wb') as file:\n",
      "    pickle.dump(g,file, pickle.HIGHEST_PROTOCOL)"
     ],
     "language": "python",
     "metadata": {},
     "outputs": [],
     "prompt_number": 161
    },
    {
     "cell_type": "code",
     "collapsed": false,
     "input": [
      "g = pickle.load(open('partition_graph_5k_64.pkl', 'rb'))"
     ],
     "language": "python",
     "metadata": {},
     "outputs": [],
     "prompt_number": 8
    },
    {
     "cell_type": "code",
     "collapsed": false,
     "input": [
      "print g.items()[:30] "
     ],
     "language": "python",
     "metadata": {},
     "outputs": [
      {
       "output_type": "stream",
       "stream": "stdout",
       "text": [
        "[(512, [515, 511, 514]), (514, [515, 511, 523, 512, 517]), (515, [512, 514, 517]), (517, [524, 515, 523, 514]), (521, [547, 543, 544]), (523, [524, 525, 514, 517]), (524, [535, 523, 525, 517]), (525, [548, 524, 523]), (527, [529, 530, 528]), (528, [530, 527, 533, 531]), (529, [535, 530, 527]), (530, [535, 529, 527, 528, 533]), (531, [532, 528, 533]), (532, [577, 583, 534, 533, 531]), (533, [532, 530, 534, 528, 531]), (534, [532, 540, 583, 533]), (535, [524, 529, 530, 538]), (538, [535, 560]), (540, [542, 534]), (542, [540]), (543, [521, 544]), (544, [547, 543, 521]), (547, [548, 521, 550, 549, 544]), (548, [547, 525, 550]), (549, [547, 550]), (550, [548, 547, 549]), (553, [640, 639]), (560, [565, 538]), (565, [566, 560, 571]), (566, [565, 609, 572, 571])]\n"
       ]
      }
     ],
     "prompt_number": 9
    },
    {
     "cell_type": "markdown",
     "metadata": {},
     "source": [
      "### Merging partitions ###"
     ]
    },
    {
     "cell_type": "markdown",
     "metadata": {},
     "source": [
      "Let us recall that the covariance matrix of a $M\\times N$ matrix $X$ can be computed via\n",
      "\n",
      "$$ Cov(X) = \\frac{1}{N}\\sum^N_{i=1} (\\boldsymbol{x_i}-\\boldsymbol{\\mu}) (\\boldsymbol{x_i}-\\boldsymbol{\\mu})^T \n",
      "= \\frac{1}{N} \\sum^N_{i=1} \\boldsymbol{x_i}\\boldsymbol{x_i}^T - \\boldsymbol{\\mu}\\boldsymbol{\\mu}^T $$\n",
      "\n",
      "where $\\boldsymbol{x_i}, i = 1,...,N$ are the column vectors of matrix $X$ and \n",
      "\n",
      "$$\\boldsymbol{\\mu}=\\frac{1}{N}\\sum^N_{i=1} \\boldsymbol{x_i}$$\n",
      "\n",
      "is the mean vector of all column vectors of matrix $X$.\n",
      "\n",
      "Our goal now is to calculate the covariance matrix of a merged region given that we know the covariance matrices and mean vectors of the partitions to be merged.\n",
      "\n",
      "Suppose we are given two matrices $X$ and $Y$ with dimension $M\\times N_x$ and $M\\times N_y$, respectively. Furthermore, we know their mean vectors $\\boldsymbol{\\mu_x}, \\boldsymbol{\\mu_y}$ , as well as their covariances $Cov(X)$ and $Cov(Y)$. Now, consider the concatenated matrix $Z = [X,Y]$ with dimension $M\\times N_z$, where $N_z=N_x+N_y$. In our case, $Z$ would represent the measurements of the merged region.\n",
      "\n",
      "The covariance of $Z$ can then be expressed as\n",
      "\n",
      "$$ Cov(Z) = \\frac{1}{N_z} \\sum^{N_z}_{i=1} \\boldsymbol{z_i}\\boldsymbol{z_i}^T - \\boldsymbol{\\mu_z}\\boldsymbol{\\mu_z}^T\n",
      "= \\frac{1}{N_x+N_y} [ \\sum^{N_x}_{i=1} \\boldsymbol{x_i}\\boldsymbol{x_i}^T + \\sum^{N_y}_{i=1} \\boldsymbol{y_i}\\boldsymbol{y_i}^T ] - \\boldsymbol{\\mu_z}\\boldsymbol{\\mu_z}^T $$\n",
      "$$ = \\frac{1}{N_x+N_y} [ N_x(Cov(X)+\\boldsymbol{\\mu_x}\\boldsymbol{\\mu_x}^T) + Ny(Cov(Y)+\\boldsymbol{\\mu_y}\\boldsymbol{\\mu_y}^T)] - \\boldsymbol{\\mu_z}\\boldsymbol{\\mu_z}^T $$\n",
      "\n",
      "where\n",
      "\n",
      "$$ \\boldsymbol{\\mu_z}=\\frac{N_x\\boldsymbol{\\mu_x}+N_y\\boldsymbol{\\mu_y}}{N_x+N_y} $$\n",
      "\n",
      "is the mean vector of matrix $Z$."
     ]
    },
    {
     "cell_type": "code",
     "collapsed": false,
     "input": [
      "def save_cov(partitionID,cov):\n",
      "    with open('./covparts_merged/'+str(partitionID)+'.pkl','wb') as file:\n",
      "        pickle.dump(cov,file, pickle.HIGHEST_PROTOCOL)"
     ],
     "language": "python",
     "metadata": {},
     "outputs": [],
     "prompt_number": 10
    },
    {
     "cell_type": "code",
     "collapsed": false,
     "input": [
      "dfPartitionMCount = pd.read_pickle('dfPartitionMCount_5k.pkl')\n",
      "dfPartitionMCount.head()"
     ],
     "language": "python",
     "metadata": {},
     "outputs": [
      {
       "html": [
        "<div style=\"max-height:1000px;max-width:1500px;overflow:auto;\">\n",
        "<table border=\"1\" class=\"dataframe\">\n",
        "  <thead>\n",
        "    <tr style=\"text-align: right;\">\n",
        "      <th></th>\n",
        "      <th>TMIN</th>\n",
        "      <th>TMAX</th>\n",
        "      <th>TMINTMAX</th>\n",
        "    </tr>\n",
        "    <tr>\n",
        "      <th>partitionID</th>\n",
        "      <th></th>\n",
        "      <th></th>\n",
        "      <th></th>\n",
        "    </tr>\n",
        "  </thead>\n",
        "  <tbody>\n",
        "    <tr>\n",
        "      <th>511</th>\n",
        "      <td> 1661</td>\n",
        "      <td> 1662</td>\n",
        "      <td> 3323</td>\n",
        "    </tr>\n",
        "    <tr>\n",
        "      <th>512</th>\n",
        "      <td> 1740</td>\n",
        "      <td> 1699</td>\n",
        "      <td> 3439</td>\n",
        "    </tr>\n",
        "    <tr>\n",
        "      <th>513</th>\n",
        "      <td> 1688</td>\n",
        "      <td> 1693</td>\n",
        "      <td> 3381</td>\n",
        "    </tr>\n",
        "    <tr>\n",
        "      <th>514</th>\n",
        "      <td> 1675</td>\n",
        "      <td> 1681</td>\n",
        "      <td> 3356</td>\n",
        "    </tr>\n",
        "    <tr>\n",
        "      <th>515</th>\n",
        "      <td> 1635</td>\n",
        "      <td> 1641</td>\n",
        "      <td> 3276</td>\n",
        "    </tr>\n",
        "  </tbody>\n",
        "</table>\n",
        "<p>5 rows \u00d7 3 columns</p>\n",
        "</div>"
       ],
       "metadata": {},
       "output_type": "pyout",
       "prompt_number": 11,
       "text": [
        "             TMIN  TMAX  TMINTMAX\n",
        "partitionID                      \n",
        "511          1661  1662      3323\n",
        "512          1740  1699      3439\n",
        "513          1688  1693      3381\n",
        "514          1675  1681      3356\n",
        "515          1635  1641      3276\n",
        "\n",
        "[5 rows x 3 columns]"
       ]
      }
     ],
     "prompt_number": 11
    },
    {
     "cell_type": "code",
     "collapsed": false,
     "input": [
      "mcounts = dict()\n",
      "i = 0\n",
      "for p in partitions:\n",
      "    if i%100==0:\n",
      "        print i\n",
      "    mcounts[int(p)] = ceil(dfPartitionMCount.ix[int(p),'TMINTMAX']/2)\n",
      "    i = i+1\n",
      "with open('partition_graph_mcounts_5k_64.pkl','wb') as file:\n",
      "    pickle.dump(mcounts,file, pickle.HIGHEST_PROTOCOL)"
     ],
     "language": "python",
     "metadata": {},
     "outputs": [
      {
       "output_type": "stream",
       "stream": "stdout",
       "text": [
        "0\n",
        "100\n",
        "200\n"
       ]
      }
     ],
     "prompt_number": 41
    },
    {
     "cell_type": "code",
     "collapsed": false,
     "input": [
      "print mcounts[512]"
     ],
     "language": "python",
     "metadata": {},
     "outputs": [
      {
       "output_type": "stream",
       "stream": "stdout",
       "text": [
        "1720.0\n"
       ]
      }
     ],
     "prompt_number": 13
    },
    {
     "cell_type": "code",
     "collapsed": false,
     "input": [
      "dfMeans = pd.read_pickle('dfMeans_5k.pkl')\n",
      "dfMeans.head()                         "
     ],
     "language": "python",
     "metadata": {},
     "outputs": [
      {
       "html": [
        "<div style=\"max-height:1000px;max-width:1500px;overflow:auto;\">\n",
        "<table border=\"1\" class=\"dataframe\">\n",
        "  <thead>\n",
        "    <tr style=\"text-align: right;\">\n",
        "      <th></th>\n",
        "      <th>partitionID</th>\n",
        "      <th>Type</th>\n",
        "      <th>1</th>\n",
        "      <th>2</th>\n",
        "      <th>3</th>\n",
        "      <th>4</th>\n",
        "      <th>5</th>\n",
        "      <th>6</th>\n",
        "      <th>7</th>\n",
        "      <th>8</th>\n",
        "      <th>9</th>\n",
        "      <th>10</th>\n",
        "      <th>11</th>\n",
        "      <th>12</th>\n",
        "      <th>13</th>\n",
        "      <th>14</th>\n",
        "      <th>15</th>\n",
        "      <th>16</th>\n",
        "      <th>17</th>\n",
        "      <th>18</th>\n",
        "      <th></th>\n",
        "    </tr>\n",
        "  </thead>\n",
        "  <tbody>\n",
        "    <tr>\n",
        "      <th>0</th>\n",
        "      <td> 511</td>\n",
        "      <td> TMAX</td>\n",
        "      <td> 24.486853</td>\n",
        "      <td> 24.545393</td>\n",
        "      <td> 24.577375</td>\n",
        "      <td> 24.412443</td>\n",
        "      <td> 24.432747</td>\n",
        "      <td> 24.335968</td>\n",
        "      <td> 24.344699</td>\n",
        "      <td> 24.346073</td>\n",
        "      <td> 24.372003</td>\n",
        "      <td> 24.360628</td>\n",
        "      <td> 24.354444</td>\n",
        "      <td> 24.338371</td>\n",
        "      <td> 24.354522</td>\n",
        "      <td> 24.412590</td>\n",
        "      <td> 24.434661</td>\n",
        "      <td> 24.532407</td>\n",
        "      <td> 24.485611</td>\n",
        "      <td> 24.511206</td>\n",
        "      <td>...</td>\n",
        "    </tr>\n",
        "    <tr>\n",
        "      <th>1</th>\n",
        "      <td> 511</td>\n",
        "      <td> TMIN</td>\n",
        "      <td> 16.599303</td>\n",
        "      <td> 16.553473</td>\n",
        "      <td> 16.570237</td>\n",
        "      <td> 16.546767</td>\n",
        "      <td> 16.416504</td>\n",
        "      <td> 16.349277</td>\n",
        "      <td> 16.275997</td>\n",
        "      <td> 16.381184</td>\n",
        "      <td> 16.292373</td>\n",
        "      <td> 16.380588</td>\n",
        "      <td> 16.394899</td>\n",
        "      <td> 16.290405</td>\n",
        "      <td> 16.367059</td>\n",
        "      <td> 16.374263</td>\n",
        "      <td> 16.367770</td>\n",
        "      <td> 16.405765</td>\n",
        "      <td> 16.293548</td>\n",
        "      <td> 16.378920</td>\n",
        "      <td>...</td>\n",
        "    </tr>\n",
        "    <tr>\n",
        "      <th>2</th>\n",
        "      <td> 512</td>\n",
        "      <td> TMAX</td>\n",
        "      <td> 23.864088</td>\n",
        "      <td> 23.785105</td>\n",
        "      <td> 23.785253</td>\n",
        "      <td> 23.554115</td>\n",
        "      <td> 23.600773</td>\n",
        "      <td> 23.660039</td>\n",
        "      <td> 23.651499</td>\n",
        "      <td> 23.503689</td>\n",
        "      <td> 23.633856</td>\n",
        "      <td> 23.597582</td>\n",
        "      <td> 23.569141</td>\n",
        "      <td> 23.645212</td>\n",
        "      <td> 23.612492</td>\n",
        "      <td> 23.646089</td>\n",
        "      <td> 23.791299</td>\n",
        "      <td> 23.866645</td>\n",
        "      <td> 23.836488</td>\n",
        "      <td> 23.835176</td>\n",
        "      <td>...</td>\n",
        "    </tr>\n",
        "    <tr>\n",
        "      <th>3</th>\n",
        "      <td> 512</td>\n",
        "      <td> TMIN</td>\n",
        "      <td> 15.358942</td>\n",
        "      <td> 15.237860</td>\n",
        "      <td> 15.143325</td>\n",
        "      <td> 15.327110</td>\n",
        "      <td> 15.026633</td>\n",
        "      <td> 14.812947</td>\n",
        "      <td> 15.023092</td>\n",
        "      <td> 14.873015</td>\n",
        "      <td> 14.936464</td>\n",
        "      <td> 14.840903</td>\n",
        "      <td> 14.909619</td>\n",
        "      <td> 15.027688</td>\n",
        "      <td> 14.944710</td>\n",
        "      <td> 14.969961</td>\n",
        "      <td> 14.998096</td>\n",
        "      <td> 14.949579</td>\n",
        "      <td> 15.015653</td>\n",
        "      <td> 15.114836</td>\n",
        "      <td>...</td>\n",
        "    </tr>\n",
        "    <tr>\n",
        "      <th>4</th>\n",
        "      <td> 513</td>\n",
        "      <td> TMAX</td>\n",
        "      <td> 25.348338</td>\n",
        "      <td> 25.342730</td>\n",
        "      <td> 25.316409</td>\n",
        "      <td> 25.290467</td>\n",
        "      <td> 25.276021</td>\n",
        "      <td> 25.134172</td>\n",
        "      <td> 25.140690</td>\n",
        "      <td> 25.152845</td>\n",
        "      <td> 25.188444</td>\n",
        "      <td> 25.205006</td>\n",
        "      <td> 25.057216</td>\n",
        "      <td> 25.112756</td>\n",
        "      <td> 25.158499</td>\n",
        "      <td> 25.082911</td>\n",
        "      <td> 25.039921</td>\n",
        "      <td> 25.019819</td>\n",
        "      <td> 24.995078</td>\n",
        "      <td> 25.130913</td>\n",
        "      <td>...</td>\n",
        "    </tr>\n",
        "  </tbody>\n",
        "</table>\n",
        "<p>5 rows \u00d7 367 columns</p>\n",
        "</div>"
       ],
       "metadata": {},
       "output_type": "pyout",
       "prompt_number": 14,
       "text": [
        "   partitionID  Type          1          2          3          4          5  \\\n",
        "0          511  TMAX  24.486853  24.545393  24.577375  24.412443  24.432747   \n",
        "1          511  TMIN  16.599303  16.553473  16.570237  16.546767  16.416504   \n",
        "2          512  TMAX  23.864088  23.785105  23.785253  23.554115  23.600773   \n",
        "3          512  TMIN  15.358942  15.237860  15.143325  15.327110  15.026633   \n",
        "4          513  TMAX  25.348338  25.342730  25.316409  25.290467  25.276021   \n",
        "\n",
        "           6          7          8          9         10         11  \\\n",
        "0  24.335968  24.344699  24.346073  24.372003  24.360628  24.354444   \n",
        "1  16.349277  16.275997  16.381184  16.292373  16.380588  16.394899   \n",
        "2  23.660039  23.651499  23.503689  23.633856  23.597582  23.569141   \n",
        "3  14.812947  15.023092  14.873015  14.936464  14.840903  14.909619   \n",
        "4  25.134172  25.140690  25.152845  25.188444  25.205006  25.057216   \n",
        "\n",
        "          12         13         14         15         16         17  \\\n",
        "0  24.338371  24.354522  24.412590  24.434661  24.532407  24.485611   \n",
        "1  16.290405  16.367059  16.374263  16.367770  16.405765  16.293548   \n",
        "2  23.645212  23.612492  23.646089  23.791299  23.866645  23.836488   \n",
        "3  15.027688  14.944710  14.969961  14.998096  14.949579  15.015653   \n",
        "4  25.112756  25.158499  25.082911  25.039921  25.019819  24.995078   \n",
        "\n",
        "          18      \n",
        "0  24.511206 ...  \n",
        "1  16.378920 ...  \n",
        "2  23.835176 ...  \n",
        "3  15.114836 ...  \n",
        "4  25.130913 ...  \n",
        "\n",
        "[5 rows x 367 columns]"
       ]
      }
     ],
     "prompt_number": 14
    },
    {
     "cell_type": "code",
     "collapsed": false,
     "input": [
      "means = dict()\n",
      "i = 0\n",
      "for p in partitions:\n",
      "    if i%100==0:\n",
      "        print i\n",
      "    tmin_mean = dfMeans.ix[(dfMeans['partitionID']==int(p))&(dfMeans['Type']=='TMIN'),1:365].values\n",
      "    tmax_mean = dfMeans.ix[(dfMeans['partitionID']==int(p))&(dfMeans['Type']=='TMAX'),1:365].values\n",
      "    means[int(p)] = np.concatenate((tmin_mean,tmax_mean),axis=1)\n",
      "    i = i+1\n",
      "with open('partition_graph_means_5k_64.pkl','wb') as file:\n",
      "    pickle.dump(means,file, pickle.HIGHEST_PROTOCOL)"
     ],
     "language": "python",
     "metadata": {},
     "outputs": [
      {
       "output_type": "stream",
       "stream": "stdout",
       "text": [
        "0\n",
        "100"
       ]
      },
      {
       "output_type": "stream",
       "stream": "stdout",
       "text": [
        "\n",
        "200"
       ]
      },
      {
       "output_type": "stream",
       "stream": "stdout",
       "text": [
        "\n"
       ]
      }
     ],
     "prompt_number": 42
    },
    {
     "cell_type": "code",
     "collapsed": false,
     "input": [
      "def merge_partitions(graph,mcounts,means,varthresh=0.99):\n",
      "    k = 0\n",
      "    K = len(graph)\n",
      "    # Loop over partitions\n",
      "    while k < K:   \n",
      "        p = graph.keys()[k]\n",
      "        n1 = mcounts[p]\n",
      "        print 'Start at partition:',p,' (n=',n1,')'\n",
      "        print 'Neighbors:',graph[p]\n",
      "        print 'Run PCA and compute MDL...'\n",
      "        mean1 = means[p]\n",
      "        cov1 = get_cov(p)\n",
      "        U1,S1,V1=np.linalg.svd(cov1)\n",
      "        k1 = find(cumsum(S1)/sum(S1)>=varthresh)[0]\n",
      "        # Compute minimum description length (MDL)\n",
      "        MDL1 = n1*k1+(k1+1)*len(mean1)\n",
      "        print 'k=',k1,', MDL=',MDL1\n",
      "       \n",
      "        i = 0\n",
      "        N = len(graph[p])\n",
      "        # Loop over neighbors (iterate over neighbors list)\n",
      "        while i < N:\n",
      "            n = graph[p][i]\n",
      "            n2 = mcounts[n]\n",
      "            print 'Check neighbor',n,' (n=',n2,')'\n",
      "            print 'Run PCA and compute MDL...'\n",
      "            mean2 = means[n]\n",
      "            cov2 = get_cov(n)\n",
      "            U2,S2,V2=np.linalg.svd(cov2)\n",
      "            k2 = find(cumsum(S2)/sum(S2)>=varthresh)[0]\n",
      "            # Compute medium description length (MDL)\n",
      "            MDL2 = n2*k2+(k2+1)*len(mean2)\n",
      "            print 'k=',k2,', MDL=',MDL2\n",
      "            # Compute mean and covariance of merged region\n",
      "            print 'Run PCA and compute MDL on merged region...'\n",
      "            n3 = n1+n2\n",
      "            mean3 = (n1*mean1+n2*mean2)/n3\n",
      "            cov3 = n1*(cov1+np.outer(mean1,mean1))+n2*(cov2+np.outer(mean2,mean2))\n",
      "            cov3 = cov3/n3-np.outer(mean3,mean3)\n",
      "            print np.isnan(cov3).any()\n",
      "            U3,S3,V3=np.linalg.svd(cov3)\n",
      "            k3 = find(cumsum(S3)/sum(S3)>=varthresh)[0]\n",
      "            # Compute medium description length (MDL)\n",
      "            MDL3 = n3*k3+(k3+1)*len(mean3)\n",
      "            print 'k=',k3,', MDL=',MDL3\n",
      "            if MDL1+MDL2>=MDL3:\n",
      "                print 'Merging...'\n",
      "                # Remove merged partitions in neighbors list\n",
      "                graph[n].remove(p)\n",
      "                graph[p].remove(n)\n",
      "                # Merge neighbor lists of the two partitions\n",
      "                graph[p] = list(set(graph[p]+graph[n]))\n",
      "                # Delete merged partition in graph\n",
      "                del graph[n]\n",
      "                for j in graph:\n",
      "                    graph[j] = list(set([p if x==n else x for x in graph[j]]))\n",
      "                N = len(graph[p])\n",
      "                i = 0\n",
      "                print 'Storing new covariance matrix in file...'\n",
      "                mcounts[p] = n3\n",
      "                means[p] = mean3\n",
      "                save_cov(p,cov3)\n",
      "                n1 = n3\n",
      "                k1 = k3\n",
      "                mean1 = mean3\n",
      "                cov1 = cov3\n",
      "                MDL1 = MDL3\n",
      "                print 'Merging sucessful.'\n",
      "                print 'Updated neighbors:',graph[p]\n",
      "            else:\n",
      "                print 'Not merging.'\n",
      "                i = i+1\n",
      "        k = k+1\n",
      "        K = len(graph)"
     ],
     "language": "python",
     "metadata": {},
     "outputs": [],
     "prompt_number": 51
    },
    {
     "cell_type": "code",
     "collapsed": false,
     "input": [
      "#!rm -r ./covparts_merged/\n",
      "#!mkdir covparts_merged\n",
      "#!cp -a ./covparts/. ./covparts_merged\n",
      "#!ls -l ./covparts_merged"
     ],
     "language": "python",
     "metadata": {},
     "outputs": [],
     "prompt_number": 45
    },
    {
     "cell_type": "code",
     "collapsed": false,
     "input": [
      "g = pickle.load(open('partition_graph_5k_64.pkl', 'rb'))\n",
      "mcounts = pickle.load(open('partition_graph_mcounts_5k_64.pkl', 'rb'))\n",
      "means = pickle.load(open('partition_graph_means_5k_64.pkl', 'rb'))"
     ],
     "language": "python",
     "metadata": {},
     "outputs": [],
     "prompt_number": 49
    },
    {
     "cell_type": "code",
     "collapsed": false,
     "input": [
      "merge_partitions(g,mcounts,means,varthresh=0.99)"
     ],
     "language": "python",
     "metadata": {},
     "outputs": [
      {
       "output_type": "stream",
       "stream": "stdout",
       "text": [
        "Start at partition: 512  (n= 1720.0 )\n",
        "Neighbors: [515, 511, 514]\n",
        "Run PCA and compute MDL...\n",
        "k="
       ]
      },
      {
       "output_type": "stream",
       "stream": "stdout",
       "text": [
        " 4 , MDL= 6885.0\n",
        "Check neighbor: 515  (n= 1638.0 )\n",
        "Run PCA and compute MDL...\n",
        "k="
       ]
      },
      {
       "output_type": "stream",
       "stream": "stdout",
       "text": [
        " 39 , MDL= 63922.0\n",
        "Run PCA and compute MDL on merged region...\n",
        "False\n",
        "k="
       ]
      },
      {
       "output_type": "stream",
       "stream": "stdout",
       "text": [
        " 27 , MDL= 90694.0\n",
        "Not merging.\n",
        "Check neighbor: 511  (n= 1662.0 )\n",
        "Run PCA and compute MDL...\n",
        "k="
       ]
      },
      {
       "output_type": "stream",
       "stream": "stdout",
       "text": [
        " 25 , MDL= 41576.0\n",
        "Run PCA and compute MDL on merged region...\n",
        "False\n",
        "k="
       ]
      },
      {
       "output_type": "stream",
       "stream": "stdout",
       "text": [
        " 22 , MDL= 74427.0\n",
        "Not merging.\n",
        "Check neighbor: 514  (n= 1678.0 )\n",
        "Run PCA and compute MDL...\n",
        "k="
       ]
      },
      {
       "output_type": "stream",
       "stream": "stdout",
       "text": [
        " 23 , MDL= 38618.0\n",
        "Run PCA and compute MDL on merged region...\n",
        "False\n",
        "k="
       ]
      },
      {
       "output_type": "stream",
       "stream": "stdout",
       "text": [
        " 21 , MDL= 71380.0\n",
        "Not merging.\n",
        "Start at partition: 514  (n= 1678.0 )\n",
        "Neighbors: [515, 511, 523, 512, 517]\n",
        "Run PCA and compute MDL...\n",
        "k="
       ]
      },
      {
       "output_type": "stream",
       "stream": "stdout",
       "text": [
        " 23 , MDL= 38618.0\n",
        "Check neighbor: 515  (n= 1638.0 )\n",
        "Run PCA and compute MDL...\n",
        "k="
       ]
      },
      {
       "output_type": "stream",
       "stream": "stdout",
       "text": [
        " 39 , MDL= 63922.0\n",
        "Run PCA and compute MDL on merged region...\n",
        "False\n",
        "k="
       ]
      },
      {
       "output_type": "stream",
       "stream": "stdout",
       "text": [
        " 55 , MDL= 182436.0\n",
        "Not merging.\n",
        "Check neighbor: 511  (n= 1662.0 )\n",
        "Run PCA and compute MDL...\n",
        "k="
       ]
      },
      {
       "output_type": "stream",
       "stream": "stdout",
       "text": [
        " 25 , MDL= 41576.0\n",
        "Run PCA and compute MDL on merged region...\n",
        "False\n",
        "k="
       ]
      },
      {
       "output_type": "stream",
       "stream": "stdout",
       "text": [
        " 44 , MDL= 147005.0\n",
        "Not merging.\n",
        "Check neighbor: 523  (n= 1628.0 )\n",
        "Run PCA and compute MDL...\n",
        "k="
       ]
      },
      {
       "output_type": "stream",
       "stream": "stdout",
       "text": [
        " 12 , MDL= 19549.0\n",
        "Run PCA and compute MDL on merged region...\n",
        "False\n",
        "k="
       ]
      },
      {
       "output_type": "stream",
       "stream": "stdout",
       "text": [
        " 30 , MDL= 99211.0\n",
        "Not merging.\n",
        "Check neighbor: 512  (n= 1720.0 )\n",
        "Run PCA and compute MDL...\n",
        "k="
       ]
      },
      {
       "output_type": "stream",
       "stream": "stdout",
       "text": [
        " 4 , MDL= 6885.0\n",
        "Run PCA and compute MDL on merged region...\n",
        "False\n",
        "k="
       ]
      },
      {
       "output_type": "stream",
       "stream": "stdout",
       "text": [
        " 21 , MDL= 71380.0\n",
        "Not merging.\n",
        "Check neighbor: 517  (n= 1726.0 )\n",
        "Run PCA and compute MDL...\n",
        "k="
       ]
      },
      {
       "output_type": "stream",
       "stream": "stdout",
       "text": [
        " 17 , MDL= 29360.0\n",
        "Run PCA and compute MDL on merged region...\n",
        "False\n",
        "k="
       ]
      },
      {
       "output_type": "stream",
       "stream": "stdout",
       "text": [
        " 38 , MDL= 129391.0\n",
        "Not merging.\n",
        "Start at partition: 515  (n= 1638.0 )\n",
        "Neighbors: [512, 514, 517]\n",
        "Run PCA and compute MDL...\n",
        "k="
       ]
      },
      {
       "output_type": "stream",
       "stream": "stdout",
       "text": [
        " 39 , MDL= 63922.0\n",
        "Check neighbor: 512  (n= 1720.0 )\n",
        "Run PCA and compute MDL...\n",
        "k="
       ]
      },
      {
       "output_type": "stream",
       "stream": "stdout",
       "text": [
        " 4 , MDL= 6885.0\n",
        "Run PCA and compute MDL on merged region...\n",
        "False\n",
        "k="
       ]
      },
      {
       "output_type": "stream",
       "stream": "stdout",
       "text": [
        " 27 , MDL= 90694.0\n",
        "Not merging.\n",
        "Check neighbor: 514  (n= 1678.0 )\n",
        "Run PCA and compute MDL...\n",
        "k="
       ]
      },
      {
       "output_type": "stream",
       "stream": "stdout",
       "text": [
        " 23 , MDL= 38618.0\n",
        "Run PCA and compute MDL on merged region...\n",
        "False\n",
        "k="
       ]
      },
      {
       "output_type": "stream",
       "stream": "stdout",
       "text": [
        " 55 , MDL= 182436.0\n",
        "Not merging.\n",
        "Check neighbor: 517  (n= 1726.0 )\n",
        "Run PCA and compute MDL...\n",
        "k="
       ]
      },
      {
       "output_type": "stream",
       "stream": "stdout",
       "text": [
        " 17 , MDL= 29360.0\n",
        "Run PCA and compute MDL on merged region...\n",
        "False\n",
        "k="
       ]
      },
      {
       "output_type": "stream",
       "stream": "stdout",
       "text": [
        " 41 , MDL= 137966.0\n",
        "Not merging.\n",
        "Start at partition: 517  (n= 1726.0 )\n",
        "Neighbors: [524, 515, 523, 514]\n",
        "Run PCA and compute MDL...\n",
        "k="
       ]
      },
      {
       "output_type": "stream",
       "stream": "stdout",
       "text": [
        " 17 , MDL= 29360.0\n",
        "Check neighbor: 524  (n= 1769.0 )\n",
        "Run PCA and compute MDL...\n",
        "k="
       ]
      },
      {
       "output_type": "stream",
       "stream": "stdout",
       "text": [
        " 9 , MDL= 15931.0\n",
        "Run PCA and compute MDL on merged region...\n",
        "False\n",
        "k="
       ]
      },
      {
       "output_type": "stream",
       "stream": "stdout",
       "text": [
        " 22 , MDL= 76913.0\n",
        "Not merging.\n",
        "Check neighbor: 515  (n= 1638.0 )\n",
        "Run PCA and compute MDL...\n",
        "k="
       ]
      },
      {
       "output_type": "stream",
       "stream": "stdout",
       "text": [
        " 39 , MDL= 63922.0\n",
        "Run PCA and compute MDL on merged region...\n",
        "False\n",
        "k="
       ]
      },
      {
       "output_type": "stream",
       "stream": "stdout",
       "text": [
        " 41 , MDL= 137966.0\n",
        "Not merging.\n",
        "Check neighbor: 523  (n= 1628.0 )\n",
        "Run PCA and compute MDL...\n",
        "k="
       ]
      },
      {
       "output_type": "stream",
       "stream": "stdout",
       "text": [
        " 12 , MDL= 19549.0\n",
        "Run PCA and compute MDL on merged region...\n",
        "False\n",
        "k="
       ]
      },
      {
       "output_type": "stream",
       "stream": "stdout",
       "text": [
        " 25 , MDL= 83876.0\n",
        "Not merging.\n",
        "Check neighbor: 514  (n= 1678.0 )\n",
        "Run PCA and compute MDL...\n",
        "k="
       ]
      },
      {
       "output_type": "stream",
       "stream": "stdout",
       "text": [
        " 23 , MDL= 38618.0\n",
        "Run PCA and compute MDL on merged region...\n",
        "False\n",
        "k="
       ]
      },
      {
       "output_type": "stream",
       "stream": "stdout",
       "text": [
        " 38 , MDL= 129391.0\n",
        "Not merging.\n",
        "Start at partition: 521  (n= 1723.0 )\n",
        "Neighbors: [547, 543, 544]\n",
        "Run PCA and compute MDL...\n",
        "k="
       ]
      },
      {
       "output_type": "stream",
       "stream": "stdout",
       "text": [
        " 8 , MDL= 13793.0\n",
        "Check neighbor: 547  (n= 1715.0 )\n",
        "Run PCA and compute MDL...\n",
        "k="
       ]
      },
      {
       "output_type": "stream",
       "stream": "stdout",
       "text": [
        " 11 , MDL= 18877.0\n",
        "Run PCA and compute MDL on merged region...\n",
        "False\n"
       ]
      },
      {
       "ename": "LinAlgError",
       "evalue": "SVD did not converge",
       "output_type": "pyerr",
       "traceback": [
        "\u001b[1;31m---------------------------------------------------------------------------\u001b[0m\n\u001b[1;31mLinAlgError\u001b[0m                               Traceback (most recent call last)",
        "\u001b[1;32m<ipython-input-50-a7450c86a800>\u001b[0m in \u001b[0;36m<module>\u001b[1;34m()\u001b[0m\n\u001b[1;32m----> 1\u001b[1;33m \u001b[0mmerge_partitions\u001b[0m\u001b[1;33m(\u001b[0m\u001b[0mg\u001b[0m\u001b[1;33m,\u001b[0m\u001b[0mmcounts\u001b[0m\u001b[1;33m,\u001b[0m\u001b[0mmeans\u001b[0m\u001b[1;33m,\u001b[0m\u001b[0mvarthresh\u001b[0m\u001b[1;33m=\u001b[0m\u001b[1;36m0.99\u001b[0m\u001b[1;33m)\u001b[0m\u001b[1;33m\u001b[0m\u001b[0m\n\u001b[0m",
        "\u001b[1;32m<ipython-input-48-4d9725b52a12>\u001b[0m in \u001b[0;36mmerge_partitions\u001b[1;34m(graph, mcounts, means, varthresh)\u001b[0m\n\u001b[0;32m     39\u001b[0m             \u001b[0mcov3\u001b[0m \u001b[1;33m=\u001b[0m \u001b[0mcov3\u001b[0m\u001b[1;33m/\u001b[0m\u001b[0mn3\u001b[0m\u001b[1;33m-\u001b[0m\u001b[0mnp\u001b[0m\u001b[1;33m.\u001b[0m\u001b[0mouter\u001b[0m\u001b[1;33m(\u001b[0m\u001b[0mmean3\u001b[0m\u001b[1;33m,\u001b[0m\u001b[0mmean3\u001b[0m\u001b[1;33m)\u001b[0m\u001b[1;33m\u001b[0m\u001b[0m\n\u001b[0;32m     40\u001b[0m             \u001b[1;32mprint\u001b[0m \u001b[0mnp\u001b[0m\u001b[1;33m.\u001b[0m\u001b[0misnan\u001b[0m\u001b[1;33m(\u001b[0m\u001b[0mcov3\u001b[0m\u001b[1;33m)\u001b[0m\u001b[1;33m.\u001b[0m\u001b[0many\u001b[0m\u001b[1;33m(\u001b[0m\u001b[1;33m)\u001b[0m\u001b[1;33m\u001b[0m\u001b[0m\n\u001b[1;32m---> 41\u001b[1;33m             \u001b[0mU3\u001b[0m\u001b[1;33m,\u001b[0m\u001b[0mS3\u001b[0m\u001b[1;33m,\u001b[0m\u001b[0mV3\u001b[0m\u001b[1;33m=\u001b[0m\u001b[0mnp\u001b[0m\u001b[1;33m.\u001b[0m\u001b[0mlinalg\u001b[0m\u001b[1;33m.\u001b[0m\u001b[0msvd\u001b[0m\u001b[1;33m(\u001b[0m\u001b[0mcov3\u001b[0m\u001b[1;33m)\u001b[0m\u001b[1;33m\u001b[0m\u001b[0m\n\u001b[0m\u001b[0;32m     42\u001b[0m             \u001b[0mk3\u001b[0m \u001b[1;33m=\u001b[0m \u001b[0mfind\u001b[0m\u001b[1;33m(\u001b[0m\u001b[0mcumsum\u001b[0m\u001b[1;33m(\u001b[0m\u001b[0mS3\u001b[0m\u001b[1;33m)\u001b[0m\u001b[1;33m/\u001b[0m\u001b[0msum\u001b[0m\u001b[1;33m(\u001b[0m\u001b[0mS3\u001b[0m\u001b[1;33m)\u001b[0m\u001b[1;33m>=\u001b[0m\u001b[0mvarthresh\u001b[0m\u001b[1;33m)\u001b[0m\u001b[1;33m[\u001b[0m\u001b[1;36m0\u001b[0m\u001b[1;33m]\u001b[0m\u001b[1;33m\u001b[0m\u001b[0m\n\u001b[0;32m     43\u001b[0m             \u001b[1;31m# Compute medium description length (MDL)\u001b[0m\u001b[1;33m\u001b[0m\u001b[1;33m\u001b[0m\u001b[0m\n",
        "\u001b[1;32m/usr/local/lib/python2.7/dist-packages/numpy/linalg/linalg.pyc\u001b[0m in \u001b[0;36msvd\u001b[1;34m(a, full_matrices, compute_uv)\u001b[0m\n\u001b[0;32m   1325\u001b[0m \u001b[1;33m\u001b[0m\u001b[0m\n\u001b[0;32m   1326\u001b[0m         \u001b[0msignature\u001b[0m \u001b[1;33m=\u001b[0m \u001b[1;34m'D->DdD'\u001b[0m \u001b[1;32mif\u001b[0m \u001b[0misComplexType\u001b[0m\u001b[1;33m(\u001b[0m\u001b[0mt\u001b[0m\u001b[1;33m)\u001b[0m \u001b[1;32melse\u001b[0m \u001b[1;34m'd->ddd'\u001b[0m\u001b[1;33m\u001b[0m\u001b[0m\n\u001b[1;32m-> 1327\u001b[1;33m         \u001b[0mu\u001b[0m\u001b[1;33m,\u001b[0m \u001b[0ms\u001b[0m\u001b[1;33m,\u001b[0m \u001b[0mvt\u001b[0m \u001b[1;33m=\u001b[0m \u001b[0mgufunc\u001b[0m\u001b[1;33m(\u001b[0m\u001b[0ma\u001b[0m\u001b[1;33m,\u001b[0m \u001b[0msignature\u001b[0m\u001b[1;33m=\u001b[0m\u001b[0msignature\u001b[0m\u001b[1;33m,\u001b[0m \u001b[0mextobj\u001b[0m\u001b[1;33m=\u001b[0m\u001b[0mextobj\u001b[0m\u001b[1;33m)\u001b[0m\u001b[1;33m\u001b[0m\u001b[0m\n\u001b[0m\u001b[0;32m   1328\u001b[0m         \u001b[0mu\u001b[0m \u001b[1;33m=\u001b[0m \u001b[0mu\u001b[0m\u001b[1;33m.\u001b[0m\u001b[0mastype\u001b[0m\u001b[1;33m(\u001b[0m\u001b[0mresult_t\u001b[0m\u001b[1;33m)\u001b[0m\u001b[1;33m\u001b[0m\u001b[0m\n\u001b[0;32m   1329\u001b[0m         \u001b[0ms\u001b[0m \u001b[1;33m=\u001b[0m \u001b[0ms\u001b[0m\u001b[1;33m.\u001b[0m\u001b[0mastype\u001b[0m\u001b[1;33m(\u001b[0m\u001b[0m_realType\u001b[0m\u001b[1;33m(\u001b[0m\u001b[0mresult_t\u001b[0m\u001b[1;33m)\u001b[0m\u001b[1;33m)\u001b[0m\u001b[1;33m\u001b[0m\u001b[0m\n",
        "\u001b[1;32m/usr/local/lib/python2.7/dist-packages/numpy/linalg/linalg.pyc\u001b[0m in \u001b[0;36m_raise_linalgerror_svd_nonconvergence\u001b[1;34m(err, flag)\u001b[0m\n\u001b[0;32m     97\u001b[0m \u001b[1;33m\u001b[0m\u001b[0m\n\u001b[0;32m     98\u001b[0m \u001b[1;32mdef\u001b[0m \u001b[0m_raise_linalgerror_svd_nonconvergence\u001b[0m\u001b[1;33m(\u001b[0m\u001b[0merr\u001b[0m\u001b[1;33m,\u001b[0m \u001b[0mflag\u001b[0m\u001b[1;33m)\u001b[0m\u001b[1;33m:\u001b[0m\u001b[1;33m\u001b[0m\u001b[0m\n\u001b[1;32m---> 99\u001b[1;33m     \u001b[1;32mraise\u001b[0m \u001b[0mLinAlgError\u001b[0m\u001b[1;33m(\u001b[0m\u001b[1;34m\"SVD did not converge\"\u001b[0m\u001b[1;33m)\u001b[0m\u001b[1;33m\u001b[0m\u001b[0m\n\u001b[0m\u001b[0;32m    100\u001b[0m \u001b[1;33m\u001b[0m\u001b[0m\n\u001b[0;32m    101\u001b[0m \u001b[1;32mdef\u001b[0m \u001b[0mget_linalg_error_extobj\u001b[0m\u001b[1;33m(\u001b[0m\u001b[0mcallback\u001b[0m\u001b[1;33m)\u001b[0m\u001b[1;33m:\u001b[0m\u001b[1;33m\u001b[0m\u001b[0m\n",
        "\u001b[1;31mLinAlgError\u001b[0m: SVD did not converge"
       ]
      }
     ],
     "prompt_number": 50
    },
    {
     "cell_type": "code",
     "collapsed": false,
     "input": [
      "g0 = {1: [2,4,7,8],2: [1,3,4,5],3: [2,4,5,7],4: [1,2,3,5,6],5: [2,3,4,6],6: [4,5,7,8],7: [1,3,6],8: [1,6]}"
     ],
     "language": "python",
     "metadata": {},
     "outputs": []
    },
    {
     "cell_type": "code",
     "collapsed": true,
     "input": [
      "print [n for n in g0]\n",
      "print g0.items()\n",
      "for p in g0.keys():\n",
      "    print p\n",
      "print g0[1]"
     ],
     "language": "python",
     "metadata": {},
     "outputs": [
      {
       "output_type": "stream",
       "stream": "stdout",
       "text": [
        "[1, 2, 3, 4, 5, 6, 7, 8]\n",
        "[(1, [2, 4, 7, 8]), (2, [1, 3, 4, 5]), (3, [2, 4, 5, 7]), (4, [1, 2, 3, 5, 6]), (5, [2, 3, 4, 6]), (6, [4, 5, 7, 8]), (7, [1, 3, 6]), (8, [1, 6])]\n",
        "1\n",
        "2\n",
        "3\n",
        "4\n",
        "5\n",
        "6\n",
        "7\n",
        "8\n",
        "[2, 4, 7, 8]\n"
       ]
      }
     ],
     "prompt_number": 129
    },
    {
     "cell_type": "code",
     "collapsed": false,
     "input": [
      "print g0.keys()[0]"
     ],
     "language": "python",
     "metadata": {},
     "outputs": [
      {
       "output_type": "stream",
       "stream": "stdout",
       "text": [
        "1\n"
       ]
      }
     ],
     "prompt_number": 130
    },
    {
     "cell_type": "code",
     "collapsed": false,
     "input": [
      "k = 0\n",
      "K = len(g0)\n",
      "while k < K:   \n",
      "    p = g0.keys()[k]\n",
      "    print 'partition:',k,p\n",
      "    i = 0\n",
      "    N = len(g0[p])\n",
      "    while i < N:\n",
      "        n = g0[p][i]\n",
      "        print 'neighbor:',i, n\n",
      "        g0[p].remove(n)\n",
      "        g0[n].remove(p)\n",
      "        g0[p] = list(set(g0[p]+g0[n]))\n",
      "        del g0[n]\n",
      "        print g0\n",
      "        # Update neighbor entries in all partitions\n",
      "        for j in g0:\n",
      "            g0[j] = list(set([p if x==n else x for x in g0[j]]))\n",
      "        N = len(g0[p])\n",
      "        i = 0\n",
      "    k = k+1\n",
      "    K = len(g0)    "
     ],
     "language": "python",
     "metadata": {},
     "outputs": [
      {
       "output_type": "stream",
       "stream": "stdout",
       "text": [
        "partition: 0 1\n",
        "neighbor: 0 2\n",
        "{1: [8, 3, 4, 5, 7], 3: [2, 4, 5, 7], 4: [1, 2, 3, 5, 6], 5: [2, 3, 4, 6], 6: [4, 5, 7, 8], 7: [1, 3, 6], 8: [1, 6]}\n",
        "neighbor: 0 8\n",
        "{1: [3, 4, 5, 6, 7], 3: [1, 4, 5, 7], 4: [1, 3, 5, 6], 5: [1, 3, 4, 6], 6: [8, 4, 5, 7], 7: [1, 3, 6]}\n",
        "neighbor: 0 3\n",
        "{1: [4, 5, 6, 7], 4: [1, 3, 5, 6], 5: [1, 3, 4, 6], 6: [1, 4, 5, 7], 7: [1, 3, 6]}\n",
        "neighbor: 0 4\n",
        "{1: [5, 6, 7], 5: [1, 4, 6], 6: [1, 4, 5, 7], 7: [1, 6]}\n",
        "neighbor: 0 5\n",
        "{1: [6, 7], 6: [1, 5, 7], 7: [1, 6]}\n",
        "neighbor: 0 6\n",
        "{1: [7], 7: [1, 6]}\n",
        "neighbor: 0 7\n",
        "{1: []}\n"
       ]
      }
     ],
     "prompt_number": 131
    },
    {
     "cell_type": "code",
     "collapsed": false,
     "input": [
      "print g0"
     ],
     "language": "python",
     "metadata": {},
     "outputs": [
      {
       "output_type": "stream",
       "stream": "stdout",
       "text": [
        "{1: [3, 4, 5, 7, 8], 3: [1, 4, 5, 7], 4: [1, 1, 3, 5, 6], 5: [1, 3, 4, 6], 6: [4, 5, 7, 8], 7: [1, 3, 6], 8: [1, 6]}\n"
       ]
      }
     ],
     "prompt_number": 207
    },
    {
     "cell_type": "markdown",
     "metadata": {},
     "source": [
      "In the previous section, we have computed the mean vector and covariance matrix for each partition and have performed the complete PCA for a single partition. \n",
      "\n",
      "Our final task now is to run the PCA for all partitions and merge them, using the medium description length (MDL) as a measure.\n",
      "\n",
      "The MDL criterion for when to merge two regions $1$ and $2$, to a new region $3$ is\n",
      "\n",
      "$$n_1\\cdot k_1+(k_1+1)\\cdot(2\\times 365)+n_2\\cdot k_2+(k_2+1)\\cdot(2\\times 365) > n_3\\cdot k_3+(k_3+1)\\cdot(2\\times 365)$$\n",
      "\n",
      "where $k_i$ is the number of required eigenvectors for region $i$ to explain 99% of the variance and $n_i$ are the number of measurements in region $i$. \n",
      "\n",
      "In order to do that, we will proceed as follows:\n",
      "\n",
      "1. Find neighbors for each partition\n",
      "2. Store neighbor information in a graph\n",
      "3. Merge partitions based on MDL"
     ]
    },
    {
     "cell_type": "markdown",
     "metadata": {},
     "source": [
      "### To be continued... ###"
     ]
    }
   ],
   "metadata": {}
  }
 ]
}