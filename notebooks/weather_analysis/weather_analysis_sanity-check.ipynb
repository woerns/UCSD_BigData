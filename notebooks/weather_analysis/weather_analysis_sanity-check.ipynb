{
 "metadata": {
  "name": "",
  "signature": "sha256:faba98c32fa27649525672ad5ceab690a16084ccb87fc2e04b9c3a1916ca84f7"
 },
 "nbformat": 3,
 "nbformat_minor": 0,
 "worksheets": [
  {
   "cells": [
    {
     "cell_type": "code",
     "collapsed": false,
     "input": [
      "import pandas as pd\n",
      "import numpy as np\n",
      "import sklearn as sk\n",
      "import scipy\n",
      "import pickle\n",
      "from mpl_toolkits.basemap import Basemap\n",
      "print 'pandas version: ',pd.__version__\n",
      "print 'numpy version:',np.__version__\n",
      "print 'sklearn version:',sk.__version__\n",
      "print 'scipy version:',scipy.__version__\n",
      "print 'pickle version:',pickle.__version__"
     ],
     "language": "python",
     "metadata": {},
     "outputs": [
      {
       "output_type": "stream",
       "stream": "stdout",
       "text": [
        "pandas version:  0.13.1\n",
        "numpy version: 1.8.1\n",
        "sklearn version: 0.14.1\n",
        "scipy version: 0.13.3\n",
        "pickle version: $Revision: 72223 $\n"
       ]
      }
     ],
     "prompt_number": 1
    },
    {
     "cell_type": "code",
     "collapsed": false,
     "input": [
      "import sys\n",
      "home_dir='/home/ubuntu/UCSD_BigData'\n",
      "sys.path.append(home_dir+'/utils')\n",
      "from find_waiting_flow import *\n",
      "from AWS_keypair_management import *"
     ],
     "language": "python",
     "metadata": {},
     "outputs": [],
     "prompt_number": 2
    },
    {
     "cell_type": "code",
     "collapsed": false,
     "input": [
      "elements = ['20.1', '10.2','4','']\n",
      "mvalues = []\n",
      "#mvalues = mvalues.astype(float)\n",
      "for e in elements:\n",
      "    if e!='':\n",
      "        mvalues.append(float(e))\n",
      "mvalues = np.array(mvalues)\n",
      "print elements, type(elements)\n",
      "print mvalues, type(mvalues)"
     ],
     "language": "python",
     "metadata": {},
     "outputs": [
      {
       "output_type": "stream",
       "stream": "stdout",
       "text": [
        "['20.1', '10.2', '4', ''] <type 'list'>\n",
        "[ 20.1  10.2   4. ] <type 'numpy.ndarray'>\n"
       ]
      }
     ],
     "prompt_number": 27
    },
    {
     "cell_type": "code",
     "collapsed": false,
     "input": [
      "%%writefile mr_weather_sanity.py\n",
      "\"\"\"\n",
      "compute mean vector for each partition\n",
      "\"\"\"\n",
      "import sys\n",
      "sys.path.append('/usr/lib/python2.7/dist-packages')\n",
      "from mrjob.job import MRJob\n",
      "import re\n",
      "from sys import stderr\n",
      "import numpy as np\n",
      "\n",
      "class MRWeatherSanity(MRJob):\n",
      "\n",
      "    def mapper(self, _, line):\n",
      "        try:\n",
      "            self.increment_counter('MrJob Counters','mapper',1)\n",
      "            elements=line.split(',')      \n",
      "            if (elements[1]=='TMIN')|(elements[1]=='TMAX'):\n",
      "                mvalues = []\n",
      "                for e in elements[3:]:\n",
      "                    if e!='':\n",
      "                        mvalues.append(float(e))\n",
      "                mvalues = np.array(mvalues)\n",
      "                hist, bins = np.histogram(mvalues,bins=200,range=(-200.5,200.5))\n",
      "                center = (bins[:-1]+bins[1:])/2\n",
      "                for j in xrange(len(hist)):\n",
      "                    yield (center[j],hist[j])\n",
      "        except Exception, e:\n",
      "            stderr.write('Error in line:\\n'+line+'\\n')\n",
      "            stderr.write(str(e)+'\\n')\n",
      "            self.increment_counter('MrJob Counters','mapper-error',1)\n",
      "            yield ('error',1)\n",
      "            \n",
      "    def combiner(self, key, counts):\n",
      "        self.increment_counter('MrJob Counters','combiner',1)\n",
      "        yield (key,sum(counts))\n",
      "\n",
      "    def reducer(self, key, counts):\n",
      "        self.increment_counter('MrJob Counters','reducer',1)\n",
      "        yield (key,sum(counts))\n",
      "\n",
      "if __name__ == '__main__':\n",
      "    MRWeatherSanity.run()"
     ],
     "language": "python",
     "metadata": {},
     "outputs": [
      {
       "output_type": "stream",
       "stream": "stdout",
       "text": [
        "Overwriting mr_weather_sanity.py\n"
       ]
      }
     ],
     "prompt_number": 50
    },
    {
     "cell_type": "code",
     "collapsed": false,
     "input": [
      "Creds= pickle.load(open('/home/ubuntu/Vault/Creds.pkl','rb'))\n",
      "pair=Creds['mrjob']\n",
      "key_id=pair['key_id']\n",
      "secret_key=pair['secret_key']\n",
      "\n",
      "job_flow_id=find_waiting_flow(key_id,secret_key)"
     ],
     "language": "python",
     "metadata": {},
     "outputs": [
      {
       "output_type": "stream",
       "stream": "stdout",
       "text": [
        "<boto.emr.emrobject.JobFlow object at 0xb97f8d0> no_script.yoavfreund.20140610.012426.319987 j-QEERH05KMYTO WAITING\n",
        "<boto.emr.emrobject.JobFlow object at 0xcde5710> no_script.yoavfreund.20140610.012507.678804 j-NIGXU2E6YEU3 WAITING\n",
        "<boto.emr.emrobject.JobFlow object at 0xcde7b50> no_script.yoavfreund.20140610.012523.713192 j-34Q4HR41T9BWU WAITING\n"
       ]
      }
     ],
     "prompt_number": 83
    },
    {
     "cell_type": "code",
     "collapsed": false,
     "input": [
      "!python mr_weather_sanity.py -r emr --emr-job-flow-id $job_flow_id hdfs:/weather.raw_data/ALL.csv > TMINTMAX_range.pkl"
     ],
     "language": "python",
     "metadata": {},
     "outputs": [
      {
       "output_type": "stream",
       "stream": "stdout",
       "text": [
        "using configs in /home/ubuntu/.mrjob.conf\r\n"
       ]
      },
      {
       "output_type": "stream",
       "stream": "stdout",
       "text": [
        "creating tmp directory /tmp/mr_weather_sanity.ubuntu.20140611.074332.362244\r\n"
       ]
      },
      {
       "output_type": "stream",
       "stream": "stdout",
       "text": [
        "Copying non-input files into s3://woerns.bucket/scratch/mr_weather_sanity.ubuntu.20140611.074332.362244/files/\r\n"
       ]
      },
      {
       "output_type": "stream",
       "stream": "stdout",
       "text": [
        "Adding our job to existing job flow j-31PKW9W4C2YQK\r\n"
       ]
      },
      {
       "output_type": "stream",
       "stream": "stdout",
       "text": [
        "Job launched 30.4s ago, status RUNNING: Running step (mr_weather_sanity.ubuntu.20140611.074332.362244: Step 1 of 1)\r\n"
       ]
      },
      {
       "output_type": "stream",
       "stream": "stdout",
       "text": [
        "Job launched 60.8s ago, status RUNNING: Running step (mr_weather_sanity.ubuntu.20140611.074332.362244: Step 1 of 1)\r\n"
       ]
      },
      {
       "output_type": "stream",
       "stream": "stdout",
       "text": [
        "Job launched 91.2s ago, status RUNNING: Running step (mr_weather_sanity.ubuntu.20140611.074332.362244: Step 1 of 1)\r\n"
       ]
      },
      {
       "output_type": "stream",
       "stream": "stdout",
       "text": [
        "Job launched 121.6s ago, status RUNNING: Running step (mr_weather_sanity.ubuntu.20140611.074332.362244: Step 1 of 1)\r\n"
       ]
      },
      {
       "output_type": "stream",
       "stream": "stdout",
       "text": [
        "Job launched 152.0s ago, status RUNNING: Running step (mr_weather_sanity.ubuntu.20140611.074332.362244: Step 1 of 1)\r\n"
       ]
      },
      {
       "output_type": "stream",
       "stream": "stdout",
       "text": [
        "Job launched 182.4s ago, status RUNNING: Running step (mr_weather_sanity.ubuntu.20140611.074332.362244: Step 1 of 1)\r\n"
       ]
      },
      {
       "output_type": "stream",
       "stream": "stdout",
       "text": [
        "Job launched 212.7s ago, status RUNNING: Running step (mr_weather_sanity.ubuntu.20140611.074332.362244: Step 1 of 1)\r\n"
       ]
      },
      {
       "output_type": "stream",
       "stream": "stdout",
       "text": [
        "Job launched 243.1s ago, status RUNNING: Running step (mr_weather_sanity.ubuntu.20140611.074332.362244: Step 1 of 1)\r\n"
       ]
      },
      {
       "output_type": "stream",
       "stream": "stdout",
       "text": [
        "Job launched 273.5s ago, status RUNNING: Running step (mr_weather_sanity.ubuntu.20140611.074332.362244: Step 1 of 1)\r\n"
       ]
      },
      {
       "output_type": "stream",
       "stream": "stdout",
       "text": [
        "Job launched 303.9s ago, status RUNNING: Running step (mr_weather_sanity.ubuntu.20140611.074332.362244: Step 1 of 1)\r\n"
       ]
      },
      {
       "output_type": "stream",
       "stream": "stdout",
       "text": [
        "Job launched 334.3s ago, status RUNNING: Running step (mr_weather_sanity.ubuntu.20140611.074332.362244: Step 1 of 1)\r\n"
       ]
      },
      {
       "output_type": "stream",
       "stream": "stdout",
       "text": [
        "Job launched 364.7s ago, status RUNNING: Running step (mr_weather_sanity.ubuntu.20140611.074332.362244: Step 1 of 1)\r\n"
       ]
      },
      {
       "output_type": "stream",
       "stream": "stdout",
       "text": [
        "Job launched 395.1s ago, status RUNNING: Running step (mr_weather_sanity.ubuntu.20140611.074332.362244: Step 1 of 1)\r\n"
       ]
      },
      {
       "output_type": "stream",
       "stream": "stdout",
       "text": [
        "Job launched 425.5s ago, status RUNNING: Running step (mr_weather_sanity.ubuntu.20140611.074332.362244: Step 1 of 1)\r\n"
       ]
      },
      {
       "output_type": "stream",
       "stream": "stdout",
       "text": [
        "Job launched 455.9s ago, status RUNNING: Running step (mr_weather_sanity.ubuntu.20140611.074332.362244: Step 1 of 1)\r\n"
       ]
      },
      {
       "output_type": "stream",
       "stream": "stdout",
       "text": [
        "Job launched 486.3s ago, status RUNNING: Running step (mr_weather_sanity.ubuntu.20140611.074332.362244: Step 1 of 1)\r\n"
       ]
      },
      {
       "output_type": "stream",
       "stream": "stdout",
       "text": [
        "Job launched 516.7s ago, status RUNNING: Running step (mr_weather_sanity.ubuntu.20140611.074332.362244: Step 1 of 1)\r\n"
       ]
      },
      {
       "output_type": "stream",
       "stream": "stdout",
       "text": [
        "Job launched 547.1s ago, status RUNNING: Running step (mr_weather_sanity.ubuntu.20140611.074332.362244: Step 1 of 1)\r\n"
       ]
      },
      {
       "output_type": "stream",
       "stream": "stdout",
       "text": [
        "Job launched 577.4s ago, status RUNNING: Running step (mr_weather_sanity.ubuntu.20140611.074332.362244: Step 1 of 1)\r\n"
       ]
      },
      {
       "output_type": "stream",
       "stream": "stdout",
       "text": [
        "Job launched 607.8s ago, status RUNNING: Running step (mr_weather_sanity.ubuntu.20140611.074332.362244: Step 1 of 1)\r\n"
       ]
      },
      {
       "output_type": "stream",
       "stream": "stdout",
       "text": [
        "Job launched 638.1s ago, status RUNNING: Running step (mr_weather_sanity.ubuntu.20140611.074332.362244: Step 1 of 1)\r\n"
       ]
      },
      {
       "output_type": "stream",
       "stream": "stdout",
       "text": [
        "Job launched 668.6s ago, status RUNNING: Running step (mr_weather_sanity.ubuntu.20140611.074332.362244: Step 1 of 1)\r\n"
       ]
      },
      {
       "output_type": "stream",
       "stream": "stdout",
       "text": [
        "Job launched 699.0s ago, status RUNNING: Running step (mr_weather_sanity.ubuntu.20140611.074332.362244: Step 1 of 1)\r\n"
       ]
      },
      {
       "output_type": "stream",
       "stream": "stdout",
       "text": [
        "Job launched 729.4s ago, status RUNNING: Running step (mr_weather_sanity.ubuntu.20140611.074332.362244: Step 1 of 1)\r\n"
       ]
      },
      {
       "output_type": "stream",
       "stream": "stdout",
       "text": [
        "Job launched 759.7s ago, status RUNNING: Running step (mr_weather_sanity.ubuntu.20140611.074332.362244: Step 1 of 1)\r\n"
       ]
      },
      {
       "output_type": "stream",
       "stream": "stdout",
       "text": [
        "Job launched 790.1s ago, status RUNNING: Running step (mr_weather_sanity.ubuntu.20140611.074332.362244: Step 1 of 1)\r\n"
       ]
      },
      {
       "output_type": "stream",
       "stream": "stdout",
       "text": [
        "Job launched 820.5s ago, status RUNNING: Running step (mr_weather_sanity.ubuntu.20140611.074332.362244: Step 1 of 1)\r\n"
       ]
      },
      {
       "output_type": "stream",
       "stream": "stdout",
       "text": [
        "Job launched 850.9s ago, status RUNNING: Running step (mr_weather_sanity.ubuntu.20140611.074332.362244: Step 1 of 1)\r\n"
       ]
      },
      {
       "output_type": "stream",
       "stream": "stdout",
       "text": [
        "Job launched 881.4s ago, status RUNNING: Running step (mr_weather_sanity.ubuntu.20140611.074332.362244: Step 1 of 1)\r\n"
       ]
      },
      {
       "output_type": "stream",
       "stream": "stdout",
       "text": [
        "Job launched 911.8s ago, status RUNNING: Running step (mr_weather_sanity.ubuntu.20140611.074332.362244: Step 1 of 1)\r\n"
       ]
      },
      {
       "output_type": "stream",
       "stream": "stdout",
       "text": [
        "Job launched 942.2s ago, status RUNNING: Running step (mr_weather_sanity.ubuntu.20140611.074332.362244: Step 1 of 1)\r\n"
       ]
      },
      {
       "output_type": "stream",
       "stream": "stdout",
       "text": [
        "Job launched 972.5s ago, status RUNNING: Running step (mr_weather_sanity.ubuntu.20140611.074332.362244: Step 1 of 1)\r\n"
       ]
      },
      {
       "output_type": "stream",
       "stream": "stdout",
       "text": [
        "Job launched 1002.9s ago, status RUNNING: Running step (mr_weather_sanity.ubuntu.20140611.074332.362244: Step 1 of 1)\r\n"
       ]
      },
      {
       "output_type": "stream",
       "stream": "stdout",
       "text": [
        "Job launched 1033.3s ago, status RUNNING: Running step (mr_weather_sanity.ubuntu.20140611.074332.362244: Step 1 of 1)\r\n"
       ]
      },
      {
       "output_type": "stream",
       "stream": "stdout",
       "text": [
        "Job launched 1063.7s ago, status RUNNING: Running step (mr_weather_sanity.ubuntu.20140611.074332.362244: Step 1 of 1)\r\n"
       ]
      },
      {
       "output_type": "stream",
       "stream": "stdout",
       "text": [
        "Job launched 1094.1s ago, status RUNNING: Running step (mr_weather_sanity.ubuntu.20140611.074332.362244: Step 1 of 1)\r\n"
       ]
      },
      {
       "output_type": "stream",
       "stream": "stdout",
       "text": [
        "Job launched 1124.5s ago, status RUNNING: Running step (mr_weather_sanity.ubuntu.20140611.074332.362244: Step 1 of 1)\r\n"
       ]
      },
      {
       "output_type": "stream",
       "stream": "stdout",
       "text": [
        "Job launched 1154.8s ago, status RUNNING: Running step (mr_weather_sanity.ubuntu.20140611.074332.362244: Step 1 of 1)\r\n"
       ]
      },
      {
       "output_type": "stream",
       "stream": "stdout",
       "text": [
        "Job launched 1185.2s ago, status RUNNING: Running step (mr_weather_sanity.ubuntu.20140611.074332.362244: Step 1 of 1)\r\n"
       ]
      },
      {
       "output_type": "stream",
       "stream": "stdout",
       "text": [
        "Job launched 1215.6s ago, status RUNNING: Running step (mr_weather_sanity.ubuntu.20140611.074332.362244: Step 1 of 1)\r\n"
       ]
      },
      {
       "output_type": "stream",
       "stream": "stdout",
       "text": [
        "Job launched 1245.9s ago, status RUNNING: Running step (mr_weather_sanity.ubuntu.20140611.074332.362244: Step 1 of 1)\r\n"
       ]
      },
      {
       "output_type": "stream",
       "stream": "stdout",
       "text": [
        "Job launched 1276.3s ago, status RUNNING: Running step (mr_weather_sanity.ubuntu.20140611.074332.362244: Step 1 of 1)\r\n"
       ]
      },
      {
       "output_type": "stream",
       "stream": "stdout",
       "text": [
        "Job launched 1306.7s ago, status RUNNING: Running step (mr_weather_sanity.ubuntu.20140611.074332.362244: Step 1 of 1)\r\n"
       ]
      },
      {
       "output_type": "stream",
       "stream": "stdout",
       "text": [
        "Job launched 1337.1s ago, status RUNNING: Running step (mr_weather_sanity.ubuntu.20140611.074332.362244: Step 1 of 1)\r\n"
       ]
      },
      {
       "output_type": "stream",
       "stream": "stdout",
       "text": [
        "Job launched 1367.4s ago, status RUNNING: Running step (mr_weather_sanity.ubuntu.20140611.074332.362244: Step 1 of 1)\r\n"
       ]
      },
      {
       "output_type": "stream",
       "stream": "stdout",
       "text": [
        "Job launched 1397.9s ago, status RUNNING: Running step (mr_weather_sanity.ubuntu.20140611.074332.362244: Step 1 of 1)\r\n"
       ]
      },
      {
       "output_type": "stream",
       "stream": "stdout",
       "text": [
        "Job launched 1428.3s ago, status RUNNING: Running step (mr_weather_sanity.ubuntu.20140611.074332.362244: Step 1 of 1)\r\n"
       ]
      },
      {
       "output_type": "stream",
       "stream": "stdout",
       "text": [
        "Job launched 1458.7s ago, status RUNNING: Running step (mr_weather_sanity.ubuntu.20140611.074332.362244: Step 1 of 1)\r\n"
       ]
      },
      {
       "output_type": "stream",
       "stream": "stdout",
       "text": [
        "Job launched 1489.0s ago, status RUNNING: Running step (mr_weather_sanity.ubuntu.20140611.074332.362244: Step 1 of 1)\r\n"
       ]
      },
      {
       "output_type": "stream",
       "stream": "stdout",
       "text": [
        "Job launched 1519.4s ago, status RUNNING: Running step (mr_weather_sanity.ubuntu.20140611.074332.362244: Step 1 of 1)\r\n"
       ]
      },
      {
       "output_type": "stream",
       "stream": "stdout",
       "text": [
        "Job launched 1549.8s ago, status RUNNING: Running step (mr_weather_sanity.ubuntu.20140611.074332.362244: Step 1 of 1)\r\n"
       ]
      },
      {
       "output_type": "stream",
       "stream": "stdout",
       "text": [
        "Job launched 1580.2s ago, status RUNNING: Running step (mr_weather_sanity.ubuntu.20140611.074332.362244: Step 1 of 1)\r\n"
       ]
      },
      {
       "output_type": "stream",
       "stream": "stdout",
       "text": [
        "Job launched 1610.7s ago, status RUNNING: Running step (mr_weather_sanity.ubuntu.20140611.074332.362244: Step 1 of 1)\r\n"
       ]
      },
      {
       "output_type": "stream",
       "stream": "stdout",
       "text": [
        "Job completed.\r\n",
        "Running time was 1565.0s (not counting time spent waiting for the EC2 instances)\r\n",
        "ec2_key_pair_file not specified, going to S3\r\n",
        "Fetching counters from S3...\r\n",
        "Waiting 5.0s for S3 eventual consistency\r\n"
       ]
      },
      {
       "output_type": "stream",
       "stream": "stdout",
       "text": [
        "Counters from step 1:\r\n",
        "  File Input Format Counters :\r\n",
        "    Bytes Read: 7670788923\r\n",
        "  File Output Format Counters :\r\n",
        "    Bytes Written: 4503\r\n",
        "  FileSystemCounters:\r\n",
        "    FILE_BYTES_READ: 11964476\r\n",
        "    FILE_BYTES_WRITTEN: 4824742\r\n",
        "    HDFS_BYTES_READ: 7670795163\r\n",
        "    S3_BYTES_WRITTEN: 4503\r\n",
        "  Job Counters :\r\n",
        "    Data-local map tasks: 58\r\n",
        "    Launched map tasks: 60\r\n",
        "    Launched reduce tasks: 12\r\n",
        "    Rack-local map tasks: 2\r\n",
        "    SLOTS_MILLIS_MAPS: 43665012\r\n",
        "    SLOTS_MILLIS_REDUCES: 4055896\r\n",
        "    Total time spent by all maps waiting after reserving slots (ms): 0\r\n",
        "    Total time spent by all reduces waiting after reserving slots (ms): 0\r\n",
        "  Map-Reduce Framework:\r\n",
        "    CPU time spent (ms): 24197650\r\n",
        "    Combine input records: 387657200\r\n",
        "    Combine output records: 167200\r\n",
        "    Map input bytes: 7668890105\r\n",
        "    Map input records: 9358395\r\n",
        "    Map output bytes: 7652889294\r\n",
        "    Map output materialized bytes: 218632\r\n",
        "    Map output records: 387502000\r\n",
        "    Physical memory (bytes) snapshot: 26684354560\r\n",
        "    Reduce input groups: 200\r\n",
        "    Reduce input records: 12000\r\n",
        "    Reduce output records: 200\r\n",
        "    Reduce shuffle bytes: 218632\r\n",
        "    SPLIT_RAW_BYTES: 6240\r\n",
        "    Spilled Records: 179200\r\n",
        "    Total committed heap usage (bytes): 23927980032\r\n",
        "    Virtual memory (bytes) snapshot: 126914863104\r\n",
        "  MrJob Counters:\r\n",
        "    mapper: 9358395\r\n",
        "    reducer: 200\r\n",
        "Streaming final output from s3://woerns.bucket/scratch/mr_weather_sanity.ubuntu.20140611.074332.362244/output/\r\n"
       ]
      },
      {
       "output_type": "stream",
       "stream": "stdout",
       "text": [
        "removing tmp directory /tmp/mr_weather_sanity.ubuntu.20140611.074332.362244\r\n",
        "Removing all files in s3://woerns.bucket/scratch/mr_weather_sanity.ubuntu.20140611.074332.362244/\r\n"
       ]
      }
     ],
     "prompt_number": 51
    },
    {
     "cell_type": "code",
     "collapsed": false,
     "input": [
      "%%writefile mr_weather_sanity_1.py\n",
      "\"\"\"\n",
      "compute mean vector for each partition\n",
      "\"\"\"\n",
      "import sys\n",
      "sys.path.append('/usr/lib/python2.7/dist-packages')\n",
      "from mrjob.job import MRJob\n",
      "import re\n",
      "from sys import stderr\n",
      "import numpy as np\n",
      "\n",
      "class MRWeatherSanity(MRJob):\n",
      "\n",
      "    def mapper(self, _, line):\n",
      "        try:\n",
      "            self.increment_counter('MrJob Counters','mapper',1)\n",
      "            elements=line.split(',')      \n",
      "            if (elements[1]=='TMIN')|(elements[1]=='TMAX'):\n",
      "                mvalues = []\n",
      "                for e in elements[3:]:\n",
      "                    if e!='':\n",
      "                        mvalues.append(float(e))\n",
      "                    yield ('T',mvalues[0])\n",
      "        except Exception, e:\n",
      "            stderr.write('Error in line:\\n'+line+'\\n')\n",
      "            stderr.write(str(e)+'\\n')\n",
      "            self.increment_counter('MrJob Counters','mapper-error',1)\n",
      "            yield ('error',1)\n",
      "            \n",
      "    def combiner(self, key, counts):\n",
      "        self.increment_counter('MrJob Counters','combiner',1)\n",
      "        yield (key,sum(counts))\n",
      "\n",
      "    def reducer(self, key, mlists):\n",
      "        self.increment_counter('MrJob Counters','reducer',1)\n",
      "        if key=='T':\n",
      "            mvalues_f = [item for sublist in mlists for item in sublist]\n",
      "            mvalues_f = np.array(mvalues_f)\n",
      "            hist, bins = np.histogram(mvalues_f,bins=1000)\n",
      "            center = (bins[:-1]+bins[1:])/2\n",
      "            for j in xrange(len(hist)):\n",
      "                yield (center[j],hist[j])\n",
      "\n",
      "if __name__ == '__main__':\n",
      "    MRWeatherSanity.run()"
     ],
     "language": "python",
     "metadata": {},
     "outputs": [
      {
       "output_type": "stream",
       "stream": "stdout",
       "text": [
        "Overwriting mr_weather_sanity_1.py\n"
       ]
      }
     ],
     "prompt_number": 82
    },
    {
     "cell_type": "code",
     "collapsed": false,
     "input": [
      "!python mr_weather_sanity_1.py -r emr --emr-job-flow-id $job_flow_id hdfs:/weather.raw_data/ALL.csv > TMINTMAX_range1.pkl"
     ],
     "language": "python",
     "metadata": {},
     "outputs": [
      {
       "output_type": "stream",
       "stream": "stdout",
       "text": [
        "using configs in /home/ubuntu/.mrjob.conf\r\n"
       ]
      },
      {
       "output_type": "stream",
       "stream": "stdout",
       "text": [
        "creating tmp directory /tmp/mr_weather_sanity_1.ubuntu.20140611.085323.714187\r\n"
       ]
      },
      {
       "output_type": "stream",
       "stream": "stdout",
       "text": [
        "Copying non-input files into s3://woerns.bucket/scratch/mr_weather_sanity_1.ubuntu.20140611.085323.714187/files/\r\n"
       ]
      },
      {
       "output_type": "stream",
       "stream": "stdout",
       "text": [
        "Adding our job to existing job flow j-34Q4HR41T9BWU\r\n"
       ]
      },
      {
       "output_type": "stream",
       "stream": "stdout",
       "text": [
        "Job launched 30.2s ago, status RUNNING: Running step (mr_weather_sanity_1.ubuntu.20140611.085323.714187: Step 1 of 1)\r\n"
       ]
      },
      {
       "output_type": "stream",
       "stream": "stdout",
       "text": [
        "Job launched 60.4s ago, status RUNNING: Running step (mr_weather_sanity_1.ubuntu.20140611.085323.714187: Step 1 of 1)\r\n"
       ]
      },
      {
       "output_type": "stream",
       "stream": "stdout",
       "text": [
        "Job launched 90.6s ago, status RUNNING: Running step (mr_weather_sanity_1.ubuntu.20140611.085323.714187: Step 1 of 1)\r\n"
       ]
      },
      {
       "output_type": "stream",
       "stream": "stdout",
       "text": [
        "Job launched 120.8s ago, status RUNNING: Running step (mr_weather_sanity_1.ubuntu.20140611.085323.714187: Step 1 of 1)\r\n"
       ]
      },
      {
       "output_type": "stream",
       "stream": "stdout",
       "text": [
        "Job launched 151.1s ago, status RUNNING: Running step (mr_weather_sanity_1.ubuntu.20140611.085323.714187: Step 1 of 1)\r\n"
       ]
      },
      {
       "output_type": "stream",
       "stream": "stdout",
       "text": [
        "Job launched 181.3s ago, status RUNNING: Running step (mr_weather_sanity_1.ubuntu.20140611.085323.714187: Step 1 of 1)\r\n"
       ]
      },
      {
       "output_type": "stream",
       "stream": "stdout",
       "text": [
        "Job launched 211.5s ago, status RUNNING: Running step (mr_weather_sanity_1.ubuntu.20140611.085323.714187: Step 1 of 1)\r\n"
       ]
      },
      {
       "output_type": "stream",
       "stream": "stdout",
       "text": [
        "Job launched 241.7s ago, status RUNNING: Running step (mr_weather_sanity_1.ubuntu.20140611.085323.714187: Step 1 of 1)\r\n"
       ]
      },
      {
       "output_type": "stream",
       "stream": "stdout",
       "text": [
        "Job launched 271.9s ago, status RUNNING: Running step (mr_weather_sanity_1.ubuntu.20140611.085323.714187: Step 1 of 1)\r\n"
       ]
      },
      {
       "output_type": "stream",
       "stream": "stdout",
       "text": [
        "Job launched 302.2s ago, status RUNNING: Running step (mr_weather_sanity_1.ubuntu.20140611.085323.714187: Step 1 of 1)\r\n"
       ]
      },
      {
       "output_type": "stream",
       "stream": "stdout",
       "text": [
        "Job launched 332.4s ago, status RUNNING: Running step (mr_weather_sanity_1.ubuntu.20140611.085323.714187: Step 1 of 1)\r\n"
       ]
      }
     ]
    },
    {
     "cell_type": "code",
     "collapsed": false,
     "input": [
      "!ls -l"
     ],
     "language": "python",
     "metadata": {},
     "outputs": [
      {
       "output_type": "stream",
       "stream": "stdout",
       "text": [
        "total 484204\r\n",
        "-rw-rw-r-- 1 ubuntu ubuntu 375385535 Jun 10 05:27 dfStats.pkl\r\n",
        "-rw-rw-r-- 1 ubuntu ubuntu      1392 Jun 11 07:43 mr_weather_sanity.py\r\n",
        "-rw-rw-r-- 1 ubuntu ubuntu   8051413 Jun 10 07:56 stations.pkl\r\n",
        "-rw-rw-r-- 1 ubuntu ubuntu 108837432 Jun 10 05:15 station_statistics.pkl\r\n",
        "-rw-rw-r-- 1 ubuntu ubuntu      4503 Jun 11 08:11 TMINTMAX_range.pkl\r\n",
        "-rw-rw-r-- 1 ubuntu ubuntu     15604 Jun 11 08:08 weather_analysis_pca.ipynb\r\n",
        "-rw-rw-r-- 1 ubuntu ubuntu     28114 Jun 11 08:11 weather_analysis_sanity-check.ipynb\r\n",
        "-rw-rw-r-- 1 ubuntu ubuntu   3482419 Jun 11 06:33 weather_analysis_station-statistics.ipynb\r\n"
       ]
      }
     ],
     "prompt_number": 52
    },
    {
     "cell_type": "code",
     "collapsed": false,
     "input": [
      "f=open('TMINTMAX_range.pkl','r')\n",
      "lines=f.readlines()\n",
      "f.close()"
     ],
     "language": "python",
     "metadata": {},
     "outputs": [],
     "prompt_number": 53
    },
    {
     "cell_type": "code",
     "collapsed": false,
     "input": [
      "centers = []\n",
      "hist = []\n",
      "for line in lines:\n",
      "    line = line.strip()\n",
      "    centers.append(float(line.split('\\t')[0]))\n",
      "    hist.append(float(line.split('\\t')[1]))    \n",
      "centers = np.array(centers)\n",
      "hist = np.array(hist)"
     ],
     "language": "python",
     "metadata": {},
     "outputs": [],
     "prompt_number": 63
    },
    {
     "cell_type": "code",
     "collapsed": false,
     "input": [
      "print centers"
     ],
     "language": "python",
     "metadata": {},
     "outputs": [
      {
       "output_type": "stream",
       "stream": "stdout",
       "text": [
        "[-103.2575 -113.2825 -127.3175 -147.3675 -169.4225 -175.4375 -193.4825\n",
        " -195.4875  -25.0625  -35.0875  -99.2475    1.0025  123.3075  129.3225\n",
        "  135.3375  149.3725  155.3875  163.4075  169.4225  181.4525  183.4575\n",
        "  189.4725   19.0475    3.0075   53.1325   59.1475   85.2125 -109.2725\n",
        "  -11.0275 -137.3425 -165.4125 -191.4775  -23.0575  -41.1025  -49.1225\n",
        "  -59.1475  -75.1875  -87.2175   13.0325  145.3625  177.4425  179.4475\n",
        "  199.4975   35.0875   41.1025   51.1275   79.1975 -115.2875 -133.3325\n",
        " -139.3475  -15.0375 -153.3825 -159.3975 -185.4625 -187.4675  -27.0675\n",
        "  -47.1175  -81.2025   -9.0225  113.2825  141.3525   27.0675   29.0725\n",
        "   39.0975    5.0125    7.0175   71.1775   73.1825 -105.2625 -121.3025\n",
        " -123.3075 -129.3225 -141.3525 -149.3725 -155.3875 -181.4525  -29.0725\n",
        "  -31.0775  -63.1575  -67.1675  -69.1725  -95.2375  101.2525  103.2575\n",
        "  109.2725  115.2875  137.3425  143.3575   15.0375  157.3925  191.4775\n",
        "   25.0625   47.1175   81.2025   87.2175   97.2425 -111.2775  -13.0325\n",
        " -143.3575  -17.0425 -171.4275 -177.4425 -179.4475 -197.4925 -199.4975\n",
        "   -3.0075  -45.1125   -5.0125  -51.1275  -55.1375  -57.1425  -83.2075\n",
        "  -89.2225  125.3125  131.3275  139.3475  151.3775  159.3975  165.4125\n",
        "  167.4175  173.4325  185.4625  187.4675   31.0775   33.0825   37.0925\n",
        "   65.1625   69.1725   75.1875    9.0225   -1.0025 -107.2675 -117.2925\n",
        " -161.4025 -167.4175  -39.0975  -43.1075  -61.1525  -71.1775  -73.1825\n",
        "  121.3025  127.3175  147.3675   17.0425  175.4375   21.0525   57.1425\n",
        "   89.2225   91.2275   95.2375   99.2475 -101.2525 -135.3375 -157.3925\n",
        " -163.4075 -183.4575 -189.4725  -21.0525  -33.0825  -53.1325  -65.1625\n",
        "   -7.0175  -77.1925  -91.2275  -93.2325  -97.2425   11.0275  111.2775\n",
        "  117.2925  171.4275  197.4925   23.0575   43.1075   45.1125   49.1225\n",
        "   55.1375   67.1675   77.1925   83.2075 -119.2975 -125.3125 -131.3275\n",
        " -145.3625 -151.3775 -173.4325  -19.0475  -37.0925  -79.1975  -85.2125\n",
        "  105.2625  107.2675  119.2975  133.3325  153.3825  161.4025  193.4825\n",
        "  195.4875   61.1525   63.1575   93.2325]\n"
       ]
      }
     ],
     "prompt_number": 72
    },
    {
     "cell_type": "code",
     "collapsed": false,
     "input": [
      "plt.figure()\n",
      "plt.bars(centers,hist)"
     ],
     "language": "python",
     "metadata": {},
     "outputs": [
      {
       "metadata": {},
       "output_type": "pyout",
       "prompt_number": 77,
       "text": [
        "[<matplotlib.lines.Line2D at 0xb980bd0>]"
       ]
      },
      {
       "metadata": {},
       "output_type": "display_data",
       "png": "[encoded data removed]",
       "text": [
        "<matplotlib.figure.Figure at 0x10a11a50>"
       ]
      }
     ],
     "prompt_number": 77
    }
   ],
   "metadata": {}
  }
 ]
}