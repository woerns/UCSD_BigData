{
 "metadata": {
  "name": ""
 },
 "nbformat": 3,
 "nbformat_minor": 0,
 "worksheets": [
  {
   "cells": [
    {
     "cell_type": "markdown",
     "metadata": {},
     "source": [
      "## The homework review protocol ##\n",
      "\n",
      "#### There are many goals to the HWs:\n",
      "\n",
      "1. Review and deepen the material learned in class.\n",
      "1. Exercise programming: numpy, scipy, Pandas, iPython notebooks, AWS, git etc.\n",
      "1. Make a convincing argument in english.\n",
      "1. Give each other constructive criticism.\n",
      "1. Effectively improve each other's work.\n",
      "\n",
      "#### The Review process will be as follows\n",
      "\n",
      "1. Each student works on the assignment notebook(s) by him/her self.\n",
      "1. At the due time, each student makes their altered notebooks available on their public github. The location of the notebook should be the same as the location of the source notebook on the github node **yoavfreund/UCSD_BigData**\n",
      "1. Each student will be assigned to review the HW of two other students and each HW will be assigned two reviewers.\n",
      "1. The student that holds the review will add the two students as **collaborators** on the github site so that they can alter the notebooks.\n",
      "1. Each reviewer writes a review of the HW. The review will be added one or more markdown cells to the notebook. The name of the reviewer should be added at the title of each review cell. There has to be a summary cell at the end of the notebook.\n",
      "1. The reviews of the two reviewers will appear on the same notebook. Use frequent pull and push commands to make sure that the combined version is synchronized.\n",
      "1. After reading each other reviews and possibly discussing them, the two reviewers have to agree on the **Initial Grade** which is a number between 0 and 100. This has to be done 3 days after the initial HW is due.\n",
      "1. Once the Initial reviews are in, each student have the opportunity to improve their HW according to the reviews they were given. The reviewers are encouraged to help them in doing so.\n",
      "1. Three days after the initial review was given, the same two reviewers agree on a **Final Grade**, which is also a number between 0 and 100. A final cell, written by both reviewers, should clearly justify the improvement in the grade.\n",
      "\n",
      "Let $j,k$ be the two students that student $i$ reviews. Let $I_n,F_n$ be the Initial and final grade assigned to student $n$.  \n",
      "The **Recorded Grade** for student $i$ is calculated with the following formula:\n",
      "\n",
      "$$ R_i = \\frac{I_i+F_i}{2} + \\frac{F_j-I_j}{2} + \\frac{F_k-I_k}{2} $$\n",
      "\n",
      "As you can see, if the grade of a student whose HW you reviewed has increased (in a well justified way) then your recorded grade will also increase. The goal is to incentivise you to give the students whose work you review meaningful and actionable advice and to further help them improve their work. However you should **not** work on their notebook yourself. Also, all versions of the notebook should be public so that I can read through them if I want to.\n",
      "\n",
      "#### Guidelines as to what you should be looking for in a good Notebook:\n",
      "\n",
      "1. **Understanding** Does the notebook demonstrate an understanding of the concepts under study?\n",
      "1. **Completeness** How many of the suggested excercises have been completed?\n",
      "1. **Initiative** Did the student go beyond what was suggested?\n",
      "1. **Programming** Are the programs simple and easy to follow? Does the student make use of the full strength of Python and its libraries (Pandas, numpy.linalg ..).\n",
      "1. **Description** How good are the descriptions given in the markdown cells? Are they clear? Are they convincing? Are they well integrated with the code and graphics cells?\n",
      "\n",
      "These guidelines are only, well, guidelines. If you and your partner-reviewer find other meaningful criteria, feel free to include them in your reviews."
     ]
    },
    {
     "cell_type": "code",
     "collapsed": false,
     "input": [],
     "language": "python",
     "metadata": {},
     "outputs": []
    }
   ],
   "metadata": {}
  }
 ]
}